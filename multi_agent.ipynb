{
 "cells": [
  {
   "cell_type": "markdown",
   "metadata": {},
   "source": [
    "# Multi-Agent"
   ]
  },
  {
   "cell_type": "markdown",
   "metadata": {},
   "source": [
    "              +----------------+\n",
    "              | Manager agent  |\n",
    "              +----------------+\n",
    "                       |\n",
    "        _______________|______________\n",
    "       |                              |\n",
    "Code Interpreter            +------------------+\n",
    "    tool                    | Web Search agent |\n",
    "                            +------------------+\n",
    "                               |            |\n",
    "                        Web Search tool     |\n",
    "                                   Visit webpage tool"
   ]
  },
  {
   "cell_type": "code",
   "execution_count": 1,
   "metadata": {},
   "outputs": [],
   "source": [
    "! pip install markdownify duckduckgo-search smolagents --upgrade -q"
   ]
  },
  {
   "cell_type": "code",
   "execution_count": 5,
   "metadata": {},
   "outputs": [],
   "source": [
    "from huggingface_hub import login"
   ]
  },
  {
   "cell_type": "code",
   "execution_count": 7,
   "metadata": {},
   "outputs": [],
   "source": [
    "model_id = \"Qwen/Qwen2.5-Coder-32B-Instruct\""
   ]
  },
  {
   "cell_type": "markdown",
   "metadata": {},
   "source": [
    "## Web search tool"
   ]
  },
  {
   "cell_type": "code",
   "execution_count": 16,
   "metadata": {},
   "outputs": [],
   "source": [
    "import re\n",
    "import requests\n",
    "from markdownify import markdownify\n",
    "from requests.exceptions import RequestException\n",
    "from smolagents import tool\n",
    "import pandas as pd\n",
    "\n",
    "@tool\n",
    "def visit_webpage(url: str) -> str:\n",
    "    \"\"\"Visits a webpage at the given URL and returns its content as a markdown string.\n",
    "\n",
    "    Args:\n",
    "        url: The URL of the webpage to visit.\n",
    "\n",
    "    Returns:\n",
    "        The content of the webpage converted to Markdown, or an error message if the request fails.\n",
    "    \"\"\"\n",
    "    try:\n",
    "        # Send a GET request to the URL\n",
    "        response = requests.get(url)\n",
    "        response.raise_for_status()  # Raise an exception for bad status codes\n",
    "\n",
    "        # Convert the HTML content to Markdown\n",
    "        markdown_content = markdownify(response.text).strip()\n",
    "\n",
    "        # Remove multiple line breaks\n",
    "        markdown_content = re.sub(r\"\\n{3,}\", \"\\n\\n\", markdown_content)\n",
    "        # Remove markdown headers\n",
    "        markdown_content = re.sub(r\"^#+ \", \"\", markdown_content) \n",
    "\n",
    "        return markdown_content\n",
    "\n",
    "    except RequestException as e:\n",
    "        return f\"Error fetching the webpage: {str(e)}\"\n",
    "    except Exception as e:\n",
    "        return f\"An unexpected error occurred: {str(e)}\""
   ]
  },
  {
   "cell_type": "code",
   "execution_count": 9,
   "metadata": {},
   "outputs": [
    {
     "name": "stdout",
     "output_type": "stream",
     "text": [
      "Hugging Face - Wikipedia\n",
      "\n",
      "[Jump to content](#bodyContent)\n",
      "\n",
      "Main menu\n",
      "\n",
      "Main menu\n",
      "\n",
      "move to sidebar\n",
      "hide\n",
      "\n",
      "Navigation\n",
      "\n",
      "* [Main page](/wiki/Main_Page \"Visit the main page [z]\")\n",
      "* [Contents](/wiki/Wikipedia:Contents \"Guides to browsing Wikipedia\")\n",
      "* [Current events](/wiki/Portal:Current_events \"Articles related to current events\")\n",
      "* [Random article](/wiki/Special:Random \"Visit a randomly selected article [x]\")\n",
      "* [About Wikipedia](/wiki/Wikipedia:About \"Learn about Wikipedia and how it works\")\n",
      "* [Conta\n"
     ]
    }
   ],
   "source": [
    "print(visit_webpage(\"https://en.wikipedia.org/wiki/Hugging_Face\")[:500])"
   ]
  },
  {
   "cell_type": "markdown",
   "metadata": {},
   "source": [
    "# Multi-Agent System\n"
   ]
  },
  {
   "cell_type": "code",
   "execution_count": 17,
   "metadata": {},
   "outputs": [],
   "source": [
    "from smolagents import (\n",
    "    CodeAgent,\n",
    "    ToolCallingAgent,\n",
    "    HfApiModel,\n",
    "    DuckDuckGoSearchTool,\n",
    "    LiteLLMModel,\n",
    ")\n",
    "\n",
    "model = HfApiModel(model_id)\n",
    "\n",
    "web_agent = ToolCallingAgent(\n",
    "    tools=[DuckDuckGoSearchTool(), visit_webpage],\n",
    "    model=model,\n",
    "    max_steps=1,\n",
    "    name=\"web_search_agent\",\n",
    "    description=\"Runs web searches for you.\",\n",
    ")"
   ]
  },
  {
   "cell_type": "code",
   "execution_count": 18,
   "metadata": {},
   "outputs": [],
   "source": [
    "manager_agent = CodeAgent(\n",
    "    tools=[],\n",
    "    model=model,\n",
    "    managed_agents=[web_agent],\n",
    "    additional_authorized_imports=[\"time\", \"numpy\", \"pandas\", \"json\"],\n",
    ")"
   ]
  },
  {
   "cell_type": "code",
   "execution_count": 19,
   "metadata": {},
   "outputs": [
    {
     "data": {
      "text/html": [
       "<pre style=\"white-space:pre;overflow-x:auto;line-height:normal;font-family:Menlo,'DejaVu Sans Mono',consolas,'Courier New',monospace\"><span style=\"color: #d4b702; text-decoration-color: #d4b702\">╭──────────────────────────────────────────────────── </span><span style=\"color: #d4b702; text-decoration-color: #d4b702; font-weight: bold\">New run</span><span style=\"color: #d4b702; text-decoration-color: #d4b702\"> ────────────────────────────────────────────────────╮</span>\n",
       "<span style=\"color: #d4b702; text-decoration-color: #d4b702\">│</span>                                                                                                                 <span style=\"color: #d4b702; text-decoration-color: #d4b702\">│</span>\n",
       "<span style=\"color: #d4b702; text-decoration-color: #d4b702\">│</span> <span style=\"font-weight: bold\">Make a comparative table of all wine cépages for red wine in France with the following information: name, </span>      <span style=\"color: #d4b702; text-decoration-color: #d4b702\">│</span>\n",
       "<span style=\"color: #d4b702; text-decoration-color: #d4b702\">│</span> <span style=\"font-weight: bold\">color, grape variety, region, price, and rating.</span>                                                                <span style=\"color: #d4b702; text-decoration-color: #d4b702\">│</span>\n",
       "<span style=\"color: #d4b702; text-decoration-color: #d4b702\">│</span>                                                                                                                 <span style=\"color: #d4b702; text-decoration-color: #d4b702\">│</span>\n",
       "<span style=\"color: #d4b702; text-decoration-color: #d4b702\">╰─ HfApiModel - Qwen/Qwen2.5-Coder-32B-Instruct ──────────────────────────────────────────────────────────────────╯</span>\n",
       "</pre>\n"
      ],
      "text/plain": [
       "\u001b[38;2;212;183;2m╭─\u001b[0m\u001b[38;2;212;183;2m───────────────────────────────────────────────────\u001b[0m\u001b[38;2;212;183;2m \u001b[0m\u001b[1;38;2;212;183;2mNew run\u001b[0m\u001b[38;2;212;183;2m \u001b[0m\u001b[38;2;212;183;2m───────────────────────────────────────────────────\u001b[0m\u001b[38;2;212;183;2m─╮\u001b[0m\n",
       "\u001b[38;2;212;183;2m│\u001b[0m                                                                                                                 \u001b[38;2;212;183;2m│\u001b[0m\n",
       "\u001b[38;2;212;183;2m│\u001b[0m \u001b[1mMake a comparative table of all wine cépages for red wine in France with the following information: name, \u001b[0m      \u001b[38;2;212;183;2m│\u001b[0m\n",
       "\u001b[38;2;212;183;2m│\u001b[0m \u001b[1mcolor, grape variety, region, price, and rating.\u001b[0m                                                                \u001b[38;2;212;183;2m│\u001b[0m\n",
       "\u001b[38;2;212;183;2m│\u001b[0m                                                                                                                 \u001b[38;2;212;183;2m│\u001b[0m\n",
       "\u001b[38;2;212;183;2m╰─\u001b[0m\u001b[38;2;212;183;2m HfApiModel - Qwen/Qwen2.5-Coder-32B-Instruct \u001b[0m\u001b[38;2;212;183;2m─────────────────────────────────────────────────────────────────\u001b[0m\u001b[38;2;212;183;2m─╯\u001b[0m\n"
      ]
     },
     "metadata": {},
     "output_type": "display_data"
    },
    {
     "data": {
      "text/html": [
       "<pre style=\"white-space:pre;overflow-x:auto;line-height:normal;font-family:Menlo,'DejaVu Sans Mono',consolas,'Courier New',monospace\"><span style=\"color: #d4b702; text-decoration-color: #d4b702\">━━━━━━━━━━━━━━━━━━━━━━━━━━━━━━━━━━━━━━━━━━━━━━━━━━━━━ </span><span style=\"font-weight: bold\">Step </span><span style=\"color: #008080; text-decoration-color: #008080; font-weight: bold\">1</span><span style=\"color: #d4b702; text-decoration-color: #d4b702\"> ━━━━━━━━━━━━━━━━━━━━━━━━━━━━━━━━━━━━━━━━━━━━━━━━━━━━━━</span>\n",
       "</pre>\n"
      ],
      "text/plain": [
       "\u001b[38;2;212;183;2m━━━━━━━━━━━━━━━━━━━━━━━━━━━━━━━━━━━━━━━━━━━━━━━━━━━━━ \u001b[0m\u001b[1mStep \u001b[0m\u001b[1;36m1\u001b[0m\u001b[38;2;212;183;2m ━━━━━━━━━━━━━━━━━━━━━━━━━━━━━━━━━━━━━━━━━━━━━━━━━━━━━━\u001b[0m\n"
      ]
     },
     "metadata": {},
     "output_type": "display_data"
    },
    {
     "data": {
      "text/html": [
       "<pre style=\"white-space:pre;overflow-x:auto;line-height:normal;font-family:Menlo,'DejaVu Sans Mono',consolas,'Courier New',monospace\"> ─ <span style=\"font-weight: bold\">Executing parsed code:</span> ──────────────────────────────────────────────────────────────────────────────────────── \n",
       "  <span style=\"color: #f8f8f2; text-decoration-color: #f8f8f2; background-color: #272822\">wine_cepages_search </span><span style=\"color: #ff4689; text-decoration-color: #ff4689; background-color: #272822\">=</span><span style=\"color: #f8f8f2; text-decoration-color: #f8f8f2; background-color: #272822\"> web_search_agent(task</span><span style=\"color: #ff4689; text-decoration-color: #ff4689; background-color: #272822\">=</span><span style=\"color: #e6db74; text-decoration-color: #e6db74; background-color: #272822\">\"Provide a detailed list of red wine cépages in France, including </span><span style=\"background-color: #272822\"> </span>  \n",
       "  <span style=\"color: #e6db74; text-decoration-color: #e6db74; background-color: #272822\">details about grape variety, region, price, and rating.\"</span><span style=\"color: #f8f8f2; text-decoration-color: #f8f8f2; background-color: #272822\">)</span><span style=\"background-color: #272822\">                                                      </span>  \n",
       "  <span style=\"color: #f8f8f2; text-decoration-color: #f8f8f2; background-color: #272822\">print(wine_cepages_search)</span><span style=\"background-color: #272822\">                                                                                     </span>  \n",
       " ───────────────────────────────────────────────────────────────────────────────────────────────────────────────── \n",
       "</pre>\n"
      ],
      "text/plain": [
       " ─ \u001b[1mExecuting parsed code:\u001b[0m ──────────────────────────────────────────────────────────────────────────────────────── \n",
       "  \u001b[38;2;248;248;242;48;2;39;40;34mwine_cepages_search\u001b[0m\u001b[38;2;248;248;242;48;2;39;40;34m \u001b[0m\u001b[38;2;255;70;137;48;2;39;40;34m=\u001b[0m\u001b[38;2;248;248;242;48;2;39;40;34m \u001b[0m\u001b[38;2;248;248;242;48;2;39;40;34mweb_search_agent\u001b[0m\u001b[38;2;248;248;242;48;2;39;40;34m(\u001b[0m\u001b[38;2;248;248;242;48;2;39;40;34mtask\u001b[0m\u001b[38;2;255;70;137;48;2;39;40;34m=\u001b[0m\u001b[38;2;230;219;116;48;2;39;40;34m\"\u001b[0m\u001b[38;2;230;219;116;48;2;39;40;34mProvide a detailed list of red wine cépages in France, including \u001b[0m\u001b[48;2;39;40;34m \u001b[0m  \n",
       "  \u001b[38;2;230;219;116;48;2;39;40;34mdetails about grape variety, region, price, and rating.\u001b[0m\u001b[38;2;230;219;116;48;2;39;40;34m\"\u001b[0m\u001b[38;2;248;248;242;48;2;39;40;34m)\u001b[0m\u001b[48;2;39;40;34m                                                      \u001b[0m  \n",
       "  \u001b[38;2;248;248;242;48;2;39;40;34mprint\u001b[0m\u001b[38;2;248;248;242;48;2;39;40;34m(\u001b[0m\u001b[38;2;248;248;242;48;2;39;40;34mwine_cepages_search\u001b[0m\u001b[38;2;248;248;242;48;2;39;40;34m)\u001b[0m\u001b[48;2;39;40;34m                                                                                     \u001b[0m  \n",
       " ───────────────────────────────────────────────────────────────────────────────────────────────────────────────── \n"
      ]
     },
     "metadata": {},
     "output_type": "display_data"
    },
    {
     "data": {
      "text/html": [
       "<pre style=\"white-space:pre;overflow-x:auto;line-height:normal;font-family:Menlo,'DejaVu Sans Mono',consolas,'Courier New',monospace\"><span style=\"color: #d4b702; text-decoration-color: #d4b702\">╭────────────────────────────────────────── </span><span style=\"color: #d4b702; text-decoration-color: #d4b702; font-weight: bold\">New run - web_search_agent</span><span style=\"color: #d4b702; text-decoration-color: #d4b702\"> ───────────────────────────────────────────╮</span>\n",
       "<span style=\"color: #d4b702; text-decoration-color: #d4b702\">│</span>                                                                                                                 <span style=\"color: #d4b702; text-decoration-color: #d4b702\">│</span>\n",
       "<span style=\"color: #d4b702; text-decoration-color: #d4b702\">│</span> <span style=\"font-weight: bold\">You're a helpful agent named 'web_search_agent'.</span>                                                                <span style=\"color: #d4b702; text-decoration-color: #d4b702\">│</span>\n",
       "<span style=\"color: #d4b702; text-decoration-color: #d4b702\">│</span> <span style=\"font-weight: bold\">You have been submitted this task by your manager.</span>                                                              <span style=\"color: #d4b702; text-decoration-color: #d4b702\">│</span>\n",
       "<span style=\"color: #d4b702; text-decoration-color: #d4b702\">│</span> <span style=\"font-weight: bold\">---</span>                                                                                                             <span style=\"color: #d4b702; text-decoration-color: #d4b702\">│</span>\n",
       "<span style=\"color: #d4b702; text-decoration-color: #d4b702\">│</span> <span style=\"font-weight: bold\">Task:</span>                                                                                                           <span style=\"color: #d4b702; text-decoration-color: #d4b702\">│</span>\n",
       "<span style=\"color: #d4b702; text-decoration-color: #d4b702\">│</span> <span style=\"font-weight: bold\">Provide a detailed list of red wine cépages in France, including details about grape variety, region, price, </span>   <span style=\"color: #d4b702; text-decoration-color: #d4b702\">│</span>\n",
       "<span style=\"color: #d4b702; text-decoration-color: #d4b702\">│</span> <span style=\"font-weight: bold\">and rating.</span>                                                                                                     <span style=\"color: #d4b702; text-decoration-color: #d4b702\">│</span>\n",
       "<span style=\"color: #d4b702; text-decoration-color: #d4b702\">│</span> <span style=\"font-weight: bold\">---</span>                                                                                                             <span style=\"color: #d4b702; text-decoration-color: #d4b702\">│</span>\n",
       "<span style=\"color: #d4b702; text-decoration-color: #d4b702\">│</span> <span style=\"font-weight: bold\">You're helping your manager solve a wider task: so make sure to not provide a one-line answer, but give as much</span> <span style=\"color: #d4b702; text-decoration-color: #d4b702\">│</span>\n",
       "<span style=\"color: #d4b702; text-decoration-color: #d4b702\">│</span> <span style=\"font-weight: bold\">information as possible to give them a clear understanding of the answer.</span>                                       <span style=\"color: #d4b702; text-decoration-color: #d4b702\">│</span>\n",
       "<span style=\"color: #d4b702; text-decoration-color: #d4b702\">│</span>                                                                                                                 <span style=\"color: #d4b702; text-decoration-color: #d4b702\">│</span>\n",
       "<span style=\"color: #d4b702; text-decoration-color: #d4b702\">│</span> <span style=\"font-weight: bold\">Your final_answer WILL HAVE to contain these parts:</span>                                                             <span style=\"color: #d4b702; text-decoration-color: #d4b702\">│</span>\n",
       "<span style=\"color: #d4b702; text-decoration-color: #d4b702\">│</span> <span style=\"font-weight: bold\">### 1. Task outcome (short version):</span>                                                                            <span style=\"color: #d4b702; text-decoration-color: #d4b702\">│</span>\n",
       "<span style=\"color: #d4b702; text-decoration-color: #d4b702\">│</span> <span style=\"font-weight: bold\">### 2. Task outcome (extremely detailed version):</span>                                                               <span style=\"color: #d4b702; text-decoration-color: #d4b702\">│</span>\n",
       "<span style=\"color: #d4b702; text-decoration-color: #d4b702\">│</span> <span style=\"font-weight: bold\">### 3. Additional context (if relevant):</span>                                                                        <span style=\"color: #d4b702; text-decoration-color: #d4b702\">│</span>\n",
       "<span style=\"color: #d4b702; text-decoration-color: #d4b702\">│</span>                                                                                                                 <span style=\"color: #d4b702; text-decoration-color: #d4b702\">│</span>\n",
       "<span style=\"color: #d4b702; text-decoration-color: #d4b702\">│</span> <span style=\"font-weight: bold\">Put all these in your final_answer tool, everything that you do not pass as an argument to final_answer will be</span> <span style=\"color: #d4b702; text-decoration-color: #d4b702\">│</span>\n",
       "<span style=\"color: #d4b702; text-decoration-color: #d4b702\">│</span> <span style=\"font-weight: bold\">lost.</span>                                                                                                           <span style=\"color: #d4b702; text-decoration-color: #d4b702\">│</span>\n",
       "<span style=\"color: #d4b702; text-decoration-color: #d4b702\">│</span> <span style=\"font-weight: bold\">And even if your task resolution is not successful, please return as much context as possible, so that your </span>    <span style=\"color: #d4b702; text-decoration-color: #d4b702\">│</span>\n",
       "<span style=\"color: #d4b702; text-decoration-color: #d4b702\">│</span> <span style=\"font-weight: bold\">manager can act upon this feedback.</span>                                                                             <span style=\"color: #d4b702; text-decoration-color: #d4b702\">│</span>\n",
       "<span style=\"color: #d4b702; text-decoration-color: #d4b702\">│</span>                                                                                                                 <span style=\"color: #d4b702; text-decoration-color: #d4b702\">│</span>\n",
       "<span style=\"color: #d4b702; text-decoration-color: #d4b702\">╰─ HfApiModel - Qwen/Qwen2.5-Coder-32B-Instruct ──────────────────────────────────────────────────────────────────╯</span>\n",
       "</pre>\n"
      ],
      "text/plain": [
       "\u001b[38;2;212;183;2m╭─\u001b[0m\u001b[38;2;212;183;2m─────────────────────────────────────────\u001b[0m\u001b[38;2;212;183;2m \u001b[0m\u001b[1;38;2;212;183;2mNew run - web_search_agent\u001b[0m\u001b[38;2;212;183;2m \u001b[0m\u001b[38;2;212;183;2m──────────────────────────────────────────\u001b[0m\u001b[38;2;212;183;2m─╮\u001b[0m\n",
       "\u001b[38;2;212;183;2m│\u001b[0m                                                                                                                 \u001b[38;2;212;183;2m│\u001b[0m\n",
       "\u001b[38;2;212;183;2m│\u001b[0m \u001b[1mYou're a helpful agent named 'web_search_agent'.\u001b[0m                                                                \u001b[38;2;212;183;2m│\u001b[0m\n",
       "\u001b[38;2;212;183;2m│\u001b[0m \u001b[1mYou have been submitted this task by your manager.\u001b[0m                                                              \u001b[38;2;212;183;2m│\u001b[0m\n",
       "\u001b[38;2;212;183;2m│\u001b[0m \u001b[1m---\u001b[0m                                                                                                             \u001b[38;2;212;183;2m│\u001b[0m\n",
       "\u001b[38;2;212;183;2m│\u001b[0m \u001b[1mTask:\u001b[0m                                                                                                           \u001b[38;2;212;183;2m│\u001b[0m\n",
       "\u001b[38;2;212;183;2m│\u001b[0m \u001b[1mProvide a detailed list of red wine cépages in France, including details about grape variety, region, price, \u001b[0m   \u001b[38;2;212;183;2m│\u001b[0m\n",
       "\u001b[38;2;212;183;2m│\u001b[0m \u001b[1mand rating.\u001b[0m                                                                                                     \u001b[38;2;212;183;2m│\u001b[0m\n",
       "\u001b[38;2;212;183;2m│\u001b[0m \u001b[1m---\u001b[0m                                                                                                             \u001b[38;2;212;183;2m│\u001b[0m\n",
       "\u001b[38;2;212;183;2m│\u001b[0m \u001b[1mYou're helping your manager solve a wider task: so make sure to not provide a one-line answer, but give as much\u001b[0m \u001b[38;2;212;183;2m│\u001b[0m\n",
       "\u001b[38;2;212;183;2m│\u001b[0m \u001b[1minformation as possible to give them a clear understanding of the answer.\u001b[0m                                       \u001b[38;2;212;183;2m│\u001b[0m\n",
       "\u001b[38;2;212;183;2m│\u001b[0m                                                                                                                 \u001b[38;2;212;183;2m│\u001b[0m\n",
       "\u001b[38;2;212;183;2m│\u001b[0m \u001b[1mYour final_answer WILL HAVE to contain these parts:\u001b[0m                                                             \u001b[38;2;212;183;2m│\u001b[0m\n",
       "\u001b[38;2;212;183;2m│\u001b[0m \u001b[1m### 1. Task outcome (short version):\u001b[0m                                                                            \u001b[38;2;212;183;2m│\u001b[0m\n",
       "\u001b[38;2;212;183;2m│\u001b[0m \u001b[1m### 2. Task outcome (extremely detailed version):\u001b[0m                                                               \u001b[38;2;212;183;2m│\u001b[0m\n",
       "\u001b[38;2;212;183;2m│\u001b[0m \u001b[1m### 3. Additional context (if relevant):\u001b[0m                                                                        \u001b[38;2;212;183;2m│\u001b[0m\n",
       "\u001b[38;2;212;183;2m│\u001b[0m                                                                                                                 \u001b[38;2;212;183;2m│\u001b[0m\n",
       "\u001b[38;2;212;183;2m│\u001b[0m \u001b[1mPut all these in your final_answer tool, everything that you do not pass as an argument to final_answer will be\u001b[0m \u001b[38;2;212;183;2m│\u001b[0m\n",
       "\u001b[38;2;212;183;2m│\u001b[0m \u001b[1mlost.\u001b[0m                                                                                                           \u001b[38;2;212;183;2m│\u001b[0m\n",
       "\u001b[38;2;212;183;2m│\u001b[0m \u001b[1mAnd even if your task resolution is not successful, please return as much context as possible, so that your \u001b[0m    \u001b[38;2;212;183;2m│\u001b[0m\n",
       "\u001b[38;2;212;183;2m│\u001b[0m \u001b[1mmanager can act upon this feedback.\u001b[0m                                                                             \u001b[38;2;212;183;2m│\u001b[0m\n",
       "\u001b[38;2;212;183;2m│\u001b[0m                                                                                                                 \u001b[38;2;212;183;2m│\u001b[0m\n",
       "\u001b[38;2;212;183;2m╰─\u001b[0m\u001b[38;2;212;183;2m HfApiModel - Qwen/Qwen2.5-Coder-32B-Instruct \u001b[0m\u001b[38;2;212;183;2m─────────────────────────────────────────────────────────────────\u001b[0m\u001b[38;2;212;183;2m─╯\u001b[0m\n"
      ]
     },
     "metadata": {},
     "output_type": "display_data"
    },
    {
     "data": {
      "text/html": [
       "<pre style=\"white-space:pre;overflow-x:auto;line-height:normal;font-family:Menlo,'DejaVu Sans Mono',consolas,'Courier New',monospace\"><span style=\"color: #d4b702; text-decoration-color: #d4b702\">━━━━━━━━━━━━━━━━━━━━━━━━━━━━━━━━━━━━━━━━━━━━━━━━━━━━━ </span><span style=\"font-weight: bold\">Step </span><span style=\"color: #008080; text-decoration-color: #008080; font-weight: bold\">1</span><span style=\"color: #d4b702; text-decoration-color: #d4b702\"> ━━━━━━━━━━━━━━━━━━━━━━━━━━━━━━━━━━━━━━━━━━━━━━━━━━━━━━</span>\n",
       "</pre>\n"
      ],
      "text/plain": [
       "\u001b[38;2;212;183;2m━━━━━━━━━━━━━━━━━━━━━━━━━━━━━━━━━━━━━━━━━━━━━━━━━━━━━ \u001b[0m\u001b[1mStep \u001b[0m\u001b[1;36m1\u001b[0m\u001b[38;2;212;183;2m ━━━━━━━━━━━━━━━━━━━━━━━━━━━━━━━━━━━━━━━━━━━━━━━━━━━━━━\u001b[0m\n"
      ]
     },
     "metadata": {},
     "output_type": "display_data"
    },
    {
     "data": {
      "text/html": [
       "<pre style=\"white-space:pre;overflow-x:auto;line-height:normal;font-family:Menlo,'DejaVu Sans Mono',consolas,'Courier New',monospace\">╭─────────────────────────────────────────────────────────────────────────────────────────────────────────────────╮\n",
       "│ Calling tool: 'web_search' with arguments: {'query': 'list of red wine cépages in France including details      │\n",
       "│ about grape variety, region, price, and rating'}                                                                │\n",
       "╰─────────────────────────────────────────────────────────────────────────────────────────────────────────────────╯\n",
       "</pre>\n"
      ],
      "text/plain": [
       "╭─────────────────────────────────────────────────────────────────────────────────────────────────────────────────╮\n",
       "│ Calling tool: 'web_search' with arguments: {'query': 'list of red wine cépages in France including details      │\n",
       "│ about grape variety, region, price, and rating'}                                                                │\n",
       "╰─────────────────────────────────────────────────────────────────────────────────────────────────────────────────╯\n"
      ]
     },
     "metadata": {},
     "output_type": "display_data"
    },
    {
     "data": {
      "text/html": [
       "<pre style=\"white-space:pre;overflow-x:auto;line-height:normal;font-family:Menlo,'DejaVu Sans Mono',consolas,'Courier New',monospace\">Observations: ## Search Results\n",
       "\n",
       "|French Red Wines: A Guide to the Best Varieties and Regions - Wine \n",
       "Testers<span style=\"font-weight: bold\">](</span><span style=\"color: #0000ff; text-decoration-color: #0000ff; text-decoration: underline\">https://www.winetesters.co/french-red-wines/)</span>\n",
       "The Rhône Valley is located in the south of France, and it is known for producing full-bodied red wines that are \n",
       "rich in flavor. The region produces wines from a variety of grape varieties, such as Syrah, Grenache, and \n",
       "Mourvèdre. The wines are known for their spicy and peppery flavors, with a hint of fruitiness.\n",
       "\n",
       "|French Red Wine <span style=\"font-weight: bold\">(</span>Types, Prices, Best Wines to Buy in <span style=\"color: #008080; text-decoration-color: #008080; font-weight: bold\">2025</span><span style=\"font-weight: bold\">)</span> - \n",
       "Vinovest<span style=\"font-weight: bold\">](</span><span style=\"color: #0000ff; text-decoration-color: #0000ff; text-decoration: underline\">https://www.vinovest.co/blog/french-red-wine)</span>\n",
       "Here are the main grape varieties grown in this region: <span style=\"color: #008080; text-decoration-color: #008080; font-weight: bold\">10</span> Popular Red Wine Grape Varieties in France <span style=\"color: #008080; text-decoration-color: #008080; font-weight: bold\">1</span>. Merlot. \n",
       "Around <span style=\"color: #008080; text-decoration-color: #008080; font-weight: bold\">11</span>% of the world's Merlot wines are made in France, mainly in Bordeaux, Bergerac, Cahors and \n",
       "Languedoc-Roussillon.\n",
       "\n",
       "|Les cépages de France<span style=\"font-weight: bold\">](</span><span style=\"color: #0000ff; text-decoration-color: #0000ff; text-decoration: underline\">https://www.vindefrance.com/cepages-de-france)</span>\n",
       "Ces variétés de raisins qui font la renommée des Vins De France. Comme pour de nombreux fruits, les variétés de \n",
       "vigne produisent des raisins aux styles et aux goûts différents. Pour le plaisir de chaque consommateur de vin. Les\n",
       "plus connus dans le monde sont originaires de France. Merlot, Chardonnay, Sauvignon Blanc ou Syrah : voilà quelques\n",
       "noms de cépages bien français connus dans <span style=\"color: #808000; text-decoration-color: #808000\">...</span>\n",
       "\n",
       "|French Wine <span style=\"color: #008080; text-decoration-color: #008080; font-weight: bold\">101</span> Cheat Sheet <span style=\"font-weight: bold\">(</span>#Winophiles<span style=\"font-weight: bold\">)</span> | Somm's \n",
       "Table<span style=\"font-weight: bold\">](</span><span style=\"color: #0000ff; text-decoration-color: #0000ff; text-decoration: underline\">http://www.sommstable.com/2020/01/french-wine-101-cheat-sheet.html)</span>\n",
       "VdF <span style=\"font-weight: bold\">(</span>Vin de France<span style=\"font-weight: bold\">)</span> - is the most basic tier. <span style=\"font-weight: bold\">(</span>It replaced the Vin de Table category in <span style=\"color: #008080; text-decoration-color: #008080; font-weight: bold\">2010</span>.<span style=\"font-weight: bold\">)</span> It's the least \n",
       "regulated category, but also the least used. VdF wines can be made from grapes grown anywhere in France, and the \n",
       "labels don't mention a specific region of origin, and vintage and grape variety may or may not be included.\n",
       "\n",
       "|Wine Regions of FRANCE - Grape to Glass<span style=\"font-weight: bold\">](</span><span style=\"color: #0000ff; text-decoration-color: #0000ff; text-decoration: underline\">https://grape-to-glass.com/index.php/wine-regions-france/)</span>\n",
       "Burgundy Wine Region: Burgundy is arguably the most <span style=\"color: #008000; text-decoration-color: #008000\">'terroir'</span> oriented wine region in France, and possibly the most\n",
       "complicated. Immense attention is paid to the area of origin, and in which of the region's <span style=\"color: #008080; text-decoration-color: #008080; font-weight: bold\">400</span> types of soil grapes\n",
       "are grown. As opposed to Bordeaux, where classifications are producer-driven and awarded to individual Château.\n",
       "\n",
       "|French Red Wine from Every Region in <span style=\"color: #008080; text-decoration-color: #008080; font-weight: bold\">2024</span> - 8wines.com<span style=\"font-weight: bold\">](</span><span style=\"color: #0000ff; text-decoration-color: #0000ff; text-decoration: underline\">https://8wines.com/blog/best-french-red-wine)</span>\n",
       "This all-encompassing look will take the reader on a trip to the French red wine world by looking into its past, \n",
       "the best wines by region and variety, the ideal food pairings, and much more. A Little History of French Red Wines.\n",
       "The history of French red wine goes back many thousands of years, with evidence of winemaking as old as the 6th <span style=\"color: #808000; text-decoration-color: #808000\">...</span>\n",
       "\n",
       "|French Wine Regions: With Map - Armchair \n",
       "Sommelier<span style=\"font-weight: bold\">](</span><span style=\"color: #0000ff; text-decoration-color: #0000ff; text-decoration: underline\">https://armchairsommelier.com/wine-regions/french-wine-regions/)</span>\n",
       "Chardonnay: This green-skinned grape is grown in many regions of France, including Burgundy, Champagne, and the \n",
       "Loire Valley.The Chardonnay grape produces full-bodied, rich white wines with apple, pear, and vanilla flavors. \n",
       "Merlot: The most common grape in France is prominent in Bordeaux and is gaining ground in the south of \n",
       "France.Merlot is often blended to produce soft, fruity reds with <span style=\"color: #808000; text-decoration-color: #808000\">...</span>\n",
       "\n",
       "|The main wine grape varieties in France - \n",
       "Calvet<span style=\"font-weight: bold\">](</span><span style=\"color: #0000ff; text-decoration-color: #0000ff; text-decoration: underline\">https://www.calvet.com/en/the-main-wine-grape-varieties-in-france/)</span>\n",
       "A delicate red grape, usually combined with petit verdot, merlot or even cabernet sauvignon, it adds roundness and \n",
       "a degree of aromatic intensity. It is a historical grape variety from Saint-Emilion, found in the South-West, \n",
       "Pomerol and Fronsac in particular. Enjoy with meats and traditional dishes. Serving temperature: between <span style=\"color: #008080; text-decoration-color: #008080; font-weight: bold\">11</span>°C and \n",
       "<span style=\"color: #008080; text-decoration-color: #008080; font-weight: bold\">14</span>°C <span style=\"color: #808000; text-decoration-color: #808000\">...</span>\n",
       "\n",
       "|Top-<span style=\"color: #008080; text-decoration-color: #008080; font-weight: bold\">12</span> Red Grapes of France - JH&amp;S<span style=\"font-weight: bold\">](</span><span style=\"color: #0000ff; text-decoration-color: #0000ff; text-decoration: underline\">https://winetrader.ca/top-12-most-widely-grown-red-wine-grapes-of-france/)</span>\n",
       "When buying wine North American consumers love the ease and straightforward nature of labels that express what kind\n",
       "of grape <span style=\"font-weight: bold\">(</span>or grapes<span style=\"font-weight: bold\">)</span> a given wine is made from. That said, most European wines - and especially those from France -\n",
       "tend to emphasize the place a wine was made ahead of the grape variety it was made from on their labels.\n",
       "\n",
       "|Wine map of France with grape flavors | Wine Aroma Maps<span style=\"font-weight: bold\">](</span><span style=\"color: #0000ff; text-decoration-color: #0000ff; text-decoration: underline\">https://winearomamaps.com/?lang=en)</span>\n",
       "The wine aroma map of France shows with pictures the characteristics of the <span style=\"color: #008080; text-decoration-color: #008080; font-weight: bold\">60</span> major red and white wine grapes and \n",
       "all wine regions with their corresponding AOCs <span style=\"color: #808000; text-decoration-color: #808000\">...</span> Per wine region we show the most important red and white grapes \n",
       "ranked from the most to the least widely planted. Grape characteristics. For each grape variety we illustrate the \n",
       "<span style=\"color: #808000; text-decoration-color: #808000\">...</span>\n",
       "</pre>\n"
      ],
      "text/plain": [
       "Observations: ## Search Results\n",
       "\n",
       "|French Red Wines: A Guide to the Best Varieties and Regions - Wine \n",
       "Testers\u001b[1m]\u001b[0m\u001b[1m(\u001b[0m\u001b[4;94mhttps://www.winetesters.co/french-red-wines/\u001b[0m\u001b[4;94m)\u001b[0m\n",
       "The Rhône Valley is located in the south of France, and it is known for producing full-bodied red wines that are \n",
       "rich in flavor. The region produces wines from a variety of grape varieties, such as Syrah, Grenache, and \n",
       "Mourvèdre. The wines are known for their spicy and peppery flavors, with a hint of fruitiness.\n",
       "\n",
       "|French Red Wine \u001b[1m(\u001b[0mTypes, Prices, Best Wines to Buy in \u001b[1;36m2025\u001b[0m\u001b[1m)\u001b[0m - \n",
       "Vinovest\u001b[1m]\u001b[0m\u001b[1m(\u001b[0m\u001b[4;94mhttps://www.vinovest.co/blog/french-red-wine\u001b[0m\u001b[4;94m)\u001b[0m\n",
       "Here are the main grape varieties grown in this region: \u001b[1;36m10\u001b[0m Popular Red Wine Grape Varieties in France \u001b[1;36m1\u001b[0m. Merlot. \n",
       "Around \u001b[1;36m11\u001b[0m% of the world's Merlot wines are made in France, mainly in Bordeaux, Bergerac, Cahors and \n",
       "Languedoc-Roussillon.\n",
       "\n",
       "|Les cépages de France\u001b[1m]\u001b[0m\u001b[1m(\u001b[0m\u001b[4;94mhttps://www.vindefrance.com/cepages-de-france\u001b[0m\u001b[4;94m)\u001b[0m\n",
       "Ces variétés de raisins qui font la renommée des Vins De France. Comme pour de nombreux fruits, les variétés de \n",
       "vigne produisent des raisins aux styles et aux goûts différents. Pour le plaisir de chaque consommateur de vin. Les\n",
       "plus connus dans le monde sont originaires de France. Merlot, Chardonnay, Sauvignon Blanc ou Syrah : voilà quelques\n",
       "noms de cépages bien français connus dans \u001b[33m...\u001b[0m\n",
       "\n",
       "|French Wine \u001b[1;36m101\u001b[0m Cheat Sheet \u001b[1m(\u001b[0m#Winophiles\u001b[1m)\u001b[0m | Somm's \n",
       "Table\u001b[1m]\u001b[0m\u001b[1m(\u001b[0m\u001b[4;94mhttp://www.sommstable.com/2020/01/french-wine-101-cheat-sheet.html\u001b[0m\u001b[4;94m)\u001b[0m\n",
       "VdF \u001b[1m(\u001b[0mVin de France\u001b[1m)\u001b[0m - is the most basic tier. \u001b[1m(\u001b[0mIt replaced the Vin de Table category in \u001b[1;36m2010\u001b[0m.\u001b[1m)\u001b[0m It's the least \n",
       "regulated category, but also the least used. VdF wines can be made from grapes grown anywhere in France, and the \n",
       "labels don't mention a specific region of origin, and vintage and grape variety may or may not be included.\n",
       "\n",
       "|Wine Regions of FRANCE - Grape to Glass\u001b[1m]\u001b[0m\u001b[1m(\u001b[0m\u001b[4;94mhttps://grape-to-glass.com/index.php/wine-regions-france/\u001b[0m\u001b[4;94m)\u001b[0m\n",
       "Burgundy Wine Region: Burgundy is arguably the most \u001b[32m'terroir'\u001b[0m oriented wine region in France, and possibly the most\n",
       "complicated. Immense attention is paid to the area of origin, and in which of the region's \u001b[1;36m400\u001b[0m types of soil grapes\n",
       "are grown. As opposed to Bordeaux, where classifications are producer-driven and awarded to individual Château.\n",
       "\n",
       "|French Red Wine from Every Region in \u001b[1;36m2024\u001b[0m - 8wines.com\u001b[1m]\u001b[0m\u001b[1m(\u001b[0m\u001b[4;94mhttps://8wines.com/blog/best-french-red-wine\u001b[0m\u001b[4;94m)\u001b[0m\n",
       "This all-encompassing look will take the reader on a trip to the French red wine world by looking into its past, \n",
       "the best wines by region and variety, the ideal food pairings, and much more. A Little History of French Red Wines.\n",
       "The history of French red wine goes back many thousands of years, with evidence of winemaking as old as the 6th \u001b[33m...\u001b[0m\n",
       "\n",
       "|French Wine Regions: With Map - Armchair \n",
       "Sommelier\u001b[1m]\u001b[0m\u001b[1m(\u001b[0m\u001b[4;94mhttps://armchairsommelier.com/wine-regions/french-wine-regions/\u001b[0m\u001b[4;94m)\u001b[0m\n",
       "Chardonnay: This green-skinned grape is grown in many regions of France, including Burgundy, Champagne, and the \n",
       "Loire Valley.The Chardonnay grape produces full-bodied, rich white wines with apple, pear, and vanilla flavors. \n",
       "Merlot: The most common grape in France is prominent in Bordeaux and is gaining ground in the south of \n",
       "France.Merlot is often blended to produce soft, fruity reds with \u001b[33m...\u001b[0m\n",
       "\n",
       "|The main wine grape varieties in France - \n",
       "Calvet\u001b[1m]\u001b[0m\u001b[1m(\u001b[0m\u001b[4;94mhttps://www.calvet.com/en/the-main-wine-grape-varieties-in-france/\u001b[0m\u001b[4;94m)\u001b[0m\n",
       "A delicate red grape, usually combined with petit verdot, merlot or even cabernet sauvignon, it adds roundness and \n",
       "a degree of aromatic intensity. It is a historical grape variety from Saint-Emilion, found in the South-West, \n",
       "Pomerol and Fronsac in particular. Enjoy with meats and traditional dishes. Serving temperature: between \u001b[1;36m11\u001b[0m°C and \n",
       "\u001b[1;36m14\u001b[0m°C \u001b[33m...\u001b[0m\n",
       "\n",
       "|Top-\u001b[1;36m12\u001b[0m Red Grapes of France - JH&S\u001b[1m]\u001b[0m\u001b[1m(\u001b[0m\u001b[4;94mhttps://winetrader.ca/top-12-most-widely-grown-red-wine-grapes-of-france/\u001b[0m\u001b[4;94m)\u001b[0m\n",
       "When buying wine North American consumers love the ease and straightforward nature of labels that express what kind\n",
       "of grape \u001b[1m(\u001b[0mor grapes\u001b[1m)\u001b[0m a given wine is made from. That said, most European wines - and especially those from France -\n",
       "tend to emphasize the place a wine was made ahead of the grape variety it was made from on their labels.\n",
       "\n",
       "|Wine map of France with grape flavors | Wine Aroma Maps\u001b[1m]\u001b[0m\u001b[1m(\u001b[0m\u001b[4;94mhttps://winearomamaps.com/?\u001b[0m\u001b[4;94mlang\u001b[0m\u001b[4;94m=\u001b[0m\u001b[4;94men\u001b[0m\u001b[4;94m)\u001b[0m\n",
       "The wine aroma map of France shows with pictures the characteristics of the \u001b[1;36m60\u001b[0m major red and white wine grapes and \n",
       "all wine regions with their corresponding AOCs \u001b[33m...\u001b[0m Per wine region we show the most important red and white grapes \n",
       "ranked from the most to the least widely planted. Grape characteristics. For each grape variety we illustrate the \n",
       "\u001b[33m...\u001b[0m\n"
      ]
     },
     "metadata": {},
     "output_type": "display_data"
    },
    {
     "data": {
      "text/html": [
       "<pre style=\"white-space:pre;overflow-x:auto;line-height:normal;font-family:Menlo,'DejaVu Sans Mono',consolas,'Courier New',monospace\"><span style=\"color: #7f7f7f; text-decoration-color: #7f7f7f\">[Step 1: Duration 5.08 seconds| Input tokens: 1,460 | Output tokens: 40]</span>\n",
       "</pre>\n"
      ],
      "text/plain": [
       "\u001b[2m[Step 1: Duration 5.08 seconds| Input tokens: 1,460 | Output tokens: 40]\u001b[0m\n"
      ]
     },
     "metadata": {},
     "output_type": "display_data"
    },
    {
     "data": {
      "text/html": [
       "<pre style=\"white-space:pre;overflow-x:auto;line-height:normal;font-family:Menlo,'DejaVu Sans Mono',consolas,'Courier New',monospace\"><span style=\"color: #800000; text-decoration-color: #800000; font-weight: bold\">Reached max steps.</span>\n",
       "</pre>\n"
      ],
      "text/plain": [
       "\u001b[1;31mReached max steps.\u001b[0m\n"
      ]
     },
     "metadata": {},
     "output_type": "display_data"
    },
    {
     "data": {
      "text/html": [
       "<pre style=\"white-space:pre;overflow-x:auto;line-height:normal;font-family:Menlo,'DejaVu Sans Mono',consolas,'Courier New',monospace\"><span style=\"color: #7f7f7f; text-decoration-color: #7f7f7f\">[Step 2: Duration 75.63 seconds| Input tokens: 3,085 | Output tokens: 1,273]</span>\n",
       "</pre>\n"
      ],
      "text/plain": [
       "\u001b[2m[Step 2: Duration 75.63 seconds| Input tokens: 3,085 | Output tokens: 1,273]\u001b[0m\n"
      ]
     },
     "metadata": {},
     "output_type": "display_data"
    },
    {
     "data": {
      "text/html": [
       "<pre style=\"white-space:pre;overflow-x:auto;line-height:normal;font-family:Menlo,'DejaVu Sans Mono',consolas,'Courier New',monospace\"><span style=\"font-weight: bold\">Execution logs:</span>\n",
       "Here is the final answer from your managed agent 'web_search_agent':\n",
       "### 1. Task outcome (short version):\n",
       "A detailed list of red wine cépages in France has been compiled, including key grape varieties, regions of origin, \n",
       "price ranges, and expert ratings where available. The list includes popular varieties such as Cabernet Sauvignon \n",
       "from Bordeaux, Syrah from the Rhône Valley, and Pinot Noir from Burgundy.\n",
       "\n",
       "### 2. Task outcome (extremely detailed version):\n",
       "#### 1. **Cabernet Sauvignon**\n",
       "   - **Grape Variety**: Cabernet Sauvignon\n",
       "   - **Region**: Bordeaux, as well as further south in region like Médoc and Saint-Émilion.\n",
       "   - **Price Range**: From around €10 to over €1,000, depending on the vintage, producer, and prestige of the wine.\n",
       "   - **Ratings**: High; often rated at 90+ points by critics.\n",
       "   - **Tasting Notes and Characteristics**: Full-bodied with flavors of blackcurrant, plum, cassis, and notes of \n",
       "tobacco, cedar, and graphite in more aged vintages.\n",
       "   \n",
       "#### 2. **Merlot**\n",
       "   - **Grape Variety**: Merlot\n",
       "   - **Region**: Bordeaux, particularly in regions like Saint-Émilion and Pomerol.\n",
       "   - **Price Range**: Generally lower than Cabernet Sauvignon, ranging from €10 to €200.\n",
       "   - **Ratings**: Good to Excellent; often rated around 80-90 points.\n",
       "   - **Tasting Notes and Characteristics**: Soft and fruity with black plum, cherry, and raspberry flavors. Notes \n",
       "of vanilla and chocolate can also be found in many Merlots from Pomerol.\n",
       "   \n",
       "#### 3. **Syrah/Shiraz**\n",
       "   - **Grape Variety**: Syrah/Shiraz\n",
       "   - **Region**: Côtes du Rhône, particularly in appellations like Châteauneuf-du-Pape and Gigondas.\n",
       "   - **Price Range**: Varies widely; can range from €15 to €500.\n",
       "   - **Ratings**: Excellent; often rated 85-95 points.\n",
       "   - **Tasting Notes and Characteristics**: Rich and spicy with flavors of black pepper, cloves, and bacon fat. \n",
       "Flavors of blackberry, black currant, and black cherry may also be present. High tannin levels and fine-grained \n",
       "structure in more aged vintages.\n",
       "   \n",
       "#### 4. **Mourvèdre**\n",
       "   - **Grape Variety**: Mourvèdre\n",
       "   - **Region**: Côtes du Rhône, as well as in the wines of Gigondas, Châteauneuf-du-Pape, and Bandol.\n",
       "   - **Price Range**: Similar to Syrah, ranging from €20 to €300.\n",
       "   - **Ratings**: Excellent; typically rated 85-95 points.\n",
       "   - **Tasting Notes and Characteristics**: Rich and full-bodied with flavors of dried fruit, herbs, game, and \n",
       "black fruit. Has an intense personality with hints of smoke and dark chocolate.\n",
       "   \n",
       "#### 5. **Gamay**\n",
       "   - **Grape Variety**: Gamay\n",
       "   - **Region**: Beaujolais, which includes 10 crus ranging from Brouilly to Moulin-à-Vent.\n",
       "   - **Price Range**: Generally affordable, €5 to €40.\n",
       "   - **Ratings**: Good; typically rated 75-85 points.\n",
       "   - **Tasting Notes and Characteristics**: Light to medium-bodied with fruity flavors of cherry, raspberry, and \n",
       "strawberry. Often has a peppery finish and good cellar potential.\n",
       "   \n",
       "#### 6. **Pinot Noir**\n",
       "   - **Grape Variety**: Pinot Noir\n",
       "   - **Region**: Burgundy, including villages like Gevrey-Chambertin and Pommard.\n",
       "   - **Price Range**: This can vary greatly depending on the producer and region; from €35 to €500 for \n",
       "village-level wines, and much higher for top-tier Crus.\n",
       "   - **Ratings**: Excellent; often rated 90+ points.\n",
       "   - **Tasting Notes and Characteristics**: Versatile wine ranging from light-bodied with subtle red fruit flavors \n",
       "and delicate to more full-bodied with notes of cherries, raspberries, and spice.\n",
       "\n",
       "#### 7. **Malbec**\n",
       "   - **Grape Variety**: Malbec\n",
       "   - **Region**: Languedoc-Roussillon in the south of France, but also found in other parts of France like Cahors.\n",
       "   - **Price Range**: Typically mid-range, €25 to €150.\n",
       "   - **Ratings**: Good to Excellent; typically rated 80-90 points, with some top-tier Malbecs from Cahors rated \n",
       "higher.\n",
       "   - **Tasting Notes and Characteristics**: Medium-bodied with flavors of blackcurrant, plum, and earthy notes. \n",
       "Malbec from Cahors tends to be more full-bodied and complex with flavors of dark fruit and tannins.\n",
       "\n",
       "### 3. Additional context (if relevant):\n",
       "- **Certifications**: French wines commonly bear certifications like Appellation d'Origine Contrôlée (AOC), which \n",
       "dictate specific rules regarding grape varieties, vineyard locations, and winemaking methods, which can influence \n",
       "price and quality.\n",
       "- **Wine Price Variations**: Prices can greatly vary based on vintage, producer, region, and prestige. More \n",
       "prestigious regions or top-tier wines command higher prices.\n",
       "- **Expert Ratings**: Wine ratings from major critics and publications such as Wine Spectator, Robert Parker’s Wine\n",
       "Advocate, and Decanter are widely referenced.\n",
       "- **Food Pairing Considerations**: Each grape variety pairs well with specific types of foods. For example, \n",
       "Cabernet Sauvignon pairs well with red meats, beef, lamb, and full-flavored cheeses, whereas a lighter Gamay is \n",
       "excellent with white meat, chicken, and pork.\n",
       "\n",
       "Out: None\n",
       "</pre>\n"
      ],
      "text/plain": [
       "\u001b[1mExecution logs:\u001b[0m\n",
       "Here is the final answer from your managed agent 'web_search_agent':\n",
       "### 1. Task outcome (short version):\n",
       "A detailed list of red wine cépages in France has been compiled, including key grape varieties, regions of origin, \n",
       "price ranges, and expert ratings where available. The list includes popular varieties such as Cabernet Sauvignon \n",
       "from Bordeaux, Syrah from the Rhône Valley, and Pinot Noir from Burgundy.\n",
       "\n",
       "### 2. Task outcome (extremely detailed version):\n",
       "#### 1. **Cabernet Sauvignon**\n",
       "   - **Grape Variety**: Cabernet Sauvignon\n",
       "   - **Region**: Bordeaux, as well as further south in region like Médoc and Saint-Émilion.\n",
       "   - **Price Range**: From around €10 to over €1,000, depending on the vintage, producer, and prestige of the wine.\n",
       "   - **Ratings**: High; often rated at 90+ points by critics.\n",
       "   - **Tasting Notes and Characteristics**: Full-bodied with flavors of blackcurrant, plum, cassis, and notes of \n",
       "tobacco, cedar, and graphite in more aged vintages.\n",
       "   \n",
       "#### 2. **Merlot**\n",
       "   - **Grape Variety**: Merlot\n",
       "   - **Region**: Bordeaux, particularly in regions like Saint-Émilion and Pomerol.\n",
       "   - **Price Range**: Generally lower than Cabernet Sauvignon, ranging from €10 to €200.\n",
       "   - **Ratings**: Good to Excellent; often rated around 80-90 points.\n",
       "   - **Tasting Notes and Characteristics**: Soft and fruity with black plum, cherry, and raspberry flavors. Notes \n",
       "of vanilla and chocolate can also be found in many Merlots from Pomerol.\n",
       "   \n",
       "#### 3. **Syrah/Shiraz**\n",
       "   - **Grape Variety**: Syrah/Shiraz\n",
       "   - **Region**: Côtes du Rhône, particularly in appellations like Châteauneuf-du-Pape and Gigondas.\n",
       "   - **Price Range**: Varies widely; can range from €15 to €500.\n",
       "   - **Ratings**: Excellent; often rated 85-95 points.\n",
       "   - **Tasting Notes and Characteristics**: Rich and spicy with flavors of black pepper, cloves, and bacon fat. \n",
       "Flavors of blackberry, black currant, and black cherry may also be present. High tannin levels and fine-grained \n",
       "structure in more aged vintages.\n",
       "   \n",
       "#### 4. **Mourvèdre**\n",
       "   - **Grape Variety**: Mourvèdre\n",
       "   - **Region**: Côtes du Rhône, as well as in the wines of Gigondas, Châteauneuf-du-Pape, and Bandol.\n",
       "   - **Price Range**: Similar to Syrah, ranging from €20 to €300.\n",
       "   - **Ratings**: Excellent; typically rated 85-95 points.\n",
       "   - **Tasting Notes and Characteristics**: Rich and full-bodied with flavors of dried fruit, herbs, game, and \n",
       "black fruit. Has an intense personality with hints of smoke and dark chocolate.\n",
       "   \n",
       "#### 5. **Gamay**\n",
       "   - **Grape Variety**: Gamay\n",
       "   - **Region**: Beaujolais, which includes 10 crus ranging from Brouilly to Moulin-à-Vent.\n",
       "   - **Price Range**: Generally affordable, €5 to €40.\n",
       "   - **Ratings**: Good; typically rated 75-85 points.\n",
       "   - **Tasting Notes and Characteristics**: Light to medium-bodied with fruity flavors of cherry, raspberry, and \n",
       "strawberry. Often has a peppery finish and good cellar potential.\n",
       "   \n",
       "#### 6. **Pinot Noir**\n",
       "   - **Grape Variety**: Pinot Noir\n",
       "   - **Region**: Burgundy, including villages like Gevrey-Chambertin and Pommard.\n",
       "   - **Price Range**: This can vary greatly depending on the producer and region; from €35 to €500 for \n",
       "village-level wines, and much higher for top-tier Crus.\n",
       "   - **Ratings**: Excellent; often rated 90+ points.\n",
       "   - **Tasting Notes and Characteristics**: Versatile wine ranging from light-bodied with subtle red fruit flavors \n",
       "and delicate to more full-bodied with notes of cherries, raspberries, and spice.\n",
       "\n",
       "#### 7. **Malbec**\n",
       "   - **Grape Variety**: Malbec\n",
       "   - **Region**: Languedoc-Roussillon in the south of France, but also found in other parts of France like Cahors.\n",
       "   - **Price Range**: Typically mid-range, €25 to €150.\n",
       "   - **Ratings**: Good to Excellent; typically rated 80-90 points, with some top-tier Malbecs from Cahors rated \n",
       "higher.\n",
       "   - **Tasting Notes and Characteristics**: Medium-bodied with flavors of blackcurrant, plum, and earthy notes. \n",
       "Malbec from Cahors tends to be more full-bodied and complex with flavors of dark fruit and tannins.\n",
       "\n",
       "### 3. Additional context (if relevant):\n",
       "- **Certifications**: French wines commonly bear certifications like Appellation d'Origine Contrôlée (AOC), which \n",
       "dictate specific rules regarding grape varieties, vineyard locations, and winemaking methods, which can influence \n",
       "price and quality.\n",
       "- **Wine Price Variations**: Prices can greatly vary based on vintage, producer, region, and prestige. More \n",
       "prestigious regions or top-tier wines command higher prices.\n",
       "- **Expert Ratings**: Wine ratings from major critics and publications such as Wine Spectator, Robert Parker’s Wine\n",
       "Advocate, and Decanter are widely referenced.\n",
       "- **Food Pairing Considerations**: Each grape variety pairs well with specific types of foods. For example, \n",
       "Cabernet Sauvignon pairs well with red meats, beef, lamb, and full-flavored cheeses, whereas a lighter Gamay is \n",
       "excellent with white meat, chicken, and pork.\n",
       "\n",
       "Out: None\n"
      ]
     },
     "metadata": {},
     "output_type": "display_data"
    },
    {
     "data": {
      "text/html": [
       "<pre style=\"white-space:pre;overflow-x:auto;line-height:normal;font-family:Menlo,'DejaVu Sans Mono',consolas,'Courier New',monospace\"><span style=\"color: #7f7f7f; text-decoration-color: #7f7f7f\">[Step 1: Duration 82.71 seconds| Input tokens: 1,625 | Output tokens: 1,233]</span>\n",
       "</pre>\n"
      ],
      "text/plain": [
       "\u001b[2m[Step 1: Duration 82.71 seconds| Input tokens: 1,625 | Output tokens: 1,233]\u001b[0m\n"
      ]
     },
     "metadata": {},
     "output_type": "display_data"
    },
    {
     "data": {
      "text/html": [
       "<pre style=\"white-space:pre;overflow-x:auto;line-height:normal;font-family:Menlo,'DejaVu Sans Mono',consolas,'Courier New',monospace\"><span style=\"color: #d4b702; text-decoration-color: #d4b702\">━━━━━━━━━━━━━━━━━━━━━━━━━━━━━━━━━━━━━━━━━━━━━━━━━━━━━ </span><span style=\"font-weight: bold\">Step </span><span style=\"color: #008080; text-decoration-color: #008080; font-weight: bold\">2</span><span style=\"color: #d4b702; text-decoration-color: #d4b702\"> ━━━━━━━━━━━━━━━━━━━━━━━━━━━━━━━━━━━━━━━━━━━━━━━━━━━━━━</span>\n",
       "</pre>\n"
      ],
      "text/plain": [
       "\u001b[38;2;212;183;2m━━━━━━━━━━━━━━━━━━━━━━━━━━━━━━━━━━━━━━━━━━━━━━━━━━━━━ \u001b[0m\u001b[1mStep \u001b[0m\u001b[1;36m2\u001b[0m\u001b[38;2;212;183;2m ━━━━━━━━━━━━━━━━━━━━━━━━━━━━━━━━━━━━━━━━━━━━━━━━━━━━━━\u001b[0m\n"
      ]
     },
     "metadata": {},
     "output_type": "display_data"
    },
    {
     "data": {
      "text/html": [
       "<pre style=\"white-space:pre;overflow-x:auto;line-height:normal;font-family:Menlo,'DejaVu Sans Mono',consolas,'Courier New',monospace\"> ─ <span style=\"font-weight: bold\">Executing parsed code:</span> ──────────────────────────────────────────────────────────────────────────────────────── \n",
       "  <span style=\"color: #959077; text-decoration-color: #959077; background-color: #272822\"># Define the list of wine cépages based on the information provided</span><span style=\"background-color: #272822\">                                            </span>  \n",
       "  <span style=\"color: #f8f8f2; text-decoration-color: #f8f8f2; background-color: #272822\">wine_cepages </span><span style=\"color: #ff4689; text-decoration-color: #ff4689; background-color: #272822\">=</span><span style=\"color: #f8f8f2; text-decoration-color: #f8f8f2; background-color: #272822\"> [</span><span style=\"background-color: #272822\">                                                                                               </span>  \n",
       "  <span style=\"color: #f8f8f2; text-decoration-color: #f8f8f2; background-color: #272822\">    {</span><span style=\"background-color: #272822\">                                                                                                          </span>  \n",
       "  <span style=\"color: #f8f8f2; text-decoration-color: #f8f8f2; background-color: #272822\">        </span><span style=\"color: #e6db74; text-decoration-color: #e6db74; background-color: #272822\">'name'</span><span style=\"color: #f8f8f2; text-decoration-color: #f8f8f2; background-color: #272822\">: </span><span style=\"color: #e6db74; text-decoration-color: #e6db74; background-color: #272822\">'Cabernet Sauvignon'</span><span style=\"color: #f8f8f2; text-decoration-color: #f8f8f2; background-color: #272822\">,</span><span style=\"background-color: #272822\">                                                                          </span>  \n",
       "  <span style=\"color: #f8f8f2; text-decoration-color: #f8f8f2; background-color: #272822\">        </span><span style=\"color: #e6db74; text-decoration-color: #e6db74; background-color: #272822\">'color'</span><span style=\"color: #f8f8f2; text-decoration-color: #f8f8f2; background-color: #272822\">: </span><span style=\"color: #e6db74; text-decoration-color: #e6db74; background-color: #272822\">'Red'</span><span style=\"color: #f8f8f2; text-decoration-color: #f8f8f2; background-color: #272822\">,</span><span style=\"background-color: #272822\">                                                                                        </span>  \n",
       "  <span style=\"color: #f8f8f2; text-decoration-color: #f8f8f2; background-color: #272822\">        </span><span style=\"color: #e6db74; text-decoration-color: #e6db74; background-color: #272822\">'grape_variety'</span><span style=\"color: #f8f8f2; text-decoration-color: #f8f8f2; background-color: #272822\">: </span><span style=\"color: #e6db74; text-decoration-color: #e6db74; background-color: #272822\">'Cabernet Sauvignon'</span><span style=\"color: #f8f8f2; text-decoration-color: #f8f8f2; background-color: #272822\">,</span><span style=\"background-color: #272822\">                                                                 </span>  \n",
       "  <span style=\"color: #f8f8f2; text-decoration-color: #f8f8f2; background-color: #272822\">        </span><span style=\"color: #e6db74; text-decoration-color: #e6db74; background-color: #272822\">'region'</span><span style=\"color: #f8f8f2; text-decoration-color: #f8f8f2; background-color: #272822\">: </span><span style=\"color: #e6db74; text-decoration-color: #e6db74; background-color: #272822\">'Bordeaux, Médoc, Saint-Émilion'</span><span style=\"color: #f8f8f2; text-decoration-color: #f8f8f2; background-color: #272822\">,</span><span style=\"background-color: #272822\">                                                            </span>  \n",
       "  <span style=\"color: #f8f8f2; text-decoration-color: #f8f8f2; background-color: #272822\">        </span><span style=\"color: #e6db74; text-decoration-color: #e6db74; background-color: #272822\">'price'</span><span style=\"color: #f8f8f2; text-decoration-color: #f8f8f2; background-color: #272822\">: </span><span style=\"color: #e6db74; text-decoration-color: #e6db74; background-color: #272822\">'€10 to over €1,000'</span><span style=\"color: #f8f8f2; text-decoration-color: #f8f8f2; background-color: #272822\">,</span><span style=\"background-color: #272822\">                                                                         </span>  \n",
       "  <span style=\"color: #f8f8f2; text-decoration-color: #f8f8f2; background-color: #272822\">        </span><span style=\"color: #e6db74; text-decoration-color: #e6db74; background-color: #272822\">'rating'</span><span style=\"color: #f8f8f2; text-decoration-color: #f8f8f2; background-color: #272822\">: </span><span style=\"color: #e6db74; text-decoration-color: #e6db74; background-color: #272822\">'90+'</span><span style=\"background-color: #272822\">                                                                                        </span>  \n",
       "  <span style=\"color: #f8f8f2; text-decoration-color: #f8f8f2; background-color: #272822\">    },</span><span style=\"background-color: #272822\">                                                                                                         </span>  \n",
       "  <span style=\"color: #f8f8f2; text-decoration-color: #f8f8f2; background-color: #272822\">    {</span><span style=\"background-color: #272822\">                                                                                                          </span>  \n",
       "  <span style=\"color: #f8f8f2; text-decoration-color: #f8f8f2; background-color: #272822\">        </span><span style=\"color: #e6db74; text-decoration-color: #e6db74; background-color: #272822\">'name'</span><span style=\"color: #f8f8f2; text-decoration-color: #f8f8f2; background-color: #272822\">: </span><span style=\"color: #e6db74; text-decoration-color: #e6db74; background-color: #272822\">'Merlot'</span><span style=\"color: #f8f8f2; text-decoration-color: #f8f8f2; background-color: #272822\">,</span><span style=\"background-color: #272822\">                                                                                      </span>  \n",
       "  <span style=\"color: #f8f8f2; text-decoration-color: #f8f8f2; background-color: #272822\">        </span><span style=\"color: #e6db74; text-decoration-color: #e6db74; background-color: #272822\">'color'</span><span style=\"color: #f8f8f2; text-decoration-color: #f8f8f2; background-color: #272822\">: </span><span style=\"color: #e6db74; text-decoration-color: #e6db74; background-color: #272822\">'Red'</span><span style=\"color: #f8f8f2; text-decoration-color: #f8f8f2; background-color: #272822\">,</span><span style=\"background-color: #272822\">                                                                                        </span>  \n",
       "  <span style=\"color: #f8f8f2; text-decoration-color: #f8f8f2; background-color: #272822\">        </span><span style=\"color: #e6db74; text-decoration-color: #e6db74; background-color: #272822\">'grape_variety'</span><span style=\"color: #f8f8f2; text-decoration-color: #f8f8f2; background-color: #272822\">: </span><span style=\"color: #e6db74; text-decoration-color: #e6db74; background-color: #272822\">'Merlot'</span><span style=\"color: #f8f8f2; text-decoration-color: #f8f8f2; background-color: #272822\">,</span><span style=\"background-color: #272822\">                                                                             </span>  \n",
       "  <span style=\"color: #f8f8f2; text-decoration-color: #f8f8f2; background-color: #272822\">        </span><span style=\"color: #e6db74; text-decoration-color: #e6db74; background-color: #272822\">'region'</span><span style=\"color: #f8f8f2; text-decoration-color: #f8f8f2; background-color: #272822\">: </span><span style=\"color: #e6db74; text-decoration-color: #e6db74; background-color: #272822\">'Bordeaux, Saint-Émilion, Pomerol'</span><span style=\"color: #f8f8f2; text-decoration-color: #f8f8f2; background-color: #272822\">,</span><span style=\"background-color: #272822\">                                                          </span>  \n",
       "  <span style=\"color: #f8f8f2; text-decoration-color: #f8f8f2; background-color: #272822\">        </span><span style=\"color: #e6db74; text-decoration-color: #e6db74; background-color: #272822\">'price'</span><span style=\"color: #f8f8f2; text-decoration-color: #f8f8f2; background-color: #272822\">: </span><span style=\"color: #e6db74; text-decoration-color: #e6db74; background-color: #272822\">'€10 to €200'</span><span style=\"color: #f8f8f2; text-decoration-color: #f8f8f2; background-color: #272822\">,</span><span style=\"background-color: #272822\">                                                                                </span>  \n",
       "  <span style=\"color: #f8f8f2; text-decoration-color: #f8f8f2; background-color: #272822\">        </span><span style=\"color: #e6db74; text-decoration-color: #e6db74; background-color: #272822\">'rating'</span><span style=\"color: #f8f8f2; text-decoration-color: #f8f8f2; background-color: #272822\">: </span><span style=\"color: #e6db74; text-decoration-color: #e6db74; background-color: #272822\">'80-90'</span><span style=\"background-color: #272822\">                                                                                      </span>  \n",
       "  <span style=\"color: #f8f8f2; text-decoration-color: #f8f8f2; background-color: #272822\">    },</span><span style=\"background-color: #272822\">                                                                                                         </span>  \n",
       "  <span style=\"color: #f8f8f2; text-decoration-color: #f8f8f2; background-color: #272822\">    {</span><span style=\"background-color: #272822\">                                                                                                          </span>  \n",
       "  <span style=\"color: #f8f8f2; text-decoration-color: #f8f8f2; background-color: #272822\">        </span><span style=\"color: #e6db74; text-decoration-color: #e6db74; background-color: #272822\">'name'</span><span style=\"color: #f8f8f2; text-decoration-color: #f8f8f2; background-color: #272822\">: </span><span style=\"color: #e6db74; text-decoration-color: #e6db74; background-color: #272822\">'Syrah/Shiraz'</span><span style=\"color: #f8f8f2; text-decoration-color: #f8f8f2; background-color: #272822\">,</span><span style=\"background-color: #272822\">                                                                                </span>  \n",
       "  <span style=\"color: #f8f8f2; text-decoration-color: #f8f8f2; background-color: #272822\">        </span><span style=\"color: #e6db74; text-decoration-color: #e6db74; background-color: #272822\">'color'</span><span style=\"color: #f8f8f2; text-decoration-color: #f8f8f2; background-color: #272822\">: </span><span style=\"color: #e6db74; text-decoration-color: #e6db74; background-color: #272822\">'Red'</span><span style=\"color: #f8f8f2; text-decoration-color: #f8f8f2; background-color: #272822\">,</span><span style=\"background-color: #272822\">                                                                                        </span>  \n",
       "  <span style=\"color: #f8f8f2; text-decoration-color: #f8f8f2; background-color: #272822\">        </span><span style=\"color: #e6db74; text-decoration-color: #e6db74; background-color: #272822\">'grape_variety'</span><span style=\"color: #f8f8f2; text-decoration-color: #f8f8f2; background-color: #272822\">: </span><span style=\"color: #e6db74; text-decoration-color: #e6db74; background-color: #272822\">'Syrah/Shiraz'</span><span style=\"color: #f8f8f2; text-decoration-color: #f8f8f2; background-color: #272822\">,</span><span style=\"background-color: #272822\">                                                                       </span>  \n",
       "  <span style=\"color: #f8f8f2; text-decoration-color: #f8f8f2; background-color: #272822\">        </span><span style=\"color: #e6db74; text-decoration-color: #e6db74; background-color: #272822\">'region'</span><span style=\"color: #f8f8f2; text-decoration-color: #f8f8f2; background-color: #272822\">: </span><span style=\"color: #e6db74; text-decoration-color: #e6db74; background-color: #272822\">'Côtes du Rhône, Châteauneuf-du-Pape, Gigondas'</span><span style=\"color: #f8f8f2; text-decoration-color: #f8f8f2; background-color: #272822\">,</span><span style=\"background-color: #272822\">                                             </span>  \n",
       "  <span style=\"color: #f8f8f2; text-decoration-color: #f8f8f2; background-color: #272822\">        </span><span style=\"color: #e6db74; text-decoration-color: #e6db74; background-color: #272822\">'price'</span><span style=\"color: #f8f8f2; text-decoration-color: #f8f8f2; background-color: #272822\">: </span><span style=\"color: #e6db74; text-decoration-color: #e6db74; background-color: #272822\">'€15 to €500'</span><span style=\"color: #f8f8f2; text-decoration-color: #f8f8f2; background-color: #272822\">,</span><span style=\"background-color: #272822\">                                                                                </span>  \n",
       "  <span style=\"color: #f8f8f2; text-decoration-color: #f8f8f2; background-color: #272822\">        </span><span style=\"color: #e6db74; text-decoration-color: #e6db74; background-color: #272822\">'rating'</span><span style=\"color: #f8f8f2; text-decoration-color: #f8f8f2; background-color: #272822\">: </span><span style=\"color: #e6db74; text-decoration-color: #e6db74; background-color: #272822\">'85-95'</span><span style=\"background-color: #272822\">                                                                                      </span>  \n",
       "  <span style=\"color: #f8f8f2; text-decoration-color: #f8f8f2; background-color: #272822\">    },</span><span style=\"background-color: #272822\">                                                                                                         </span>  \n",
       "  <span style=\"color: #f8f8f2; text-decoration-color: #f8f8f2; background-color: #272822\">    {</span><span style=\"background-color: #272822\">                                                                                                          </span>  \n",
       "  <span style=\"color: #f8f8f2; text-decoration-color: #f8f8f2; background-color: #272822\">        </span><span style=\"color: #e6db74; text-decoration-color: #e6db74; background-color: #272822\">'name'</span><span style=\"color: #f8f8f2; text-decoration-color: #f8f8f2; background-color: #272822\">: </span><span style=\"color: #e6db74; text-decoration-color: #e6db74; background-color: #272822\">'Mourvèdre'</span><span style=\"color: #f8f8f2; text-decoration-color: #f8f8f2; background-color: #272822\">,</span><span style=\"background-color: #272822\">                                                                                   </span>  \n",
       "  <span style=\"color: #f8f8f2; text-decoration-color: #f8f8f2; background-color: #272822\">        </span><span style=\"color: #e6db74; text-decoration-color: #e6db74; background-color: #272822\">'color'</span><span style=\"color: #f8f8f2; text-decoration-color: #f8f8f2; background-color: #272822\">: </span><span style=\"color: #e6db74; text-decoration-color: #e6db74; background-color: #272822\">'Red'</span><span style=\"color: #f8f8f2; text-decoration-color: #f8f8f2; background-color: #272822\">,</span><span style=\"background-color: #272822\">                                                                                        </span>  \n",
       "  <span style=\"color: #f8f8f2; text-decoration-color: #f8f8f2; background-color: #272822\">        </span><span style=\"color: #e6db74; text-decoration-color: #e6db74; background-color: #272822\">'grape_variety'</span><span style=\"color: #f8f8f2; text-decoration-color: #f8f8f2; background-color: #272822\">: </span><span style=\"color: #e6db74; text-decoration-color: #e6db74; background-color: #272822\">'Mourvèdre'</span><span style=\"color: #f8f8f2; text-decoration-color: #f8f8f2; background-color: #272822\">,</span><span style=\"background-color: #272822\">                                                                          </span>  \n",
       "  <span style=\"color: #f8f8f2; text-decoration-color: #f8f8f2; background-color: #272822\">        </span><span style=\"color: #e6db74; text-decoration-color: #e6db74; background-color: #272822\">'region'</span><span style=\"color: #f8f8f2; text-decoration-color: #f8f8f2; background-color: #272822\">: </span><span style=\"color: #e6db74; text-decoration-color: #e6db74; background-color: #272822\">'Côtes du Rhône, Gigondas, Châteauneuf-du-Pape, Bandol'</span><span style=\"color: #f8f8f2; text-decoration-color: #f8f8f2; background-color: #272822\">,</span><span style=\"background-color: #272822\">                                     </span>  \n",
       "  <span style=\"color: #f8f8f2; text-decoration-color: #f8f8f2; background-color: #272822\">        </span><span style=\"color: #e6db74; text-decoration-color: #e6db74; background-color: #272822\">'price'</span><span style=\"color: #f8f8f2; text-decoration-color: #f8f8f2; background-color: #272822\">: </span><span style=\"color: #e6db74; text-decoration-color: #e6db74; background-color: #272822\">'€20 to €300'</span><span style=\"color: #f8f8f2; text-decoration-color: #f8f8f2; background-color: #272822\">,</span><span style=\"background-color: #272822\">                                                                                </span>  \n",
       "  <span style=\"color: #f8f8f2; text-decoration-color: #f8f8f2; background-color: #272822\">        </span><span style=\"color: #e6db74; text-decoration-color: #e6db74; background-color: #272822\">'rating'</span><span style=\"color: #f8f8f2; text-decoration-color: #f8f8f2; background-color: #272822\">: </span><span style=\"color: #e6db74; text-decoration-color: #e6db74; background-color: #272822\">'85-95'</span><span style=\"background-color: #272822\">                                                                                      </span>  \n",
       "  <span style=\"color: #f8f8f2; text-decoration-color: #f8f8f2; background-color: #272822\">    },</span><span style=\"background-color: #272822\">                                                                                                         </span>  \n",
       "  <span style=\"color: #f8f8f2; text-decoration-color: #f8f8f2; background-color: #272822\">    {</span><span style=\"background-color: #272822\">                                                                                                          </span>  \n",
       "  <span style=\"color: #f8f8f2; text-decoration-color: #f8f8f2; background-color: #272822\">        </span><span style=\"color: #e6db74; text-decoration-color: #e6db74; background-color: #272822\">'name'</span><span style=\"color: #f8f8f2; text-decoration-color: #f8f8f2; background-color: #272822\">: </span><span style=\"color: #e6db74; text-decoration-color: #e6db74; background-color: #272822\">'Gamay'</span><span style=\"color: #f8f8f2; text-decoration-color: #f8f8f2; background-color: #272822\">,</span><span style=\"background-color: #272822\">                                                                                       </span>  \n",
       "  <span style=\"color: #f8f8f2; text-decoration-color: #f8f8f2; background-color: #272822\">        </span><span style=\"color: #e6db74; text-decoration-color: #e6db74; background-color: #272822\">'color'</span><span style=\"color: #f8f8f2; text-decoration-color: #f8f8f2; background-color: #272822\">: </span><span style=\"color: #e6db74; text-decoration-color: #e6db74; background-color: #272822\">'Red'</span><span style=\"color: #f8f8f2; text-decoration-color: #f8f8f2; background-color: #272822\">,</span><span style=\"background-color: #272822\">                                                                                        </span>  \n",
       "  <span style=\"color: #f8f8f2; text-decoration-color: #f8f8f2; background-color: #272822\">        </span><span style=\"color: #e6db74; text-decoration-color: #e6db74; background-color: #272822\">'grape_variety'</span><span style=\"color: #f8f8f2; text-decoration-color: #f8f8f2; background-color: #272822\">: </span><span style=\"color: #e6db74; text-decoration-color: #e6db74; background-color: #272822\">'Gamay'</span><span style=\"color: #f8f8f2; text-decoration-color: #f8f8f2; background-color: #272822\">,</span><span style=\"background-color: #272822\">                                                                              </span>  \n",
       "  <span style=\"color: #f8f8f2; text-decoration-color: #f8f8f2; background-color: #272822\">        </span><span style=\"color: #e6db74; text-decoration-color: #e6db74; background-color: #272822\">'region'</span><span style=\"color: #f8f8f2; text-decoration-color: #f8f8f2; background-color: #272822\">: </span><span style=\"color: #e6db74; text-decoration-color: #e6db74; background-color: #272822\">'Beaujolais'</span><span style=\"color: #f8f8f2; text-decoration-color: #f8f8f2; background-color: #272822\">,</span><span style=\"background-color: #272822\">                                                                                </span>  \n",
       "  <span style=\"color: #f8f8f2; text-decoration-color: #f8f8f2; background-color: #272822\">        </span><span style=\"color: #e6db74; text-decoration-color: #e6db74; background-color: #272822\">'price'</span><span style=\"color: #f8f8f2; text-decoration-color: #f8f8f2; background-color: #272822\">: </span><span style=\"color: #e6db74; text-decoration-color: #e6db74; background-color: #272822\">'€5 to €40'</span><span style=\"color: #f8f8f2; text-decoration-color: #f8f8f2; background-color: #272822\">,</span><span style=\"background-color: #272822\">                                                                                  </span>  \n",
       "  <span style=\"color: #f8f8f2; text-decoration-color: #f8f8f2; background-color: #272822\">        </span><span style=\"color: #e6db74; text-decoration-color: #e6db74; background-color: #272822\">'rating'</span><span style=\"color: #f8f8f2; text-decoration-color: #f8f8f2; background-color: #272822\">: </span><span style=\"color: #e6db74; text-decoration-color: #e6db74; background-color: #272822\">'75-85'</span><span style=\"background-color: #272822\">                                                                                      </span>  \n",
       "  <span style=\"color: #f8f8f2; text-decoration-color: #f8f8f2; background-color: #272822\">    },</span><span style=\"background-color: #272822\">                                                                                                         </span>  \n",
       "  <span style=\"color: #f8f8f2; text-decoration-color: #f8f8f2; background-color: #272822\">    {</span><span style=\"background-color: #272822\">                                                                                                          </span>  \n",
       "  <span style=\"color: #f8f8f2; text-decoration-color: #f8f8f2; background-color: #272822\">        </span><span style=\"color: #e6db74; text-decoration-color: #e6db74; background-color: #272822\">'name'</span><span style=\"color: #f8f8f2; text-decoration-color: #f8f8f2; background-color: #272822\">: </span><span style=\"color: #e6db74; text-decoration-color: #e6db74; background-color: #272822\">'Pinot Noir'</span><span style=\"color: #f8f8f2; text-decoration-color: #f8f8f2; background-color: #272822\">,</span><span style=\"background-color: #272822\">                                                                                  </span>  \n",
       "  <span style=\"color: #f8f8f2; text-decoration-color: #f8f8f2; background-color: #272822\">        </span><span style=\"color: #e6db74; text-decoration-color: #e6db74; background-color: #272822\">'color'</span><span style=\"color: #f8f8f2; text-decoration-color: #f8f8f2; background-color: #272822\">: </span><span style=\"color: #e6db74; text-decoration-color: #e6db74; background-color: #272822\">'Red'</span><span style=\"color: #f8f8f2; text-decoration-color: #f8f8f2; background-color: #272822\">,</span><span style=\"background-color: #272822\">                                                                                        </span>  \n",
       "  <span style=\"color: #f8f8f2; text-decoration-color: #f8f8f2; background-color: #272822\">        </span><span style=\"color: #e6db74; text-decoration-color: #e6db74; background-color: #272822\">'grape_variety'</span><span style=\"color: #f8f8f2; text-decoration-color: #f8f8f2; background-color: #272822\">: </span><span style=\"color: #e6db74; text-decoration-color: #e6db74; background-color: #272822\">'Pinot Noir'</span><span style=\"color: #f8f8f2; text-decoration-color: #f8f8f2; background-color: #272822\">,</span><span style=\"background-color: #272822\">                                                                         </span>  \n",
       "  <span style=\"color: #f8f8f2; text-decoration-color: #f8f8f2; background-color: #272822\">        </span><span style=\"color: #e6db74; text-decoration-color: #e6db74; background-color: #272822\">'region'</span><span style=\"color: #f8f8f2; text-decoration-color: #f8f8f2; background-color: #272822\">: </span><span style=\"color: #e6db74; text-decoration-color: #e6db74; background-color: #272822\">'Burgundy, Gevrey-Chambertin, Pommard'</span><span style=\"color: #f8f8f2; text-decoration-color: #f8f8f2; background-color: #272822\">,</span><span style=\"background-color: #272822\">                                                      </span>  \n",
       "  <span style=\"color: #f8f8f2; text-decoration-color: #f8f8f2; background-color: #272822\">        </span><span style=\"color: #e6db74; text-decoration-color: #e6db74; background-color: #272822\">'price'</span><span style=\"color: #f8f8f2; text-decoration-color: #f8f8f2; background-color: #272822\">: </span><span style=\"color: #e6db74; text-decoration-color: #e6db74; background-color: #272822\">'€35 to €500 for village-level wines, much higher for Crus'</span><span style=\"color: #f8f8f2; text-decoration-color: #f8f8f2; background-color: #272822\">,</span><span style=\"background-color: #272822\">                                  </span>  \n",
       "  <span style=\"color: #f8f8f2; text-decoration-color: #f8f8f2; background-color: #272822\">        </span><span style=\"color: #e6db74; text-decoration-color: #e6db74; background-color: #272822\">'rating'</span><span style=\"color: #f8f8f2; text-decoration-color: #f8f8f2; background-color: #272822\">: </span><span style=\"color: #e6db74; text-decoration-color: #e6db74; background-color: #272822\">'90+'</span><span style=\"background-color: #272822\">                                                                                        </span>  \n",
       "  <span style=\"color: #f8f8f2; text-decoration-color: #f8f8f2; background-color: #272822\">    },</span><span style=\"background-color: #272822\">                                                                                                         </span>  \n",
       "  <span style=\"color: #f8f8f2; text-decoration-color: #f8f8f2; background-color: #272822\">    {</span><span style=\"background-color: #272822\">                                                                                                          </span>  \n",
       "  <span style=\"color: #f8f8f2; text-decoration-color: #f8f8f2; background-color: #272822\">        </span><span style=\"color: #e6db74; text-decoration-color: #e6db74; background-color: #272822\">'name'</span><span style=\"color: #f8f8f2; text-decoration-color: #f8f8f2; background-color: #272822\">: </span><span style=\"color: #e6db74; text-decoration-color: #e6db74; background-color: #272822\">'Malbec'</span><span style=\"color: #f8f8f2; text-decoration-color: #f8f8f2; background-color: #272822\">,</span><span style=\"background-color: #272822\">                                                                                      </span>  \n",
       "  <span style=\"color: #f8f8f2; text-decoration-color: #f8f8f2; background-color: #272822\">        </span><span style=\"color: #e6db74; text-decoration-color: #e6db74; background-color: #272822\">'color'</span><span style=\"color: #f8f8f2; text-decoration-color: #f8f8f2; background-color: #272822\">: </span><span style=\"color: #e6db74; text-decoration-color: #e6db74; background-color: #272822\">'Red'</span><span style=\"color: #f8f8f2; text-decoration-color: #f8f8f2; background-color: #272822\">,</span><span style=\"background-color: #272822\">                                                                                        </span>  \n",
       "  <span style=\"color: #f8f8f2; text-decoration-color: #f8f8f2; background-color: #272822\">        </span><span style=\"color: #e6db74; text-decoration-color: #e6db74; background-color: #272822\">'grape_variety'</span><span style=\"color: #f8f8f2; text-decoration-color: #f8f8f2; background-color: #272822\">: </span><span style=\"color: #e6db74; text-decoration-color: #e6db74; background-color: #272822\">'Malbec'</span><span style=\"color: #f8f8f2; text-decoration-color: #f8f8f2; background-color: #272822\">,</span><span style=\"background-color: #272822\">                                                                             </span>  \n",
       "  <span style=\"color: #f8f8f2; text-decoration-color: #f8f8f2; background-color: #272822\">        </span><span style=\"color: #e6db74; text-decoration-color: #e6db74; background-color: #272822\">'region'</span><span style=\"color: #f8f8f2; text-decoration-color: #f8f8f2; background-color: #272822\">: </span><span style=\"color: #e6db74; text-decoration-color: #e6db74; background-color: #272822\">'Languedoc-Roussillon, Cahors'</span><span style=\"color: #f8f8f2; text-decoration-color: #f8f8f2; background-color: #272822\">,</span><span style=\"background-color: #272822\">                                                              </span>  \n",
       "  <span style=\"color: #f8f8f2; text-decoration-color: #f8f8f2; background-color: #272822\">        </span><span style=\"color: #e6db74; text-decoration-color: #e6db74; background-color: #272822\">'price'</span><span style=\"color: #f8f8f2; text-decoration-color: #f8f8f2; background-color: #272822\">: </span><span style=\"color: #e6db74; text-decoration-color: #e6db74; background-color: #272822\">'€25 to €150'</span><span style=\"color: #f8f8f2; text-decoration-color: #f8f8f2; background-color: #272822\">,</span><span style=\"background-color: #272822\">                                                                                </span>  \n",
       "  <span style=\"color: #f8f8f2; text-decoration-color: #f8f8f2; background-color: #272822\">        </span><span style=\"color: #e6db74; text-decoration-color: #e6db74; background-color: #272822\">'rating'</span><span style=\"color: #f8f8f2; text-decoration-color: #f8f8f2; background-color: #272822\">: </span><span style=\"color: #e6db74; text-decoration-color: #e6db74; background-color: #272822\">'80-90, with some top-tier Malbecs higher'</span><span style=\"background-color: #272822\">                                                   </span>  \n",
       "  <span style=\"color: #f8f8f2; text-decoration-color: #f8f8f2; background-color: #272822\">    }</span><span style=\"background-color: #272822\">                                                                                                          </span>  \n",
       "  <span style=\"color: #f8f8f2; text-decoration-color: #f8f8f2; background-color: #272822\">]</span><span style=\"background-color: #272822\">                                                                                                              </span>  \n",
       "  <span style=\"background-color: #272822\">                                                                                                               </span>  \n",
       "  <span style=\"color: #959077; text-decoration-color: #959077; background-color: #272822\"># Print the list of dictionaries to verify the structure</span><span style=\"background-color: #272822\">                                                       </span>  \n",
       "  <span style=\"color: #f8f8f2; text-decoration-color: #f8f8f2; background-color: #272822\">print(wine_cepages)</span><span style=\"background-color: #272822\">                                                                                            </span>  \n",
       " ───────────────────────────────────────────────────────────────────────────────────────────────────────────────── \n",
       "</pre>\n"
      ],
      "text/plain": [
       " ─ \u001b[1mExecuting parsed code:\u001b[0m ──────────────────────────────────────────────────────────────────────────────────────── \n",
       "  \u001b[38;2;149;144;119;48;2;39;40;34m# Define the list of wine cépages based on the information provided\u001b[0m\u001b[48;2;39;40;34m                                            \u001b[0m  \n",
       "  \u001b[38;2;248;248;242;48;2;39;40;34mwine_cepages\u001b[0m\u001b[38;2;248;248;242;48;2;39;40;34m \u001b[0m\u001b[38;2;255;70;137;48;2;39;40;34m=\u001b[0m\u001b[38;2;248;248;242;48;2;39;40;34m \u001b[0m\u001b[38;2;248;248;242;48;2;39;40;34m[\u001b[0m\u001b[48;2;39;40;34m                                                                                               \u001b[0m  \n",
       "  \u001b[38;2;248;248;242;48;2;39;40;34m    \u001b[0m\u001b[38;2;248;248;242;48;2;39;40;34m{\u001b[0m\u001b[48;2;39;40;34m                                                                                                          \u001b[0m  \n",
       "  \u001b[38;2;248;248;242;48;2;39;40;34m        \u001b[0m\u001b[38;2;230;219;116;48;2;39;40;34m'\u001b[0m\u001b[38;2;230;219;116;48;2;39;40;34mname\u001b[0m\u001b[38;2;230;219;116;48;2;39;40;34m'\u001b[0m\u001b[38;2;248;248;242;48;2;39;40;34m:\u001b[0m\u001b[38;2;248;248;242;48;2;39;40;34m \u001b[0m\u001b[38;2;230;219;116;48;2;39;40;34m'\u001b[0m\u001b[38;2;230;219;116;48;2;39;40;34mCabernet Sauvignon\u001b[0m\u001b[38;2;230;219;116;48;2;39;40;34m'\u001b[0m\u001b[38;2;248;248;242;48;2;39;40;34m,\u001b[0m\u001b[48;2;39;40;34m                                                                          \u001b[0m  \n",
       "  \u001b[38;2;248;248;242;48;2;39;40;34m        \u001b[0m\u001b[38;2;230;219;116;48;2;39;40;34m'\u001b[0m\u001b[38;2;230;219;116;48;2;39;40;34mcolor\u001b[0m\u001b[38;2;230;219;116;48;2;39;40;34m'\u001b[0m\u001b[38;2;248;248;242;48;2;39;40;34m:\u001b[0m\u001b[38;2;248;248;242;48;2;39;40;34m \u001b[0m\u001b[38;2;230;219;116;48;2;39;40;34m'\u001b[0m\u001b[38;2;230;219;116;48;2;39;40;34mRed\u001b[0m\u001b[38;2;230;219;116;48;2;39;40;34m'\u001b[0m\u001b[38;2;248;248;242;48;2;39;40;34m,\u001b[0m\u001b[48;2;39;40;34m                                                                                        \u001b[0m  \n",
       "  \u001b[38;2;248;248;242;48;2;39;40;34m        \u001b[0m\u001b[38;2;230;219;116;48;2;39;40;34m'\u001b[0m\u001b[38;2;230;219;116;48;2;39;40;34mgrape_variety\u001b[0m\u001b[38;2;230;219;116;48;2;39;40;34m'\u001b[0m\u001b[38;2;248;248;242;48;2;39;40;34m:\u001b[0m\u001b[38;2;248;248;242;48;2;39;40;34m \u001b[0m\u001b[38;2;230;219;116;48;2;39;40;34m'\u001b[0m\u001b[38;2;230;219;116;48;2;39;40;34mCabernet Sauvignon\u001b[0m\u001b[38;2;230;219;116;48;2;39;40;34m'\u001b[0m\u001b[38;2;248;248;242;48;2;39;40;34m,\u001b[0m\u001b[48;2;39;40;34m                                                                 \u001b[0m  \n",
       "  \u001b[38;2;248;248;242;48;2;39;40;34m        \u001b[0m\u001b[38;2;230;219;116;48;2;39;40;34m'\u001b[0m\u001b[38;2;230;219;116;48;2;39;40;34mregion\u001b[0m\u001b[38;2;230;219;116;48;2;39;40;34m'\u001b[0m\u001b[38;2;248;248;242;48;2;39;40;34m:\u001b[0m\u001b[38;2;248;248;242;48;2;39;40;34m \u001b[0m\u001b[38;2;230;219;116;48;2;39;40;34m'\u001b[0m\u001b[38;2;230;219;116;48;2;39;40;34mBordeaux, Médoc, Saint-Émilion\u001b[0m\u001b[38;2;230;219;116;48;2;39;40;34m'\u001b[0m\u001b[38;2;248;248;242;48;2;39;40;34m,\u001b[0m\u001b[48;2;39;40;34m                                                            \u001b[0m  \n",
       "  \u001b[38;2;248;248;242;48;2;39;40;34m        \u001b[0m\u001b[38;2;230;219;116;48;2;39;40;34m'\u001b[0m\u001b[38;2;230;219;116;48;2;39;40;34mprice\u001b[0m\u001b[38;2;230;219;116;48;2;39;40;34m'\u001b[0m\u001b[38;2;248;248;242;48;2;39;40;34m:\u001b[0m\u001b[38;2;248;248;242;48;2;39;40;34m \u001b[0m\u001b[38;2;230;219;116;48;2;39;40;34m'\u001b[0m\u001b[38;2;230;219;116;48;2;39;40;34m€10 to over €1,000\u001b[0m\u001b[38;2;230;219;116;48;2;39;40;34m'\u001b[0m\u001b[38;2;248;248;242;48;2;39;40;34m,\u001b[0m\u001b[48;2;39;40;34m                                                                         \u001b[0m  \n",
       "  \u001b[38;2;248;248;242;48;2;39;40;34m        \u001b[0m\u001b[38;2;230;219;116;48;2;39;40;34m'\u001b[0m\u001b[38;2;230;219;116;48;2;39;40;34mrating\u001b[0m\u001b[38;2;230;219;116;48;2;39;40;34m'\u001b[0m\u001b[38;2;248;248;242;48;2;39;40;34m:\u001b[0m\u001b[38;2;248;248;242;48;2;39;40;34m \u001b[0m\u001b[38;2;230;219;116;48;2;39;40;34m'\u001b[0m\u001b[38;2;230;219;116;48;2;39;40;34m90+\u001b[0m\u001b[38;2;230;219;116;48;2;39;40;34m'\u001b[0m\u001b[48;2;39;40;34m                                                                                        \u001b[0m  \n",
       "  \u001b[38;2;248;248;242;48;2;39;40;34m    \u001b[0m\u001b[38;2;248;248;242;48;2;39;40;34m}\u001b[0m\u001b[38;2;248;248;242;48;2;39;40;34m,\u001b[0m\u001b[48;2;39;40;34m                                                                                                         \u001b[0m  \n",
       "  \u001b[38;2;248;248;242;48;2;39;40;34m    \u001b[0m\u001b[38;2;248;248;242;48;2;39;40;34m{\u001b[0m\u001b[48;2;39;40;34m                                                                                                          \u001b[0m  \n",
       "  \u001b[38;2;248;248;242;48;2;39;40;34m        \u001b[0m\u001b[38;2;230;219;116;48;2;39;40;34m'\u001b[0m\u001b[38;2;230;219;116;48;2;39;40;34mname\u001b[0m\u001b[38;2;230;219;116;48;2;39;40;34m'\u001b[0m\u001b[38;2;248;248;242;48;2;39;40;34m:\u001b[0m\u001b[38;2;248;248;242;48;2;39;40;34m \u001b[0m\u001b[38;2;230;219;116;48;2;39;40;34m'\u001b[0m\u001b[38;2;230;219;116;48;2;39;40;34mMerlot\u001b[0m\u001b[38;2;230;219;116;48;2;39;40;34m'\u001b[0m\u001b[38;2;248;248;242;48;2;39;40;34m,\u001b[0m\u001b[48;2;39;40;34m                                                                                      \u001b[0m  \n",
       "  \u001b[38;2;248;248;242;48;2;39;40;34m        \u001b[0m\u001b[38;2;230;219;116;48;2;39;40;34m'\u001b[0m\u001b[38;2;230;219;116;48;2;39;40;34mcolor\u001b[0m\u001b[38;2;230;219;116;48;2;39;40;34m'\u001b[0m\u001b[38;2;248;248;242;48;2;39;40;34m:\u001b[0m\u001b[38;2;248;248;242;48;2;39;40;34m \u001b[0m\u001b[38;2;230;219;116;48;2;39;40;34m'\u001b[0m\u001b[38;2;230;219;116;48;2;39;40;34mRed\u001b[0m\u001b[38;2;230;219;116;48;2;39;40;34m'\u001b[0m\u001b[38;2;248;248;242;48;2;39;40;34m,\u001b[0m\u001b[48;2;39;40;34m                                                                                        \u001b[0m  \n",
       "  \u001b[38;2;248;248;242;48;2;39;40;34m        \u001b[0m\u001b[38;2;230;219;116;48;2;39;40;34m'\u001b[0m\u001b[38;2;230;219;116;48;2;39;40;34mgrape_variety\u001b[0m\u001b[38;2;230;219;116;48;2;39;40;34m'\u001b[0m\u001b[38;2;248;248;242;48;2;39;40;34m:\u001b[0m\u001b[38;2;248;248;242;48;2;39;40;34m \u001b[0m\u001b[38;2;230;219;116;48;2;39;40;34m'\u001b[0m\u001b[38;2;230;219;116;48;2;39;40;34mMerlot\u001b[0m\u001b[38;2;230;219;116;48;2;39;40;34m'\u001b[0m\u001b[38;2;248;248;242;48;2;39;40;34m,\u001b[0m\u001b[48;2;39;40;34m                                                                             \u001b[0m  \n",
       "  \u001b[38;2;248;248;242;48;2;39;40;34m        \u001b[0m\u001b[38;2;230;219;116;48;2;39;40;34m'\u001b[0m\u001b[38;2;230;219;116;48;2;39;40;34mregion\u001b[0m\u001b[38;2;230;219;116;48;2;39;40;34m'\u001b[0m\u001b[38;2;248;248;242;48;2;39;40;34m:\u001b[0m\u001b[38;2;248;248;242;48;2;39;40;34m \u001b[0m\u001b[38;2;230;219;116;48;2;39;40;34m'\u001b[0m\u001b[38;2;230;219;116;48;2;39;40;34mBordeaux, Saint-Émilion, Pomerol\u001b[0m\u001b[38;2;230;219;116;48;2;39;40;34m'\u001b[0m\u001b[38;2;248;248;242;48;2;39;40;34m,\u001b[0m\u001b[48;2;39;40;34m                                                          \u001b[0m  \n",
       "  \u001b[38;2;248;248;242;48;2;39;40;34m        \u001b[0m\u001b[38;2;230;219;116;48;2;39;40;34m'\u001b[0m\u001b[38;2;230;219;116;48;2;39;40;34mprice\u001b[0m\u001b[38;2;230;219;116;48;2;39;40;34m'\u001b[0m\u001b[38;2;248;248;242;48;2;39;40;34m:\u001b[0m\u001b[38;2;248;248;242;48;2;39;40;34m \u001b[0m\u001b[38;2;230;219;116;48;2;39;40;34m'\u001b[0m\u001b[38;2;230;219;116;48;2;39;40;34m€10 to €200\u001b[0m\u001b[38;2;230;219;116;48;2;39;40;34m'\u001b[0m\u001b[38;2;248;248;242;48;2;39;40;34m,\u001b[0m\u001b[48;2;39;40;34m                                                                                \u001b[0m  \n",
       "  \u001b[38;2;248;248;242;48;2;39;40;34m        \u001b[0m\u001b[38;2;230;219;116;48;2;39;40;34m'\u001b[0m\u001b[38;2;230;219;116;48;2;39;40;34mrating\u001b[0m\u001b[38;2;230;219;116;48;2;39;40;34m'\u001b[0m\u001b[38;2;248;248;242;48;2;39;40;34m:\u001b[0m\u001b[38;2;248;248;242;48;2;39;40;34m \u001b[0m\u001b[38;2;230;219;116;48;2;39;40;34m'\u001b[0m\u001b[38;2;230;219;116;48;2;39;40;34m80-90\u001b[0m\u001b[38;2;230;219;116;48;2;39;40;34m'\u001b[0m\u001b[48;2;39;40;34m                                                                                      \u001b[0m  \n",
       "  \u001b[38;2;248;248;242;48;2;39;40;34m    \u001b[0m\u001b[38;2;248;248;242;48;2;39;40;34m}\u001b[0m\u001b[38;2;248;248;242;48;2;39;40;34m,\u001b[0m\u001b[48;2;39;40;34m                                                                                                         \u001b[0m  \n",
       "  \u001b[38;2;248;248;242;48;2;39;40;34m    \u001b[0m\u001b[38;2;248;248;242;48;2;39;40;34m{\u001b[0m\u001b[48;2;39;40;34m                                                                                                          \u001b[0m  \n",
       "  \u001b[38;2;248;248;242;48;2;39;40;34m        \u001b[0m\u001b[38;2;230;219;116;48;2;39;40;34m'\u001b[0m\u001b[38;2;230;219;116;48;2;39;40;34mname\u001b[0m\u001b[38;2;230;219;116;48;2;39;40;34m'\u001b[0m\u001b[38;2;248;248;242;48;2;39;40;34m:\u001b[0m\u001b[38;2;248;248;242;48;2;39;40;34m \u001b[0m\u001b[38;2;230;219;116;48;2;39;40;34m'\u001b[0m\u001b[38;2;230;219;116;48;2;39;40;34mSyrah/Shiraz\u001b[0m\u001b[38;2;230;219;116;48;2;39;40;34m'\u001b[0m\u001b[38;2;248;248;242;48;2;39;40;34m,\u001b[0m\u001b[48;2;39;40;34m                                                                                \u001b[0m  \n",
       "  \u001b[38;2;248;248;242;48;2;39;40;34m        \u001b[0m\u001b[38;2;230;219;116;48;2;39;40;34m'\u001b[0m\u001b[38;2;230;219;116;48;2;39;40;34mcolor\u001b[0m\u001b[38;2;230;219;116;48;2;39;40;34m'\u001b[0m\u001b[38;2;248;248;242;48;2;39;40;34m:\u001b[0m\u001b[38;2;248;248;242;48;2;39;40;34m \u001b[0m\u001b[38;2;230;219;116;48;2;39;40;34m'\u001b[0m\u001b[38;2;230;219;116;48;2;39;40;34mRed\u001b[0m\u001b[38;2;230;219;116;48;2;39;40;34m'\u001b[0m\u001b[38;2;248;248;242;48;2;39;40;34m,\u001b[0m\u001b[48;2;39;40;34m                                                                                        \u001b[0m  \n",
       "  \u001b[38;2;248;248;242;48;2;39;40;34m        \u001b[0m\u001b[38;2;230;219;116;48;2;39;40;34m'\u001b[0m\u001b[38;2;230;219;116;48;2;39;40;34mgrape_variety\u001b[0m\u001b[38;2;230;219;116;48;2;39;40;34m'\u001b[0m\u001b[38;2;248;248;242;48;2;39;40;34m:\u001b[0m\u001b[38;2;248;248;242;48;2;39;40;34m \u001b[0m\u001b[38;2;230;219;116;48;2;39;40;34m'\u001b[0m\u001b[38;2;230;219;116;48;2;39;40;34mSyrah/Shiraz\u001b[0m\u001b[38;2;230;219;116;48;2;39;40;34m'\u001b[0m\u001b[38;2;248;248;242;48;2;39;40;34m,\u001b[0m\u001b[48;2;39;40;34m                                                                       \u001b[0m  \n",
       "  \u001b[38;2;248;248;242;48;2;39;40;34m        \u001b[0m\u001b[38;2;230;219;116;48;2;39;40;34m'\u001b[0m\u001b[38;2;230;219;116;48;2;39;40;34mregion\u001b[0m\u001b[38;2;230;219;116;48;2;39;40;34m'\u001b[0m\u001b[38;2;248;248;242;48;2;39;40;34m:\u001b[0m\u001b[38;2;248;248;242;48;2;39;40;34m \u001b[0m\u001b[38;2;230;219;116;48;2;39;40;34m'\u001b[0m\u001b[38;2;230;219;116;48;2;39;40;34mCôtes du Rhône, Châteauneuf-du-Pape, Gigondas\u001b[0m\u001b[38;2;230;219;116;48;2;39;40;34m'\u001b[0m\u001b[38;2;248;248;242;48;2;39;40;34m,\u001b[0m\u001b[48;2;39;40;34m                                             \u001b[0m  \n",
       "  \u001b[38;2;248;248;242;48;2;39;40;34m        \u001b[0m\u001b[38;2;230;219;116;48;2;39;40;34m'\u001b[0m\u001b[38;2;230;219;116;48;2;39;40;34mprice\u001b[0m\u001b[38;2;230;219;116;48;2;39;40;34m'\u001b[0m\u001b[38;2;248;248;242;48;2;39;40;34m:\u001b[0m\u001b[38;2;248;248;242;48;2;39;40;34m \u001b[0m\u001b[38;2;230;219;116;48;2;39;40;34m'\u001b[0m\u001b[38;2;230;219;116;48;2;39;40;34m€15 to €500\u001b[0m\u001b[38;2;230;219;116;48;2;39;40;34m'\u001b[0m\u001b[38;2;248;248;242;48;2;39;40;34m,\u001b[0m\u001b[48;2;39;40;34m                                                                                \u001b[0m  \n",
       "  \u001b[38;2;248;248;242;48;2;39;40;34m        \u001b[0m\u001b[38;2;230;219;116;48;2;39;40;34m'\u001b[0m\u001b[38;2;230;219;116;48;2;39;40;34mrating\u001b[0m\u001b[38;2;230;219;116;48;2;39;40;34m'\u001b[0m\u001b[38;2;248;248;242;48;2;39;40;34m:\u001b[0m\u001b[38;2;248;248;242;48;2;39;40;34m \u001b[0m\u001b[38;2;230;219;116;48;2;39;40;34m'\u001b[0m\u001b[38;2;230;219;116;48;2;39;40;34m85-95\u001b[0m\u001b[38;2;230;219;116;48;2;39;40;34m'\u001b[0m\u001b[48;2;39;40;34m                                                                                      \u001b[0m  \n",
       "  \u001b[38;2;248;248;242;48;2;39;40;34m    \u001b[0m\u001b[38;2;248;248;242;48;2;39;40;34m}\u001b[0m\u001b[38;2;248;248;242;48;2;39;40;34m,\u001b[0m\u001b[48;2;39;40;34m                                                                                                         \u001b[0m  \n",
       "  \u001b[38;2;248;248;242;48;2;39;40;34m    \u001b[0m\u001b[38;2;248;248;242;48;2;39;40;34m{\u001b[0m\u001b[48;2;39;40;34m                                                                                                          \u001b[0m  \n",
       "  \u001b[38;2;248;248;242;48;2;39;40;34m        \u001b[0m\u001b[38;2;230;219;116;48;2;39;40;34m'\u001b[0m\u001b[38;2;230;219;116;48;2;39;40;34mname\u001b[0m\u001b[38;2;230;219;116;48;2;39;40;34m'\u001b[0m\u001b[38;2;248;248;242;48;2;39;40;34m:\u001b[0m\u001b[38;2;248;248;242;48;2;39;40;34m \u001b[0m\u001b[38;2;230;219;116;48;2;39;40;34m'\u001b[0m\u001b[38;2;230;219;116;48;2;39;40;34mMourvèdre\u001b[0m\u001b[38;2;230;219;116;48;2;39;40;34m'\u001b[0m\u001b[38;2;248;248;242;48;2;39;40;34m,\u001b[0m\u001b[48;2;39;40;34m                                                                                   \u001b[0m  \n",
       "  \u001b[38;2;248;248;242;48;2;39;40;34m        \u001b[0m\u001b[38;2;230;219;116;48;2;39;40;34m'\u001b[0m\u001b[38;2;230;219;116;48;2;39;40;34mcolor\u001b[0m\u001b[38;2;230;219;116;48;2;39;40;34m'\u001b[0m\u001b[38;2;248;248;242;48;2;39;40;34m:\u001b[0m\u001b[38;2;248;248;242;48;2;39;40;34m \u001b[0m\u001b[38;2;230;219;116;48;2;39;40;34m'\u001b[0m\u001b[38;2;230;219;116;48;2;39;40;34mRed\u001b[0m\u001b[38;2;230;219;116;48;2;39;40;34m'\u001b[0m\u001b[38;2;248;248;242;48;2;39;40;34m,\u001b[0m\u001b[48;2;39;40;34m                                                                                        \u001b[0m  \n",
       "  \u001b[38;2;248;248;242;48;2;39;40;34m        \u001b[0m\u001b[38;2;230;219;116;48;2;39;40;34m'\u001b[0m\u001b[38;2;230;219;116;48;2;39;40;34mgrape_variety\u001b[0m\u001b[38;2;230;219;116;48;2;39;40;34m'\u001b[0m\u001b[38;2;248;248;242;48;2;39;40;34m:\u001b[0m\u001b[38;2;248;248;242;48;2;39;40;34m \u001b[0m\u001b[38;2;230;219;116;48;2;39;40;34m'\u001b[0m\u001b[38;2;230;219;116;48;2;39;40;34mMourvèdre\u001b[0m\u001b[38;2;230;219;116;48;2;39;40;34m'\u001b[0m\u001b[38;2;248;248;242;48;2;39;40;34m,\u001b[0m\u001b[48;2;39;40;34m                                                                          \u001b[0m  \n",
       "  \u001b[38;2;248;248;242;48;2;39;40;34m        \u001b[0m\u001b[38;2;230;219;116;48;2;39;40;34m'\u001b[0m\u001b[38;2;230;219;116;48;2;39;40;34mregion\u001b[0m\u001b[38;2;230;219;116;48;2;39;40;34m'\u001b[0m\u001b[38;2;248;248;242;48;2;39;40;34m:\u001b[0m\u001b[38;2;248;248;242;48;2;39;40;34m \u001b[0m\u001b[38;2;230;219;116;48;2;39;40;34m'\u001b[0m\u001b[38;2;230;219;116;48;2;39;40;34mCôtes du Rhône, Gigondas, Châteauneuf-du-Pape, Bandol\u001b[0m\u001b[38;2;230;219;116;48;2;39;40;34m'\u001b[0m\u001b[38;2;248;248;242;48;2;39;40;34m,\u001b[0m\u001b[48;2;39;40;34m                                     \u001b[0m  \n",
       "  \u001b[38;2;248;248;242;48;2;39;40;34m        \u001b[0m\u001b[38;2;230;219;116;48;2;39;40;34m'\u001b[0m\u001b[38;2;230;219;116;48;2;39;40;34mprice\u001b[0m\u001b[38;2;230;219;116;48;2;39;40;34m'\u001b[0m\u001b[38;2;248;248;242;48;2;39;40;34m:\u001b[0m\u001b[38;2;248;248;242;48;2;39;40;34m \u001b[0m\u001b[38;2;230;219;116;48;2;39;40;34m'\u001b[0m\u001b[38;2;230;219;116;48;2;39;40;34m€20 to €300\u001b[0m\u001b[38;2;230;219;116;48;2;39;40;34m'\u001b[0m\u001b[38;2;248;248;242;48;2;39;40;34m,\u001b[0m\u001b[48;2;39;40;34m                                                                                \u001b[0m  \n",
       "  \u001b[38;2;248;248;242;48;2;39;40;34m        \u001b[0m\u001b[38;2;230;219;116;48;2;39;40;34m'\u001b[0m\u001b[38;2;230;219;116;48;2;39;40;34mrating\u001b[0m\u001b[38;2;230;219;116;48;2;39;40;34m'\u001b[0m\u001b[38;2;248;248;242;48;2;39;40;34m:\u001b[0m\u001b[38;2;248;248;242;48;2;39;40;34m \u001b[0m\u001b[38;2;230;219;116;48;2;39;40;34m'\u001b[0m\u001b[38;2;230;219;116;48;2;39;40;34m85-95\u001b[0m\u001b[38;2;230;219;116;48;2;39;40;34m'\u001b[0m\u001b[48;2;39;40;34m                                                                                      \u001b[0m  \n",
       "  \u001b[38;2;248;248;242;48;2;39;40;34m    \u001b[0m\u001b[38;2;248;248;242;48;2;39;40;34m}\u001b[0m\u001b[38;2;248;248;242;48;2;39;40;34m,\u001b[0m\u001b[48;2;39;40;34m                                                                                                         \u001b[0m  \n",
       "  \u001b[38;2;248;248;242;48;2;39;40;34m    \u001b[0m\u001b[38;2;248;248;242;48;2;39;40;34m{\u001b[0m\u001b[48;2;39;40;34m                                                                                                          \u001b[0m  \n",
       "  \u001b[38;2;248;248;242;48;2;39;40;34m        \u001b[0m\u001b[38;2;230;219;116;48;2;39;40;34m'\u001b[0m\u001b[38;2;230;219;116;48;2;39;40;34mname\u001b[0m\u001b[38;2;230;219;116;48;2;39;40;34m'\u001b[0m\u001b[38;2;248;248;242;48;2;39;40;34m:\u001b[0m\u001b[38;2;248;248;242;48;2;39;40;34m \u001b[0m\u001b[38;2;230;219;116;48;2;39;40;34m'\u001b[0m\u001b[38;2;230;219;116;48;2;39;40;34mGamay\u001b[0m\u001b[38;2;230;219;116;48;2;39;40;34m'\u001b[0m\u001b[38;2;248;248;242;48;2;39;40;34m,\u001b[0m\u001b[48;2;39;40;34m                                                                                       \u001b[0m  \n",
       "  \u001b[38;2;248;248;242;48;2;39;40;34m        \u001b[0m\u001b[38;2;230;219;116;48;2;39;40;34m'\u001b[0m\u001b[38;2;230;219;116;48;2;39;40;34mcolor\u001b[0m\u001b[38;2;230;219;116;48;2;39;40;34m'\u001b[0m\u001b[38;2;248;248;242;48;2;39;40;34m:\u001b[0m\u001b[38;2;248;248;242;48;2;39;40;34m \u001b[0m\u001b[38;2;230;219;116;48;2;39;40;34m'\u001b[0m\u001b[38;2;230;219;116;48;2;39;40;34mRed\u001b[0m\u001b[38;2;230;219;116;48;2;39;40;34m'\u001b[0m\u001b[38;2;248;248;242;48;2;39;40;34m,\u001b[0m\u001b[48;2;39;40;34m                                                                                        \u001b[0m  \n",
       "  \u001b[38;2;248;248;242;48;2;39;40;34m        \u001b[0m\u001b[38;2;230;219;116;48;2;39;40;34m'\u001b[0m\u001b[38;2;230;219;116;48;2;39;40;34mgrape_variety\u001b[0m\u001b[38;2;230;219;116;48;2;39;40;34m'\u001b[0m\u001b[38;2;248;248;242;48;2;39;40;34m:\u001b[0m\u001b[38;2;248;248;242;48;2;39;40;34m \u001b[0m\u001b[38;2;230;219;116;48;2;39;40;34m'\u001b[0m\u001b[38;2;230;219;116;48;2;39;40;34mGamay\u001b[0m\u001b[38;2;230;219;116;48;2;39;40;34m'\u001b[0m\u001b[38;2;248;248;242;48;2;39;40;34m,\u001b[0m\u001b[48;2;39;40;34m                                                                              \u001b[0m  \n",
       "  \u001b[38;2;248;248;242;48;2;39;40;34m        \u001b[0m\u001b[38;2;230;219;116;48;2;39;40;34m'\u001b[0m\u001b[38;2;230;219;116;48;2;39;40;34mregion\u001b[0m\u001b[38;2;230;219;116;48;2;39;40;34m'\u001b[0m\u001b[38;2;248;248;242;48;2;39;40;34m:\u001b[0m\u001b[38;2;248;248;242;48;2;39;40;34m \u001b[0m\u001b[38;2;230;219;116;48;2;39;40;34m'\u001b[0m\u001b[38;2;230;219;116;48;2;39;40;34mBeaujolais\u001b[0m\u001b[38;2;230;219;116;48;2;39;40;34m'\u001b[0m\u001b[38;2;248;248;242;48;2;39;40;34m,\u001b[0m\u001b[48;2;39;40;34m                                                                                \u001b[0m  \n",
       "  \u001b[38;2;248;248;242;48;2;39;40;34m        \u001b[0m\u001b[38;2;230;219;116;48;2;39;40;34m'\u001b[0m\u001b[38;2;230;219;116;48;2;39;40;34mprice\u001b[0m\u001b[38;2;230;219;116;48;2;39;40;34m'\u001b[0m\u001b[38;2;248;248;242;48;2;39;40;34m:\u001b[0m\u001b[38;2;248;248;242;48;2;39;40;34m \u001b[0m\u001b[38;2;230;219;116;48;2;39;40;34m'\u001b[0m\u001b[38;2;230;219;116;48;2;39;40;34m€5 to €40\u001b[0m\u001b[38;2;230;219;116;48;2;39;40;34m'\u001b[0m\u001b[38;2;248;248;242;48;2;39;40;34m,\u001b[0m\u001b[48;2;39;40;34m                                                                                  \u001b[0m  \n",
       "  \u001b[38;2;248;248;242;48;2;39;40;34m        \u001b[0m\u001b[38;2;230;219;116;48;2;39;40;34m'\u001b[0m\u001b[38;2;230;219;116;48;2;39;40;34mrating\u001b[0m\u001b[38;2;230;219;116;48;2;39;40;34m'\u001b[0m\u001b[38;2;248;248;242;48;2;39;40;34m:\u001b[0m\u001b[38;2;248;248;242;48;2;39;40;34m \u001b[0m\u001b[38;2;230;219;116;48;2;39;40;34m'\u001b[0m\u001b[38;2;230;219;116;48;2;39;40;34m75-85\u001b[0m\u001b[38;2;230;219;116;48;2;39;40;34m'\u001b[0m\u001b[48;2;39;40;34m                                                                                      \u001b[0m  \n",
       "  \u001b[38;2;248;248;242;48;2;39;40;34m    \u001b[0m\u001b[38;2;248;248;242;48;2;39;40;34m}\u001b[0m\u001b[38;2;248;248;242;48;2;39;40;34m,\u001b[0m\u001b[48;2;39;40;34m                                                                                                         \u001b[0m  \n",
       "  \u001b[38;2;248;248;242;48;2;39;40;34m    \u001b[0m\u001b[38;2;248;248;242;48;2;39;40;34m{\u001b[0m\u001b[48;2;39;40;34m                                                                                                          \u001b[0m  \n",
       "  \u001b[38;2;248;248;242;48;2;39;40;34m        \u001b[0m\u001b[38;2;230;219;116;48;2;39;40;34m'\u001b[0m\u001b[38;2;230;219;116;48;2;39;40;34mname\u001b[0m\u001b[38;2;230;219;116;48;2;39;40;34m'\u001b[0m\u001b[38;2;248;248;242;48;2;39;40;34m:\u001b[0m\u001b[38;2;248;248;242;48;2;39;40;34m \u001b[0m\u001b[38;2;230;219;116;48;2;39;40;34m'\u001b[0m\u001b[38;2;230;219;116;48;2;39;40;34mPinot Noir\u001b[0m\u001b[38;2;230;219;116;48;2;39;40;34m'\u001b[0m\u001b[38;2;248;248;242;48;2;39;40;34m,\u001b[0m\u001b[48;2;39;40;34m                                                                                  \u001b[0m  \n",
       "  \u001b[38;2;248;248;242;48;2;39;40;34m        \u001b[0m\u001b[38;2;230;219;116;48;2;39;40;34m'\u001b[0m\u001b[38;2;230;219;116;48;2;39;40;34mcolor\u001b[0m\u001b[38;2;230;219;116;48;2;39;40;34m'\u001b[0m\u001b[38;2;248;248;242;48;2;39;40;34m:\u001b[0m\u001b[38;2;248;248;242;48;2;39;40;34m \u001b[0m\u001b[38;2;230;219;116;48;2;39;40;34m'\u001b[0m\u001b[38;2;230;219;116;48;2;39;40;34mRed\u001b[0m\u001b[38;2;230;219;116;48;2;39;40;34m'\u001b[0m\u001b[38;2;248;248;242;48;2;39;40;34m,\u001b[0m\u001b[48;2;39;40;34m                                                                                        \u001b[0m  \n",
       "  \u001b[38;2;248;248;242;48;2;39;40;34m        \u001b[0m\u001b[38;2;230;219;116;48;2;39;40;34m'\u001b[0m\u001b[38;2;230;219;116;48;2;39;40;34mgrape_variety\u001b[0m\u001b[38;2;230;219;116;48;2;39;40;34m'\u001b[0m\u001b[38;2;248;248;242;48;2;39;40;34m:\u001b[0m\u001b[38;2;248;248;242;48;2;39;40;34m \u001b[0m\u001b[38;2;230;219;116;48;2;39;40;34m'\u001b[0m\u001b[38;2;230;219;116;48;2;39;40;34mPinot Noir\u001b[0m\u001b[38;2;230;219;116;48;2;39;40;34m'\u001b[0m\u001b[38;2;248;248;242;48;2;39;40;34m,\u001b[0m\u001b[48;2;39;40;34m                                                                         \u001b[0m  \n",
       "  \u001b[38;2;248;248;242;48;2;39;40;34m        \u001b[0m\u001b[38;2;230;219;116;48;2;39;40;34m'\u001b[0m\u001b[38;2;230;219;116;48;2;39;40;34mregion\u001b[0m\u001b[38;2;230;219;116;48;2;39;40;34m'\u001b[0m\u001b[38;2;248;248;242;48;2;39;40;34m:\u001b[0m\u001b[38;2;248;248;242;48;2;39;40;34m \u001b[0m\u001b[38;2;230;219;116;48;2;39;40;34m'\u001b[0m\u001b[38;2;230;219;116;48;2;39;40;34mBurgundy, Gevrey-Chambertin, Pommard\u001b[0m\u001b[38;2;230;219;116;48;2;39;40;34m'\u001b[0m\u001b[38;2;248;248;242;48;2;39;40;34m,\u001b[0m\u001b[48;2;39;40;34m                                                      \u001b[0m  \n",
       "  \u001b[38;2;248;248;242;48;2;39;40;34m        \u001b[0m\u001b[38;2;230;219;116;48;2;39;40;34m'\u001b[0m\u001b[38;2;230;219;116;48;2;39;40;34mprice\u001b[0m\u001b[38;2;230;219;116;48;2;39;40;34m'\u001b[0m\u001b[38;2;248;248;242;48;2;39;40;34m:\u001b[0m\u001b[38;2;248;248;242;48;2;39;40;34m \u001b[0m\u001b[38;2;230;219;116;48;2;39;40;34m'\u001b[0m\u001b[38;2;230;219;116;48;2;39;40;34m€35 to €500 for village-level wines, much higher for Crus\u001b[0m\u001b[38;2;230;219;116;48;2;39;40;34m'\u001b[0m\u001b[38;2;248;248;242;48;2;39;40;34m,\u001b[0m\u001b[48;2;39;40;34m                                  \u001b[0m  \n",
       "  \u001b[38;2;248;248;242;48;2;39;40;34m        \u001b[0m\u001b[38;2;230;219;116;48;2;39;40;34m'\u001b[0m\u001b[38;2;230;219;116;48;2;39;40;34mrating\u001b[0m\u001b[38;2;230;219;116;48;2;39;40;34m'\u001b[0m\u001b[38;2;248;248;242;48;2;39;40;34m:\u001b[0m\u001b[38;2;248;248;242;48;2;39;40;34m \u001b[0m\u001b[38;2;230;219;116;48;2;39;40;34m'\u001b[0m\u001b[38;2;230;219;116;48;2;39;40;34m90+\u001b[0m\u001b[38;2;230;219;116;48;2;39;40;34m'\u001b[0m\u001b[48;2;39;40;34m                                                                                        \u001b[0m  \n",
       "  \u001b[38;2;248;248;242;48;2;39;40;34m    \u001b[0m\u001b[38;2;248;248;242;48;2;39;40;34m}\u001b[0m\u001b[38;2;248;248;242;48;2;39;40;34m,\u001b[0m\u001b[48;2;39;40;34m                                                                                                         \u001b[0m  \n",
       "  \u001b[38;2;248;248;242;48;2;39;40;34m    \u001b[0m\u001b[38;2;248;248;242;48;2;39;40;34m{\u001b[0m\u001b[48;2;39;40;34m                                                                                                          \u001b[0m  \n",
       "  \u001b[38;2;248;248;242;48;2;39;40;34m        \u001b[0m\u001b[38;2;230;219;116;48;2;39;40;34m'\u001b[0m\u001b[38;2;230;219;116;48;2;39;40;34mname\u001b[0m\u001b[38;2;230;219;116;48;2;39;40;34m'\u001b[0m\u001b[38;2;248;248;242;48;2;39;40;34m:\u001b[0m\u001b[38;2;248;248;242;48;2;39;40;34m \u001b[0m\u001b[38;2;230;219;116;48;2;39;40;34m'\u001b[0m\u001b[38;2;230;219;116;48;2;39;40;34mMalbec\u001b[0m\u001b[38;2;230;219;116;48;2;39;40;34m'\u001b[0m\u001b[38;2;248;248;242;48;2;39;40;34m,\u001b[0m\u001b[48;2;39;40;34m                                                                                      \u001b[0m  \n",
       "  \u001b[38;2;248;248;242;48;2;39;40;34m        \u001b[0m\u001b[38;2;230;219;116;48;2;39;40;34m'\u001b[0m\u001b[38;2;230;219;116;48;2;39;40;34mcolor\u001b[0m\u001b[38;2;230;219;116;48;2;39;40;34m'\u001b[0m\u001b[38;2;248;248;242;48;2;39;40;34m:\u001b[0m\u001b[38;2;248;248;242;48;2;39;40;34m \u001b[0m\u001b[38;2;230;219;116;48;2;39;40;34m'\u001b[0m\u001b[38;2;230;219;116;48;2;39;40;34mRed\u001b[0m\u001b[38;2;230;219;116;48;2;39;40;34m'\u001b[0m\u001b[38;2;248;248;242;48;2;39;40;34m,\u001b[0m\u001b[48;2;39;40;34m                                                                                        \u001b[0m  \n",
       "  \u001b[38;2;248;248;242;48;2;39;40;34m        \u001b[0m\u001b[38;2;230;219;116;48;2;39;40;34m'\u001b[0m\u001b[38;2;230;219;116;48;2;39;40;34mgrape_variety\u001b[0m\u001b[38;2;230;219;116;48;2;39;40;34m'\u001b[0m\u001b[38;2;248;248;242;48;2;39;40;34m:\u001b[0m\u001b[38;2;248;248;242;48;2;39;40;34m \u001b[0m\u001b[38;2;230;219;116;48;2;39;40;34m'\u001b[0m\u001b[38;2;230;219;116;48;2;39;40;34mMalbec\u001b[0m\u001b[38;2;230;219;116;48;2;39;40;34m'\u001b[0m\u001b[38;2;248;248;242;48;2;39;40;34m,\u001b[0m\u001b[48;2;39;40;34m                                                                             \u001b[0m  \n",
       "  \u001b[38;2;248;248;242;48;2;39;40;34m        \u001b[0m\u001b[38;2;230;219;116;48;2;39;40;34m'\u001b[0m\u001b[38;2;230;219;116;48;2;39;40;34mregion\u001b[0m\u001b[38;2;230;219;116;48;2;39;40;34m'\u001b[0m\u001b[38;2;248;248;242;48;2;39;40;34m:\u001b[0m\u001b[38;2;248;248;242;48;2;39;40;34m \u001b[0m\u001b[38;2;230;219;116;48;2;39;40;34m'\u001b[0m\u001b[38;2;230;219;116;48;2;39;40;34mLanguedoc-Roussillon, Cahors\u001b[0m\u001b[38;2;230;219;116;48;2;39;40;34m'\u001b[0m\u001b[38;2;248;248;242;48;2;39;40;34m,\u001b[0m\u001b[48;2;39;40;34m                                                              \u001b[0m  \n",
       "  \u001b[38;2;248;248;242;48;2;39;40;34m        \u001b[0m\u001b[38;2;230;219;116;48;2;39;40;34m'\u001b[0m\u001b[38;2;230;219;116;48;2;39;40;34mprice\u001b[0m\u001b[38;2;230;219;116;48;2;39;40;34m'\u001b[0m\u001b[38;2;248;248;242;48;2;39;40;34m:\u001b[0m\u001b[38;2;248;248;242;48;2;39;40;34m \u001b[0m\u001b[38;2;230;219;116;48;2;39;40;34m'\u001b[0m\u001b[38;2;230;219;116;48;2;39;40;34m€25 to €150\u001b[0m\u001b[38;2;230;219;116;48;2;39;40;34m'\u001b[0m\u001b[38;2;248;248;242;48;2;39;40;34m,\u001b[0m\u001b[48;2;39;40;34m                                                                                \u001b[0m  \n",
       "  \u001b[38;2;248;248;242;48;2;39;40;34m        \u001b[0m\u001b[38;2;230;219;116;48;2;39;40;34m'\u001b[0m\u001b[38;2;230;219;116;48;2;39;40;34mrating\u001b[0m\u001b[38;2;230;219;116;48;2;39;40;34m'\u001b[0m\u001b[38;2;248;248;242;48;2;39;40;34m:\u001b[0m\u001b[38;2;248;248;242;48;2;39;40;34m \u001b[0m\u001b[38;2;230;219;116;48;2;39;40;34m'\u001b[0m\u001b[38;2;230;219;116;48;2;39;40;34m80-90, with some top-tier Malbecs higher\u001b[0m\u001b[38;2;230;219;116;48;2;39;40;34m'\u001b[0m\u001b[48;2;39;40;34m                                                   \u001b[0m  \n",
       "  \u001b[38;2;248;248;242;48;2;39;40;34m    \u001b[0m\u001b[38;2;248;248;242;48;2;39;40;34m}\u001b[0m\u001b[48;2;39;40;34m                                                                                                          \u001b[0m  \n",
       "  \u001b[38;2;248;248;242;48;2;39;40;34m]\u001b[0m\u001b[48;2;39;40;34m                                                                                                              \u001b[0m  \n",
       "  \u001b[48;2;39;40;34m                                                                                                               \u001b[0m  \n",
       "  \u001b[38;2;149;144;119;48;2;39;40;34m# Print the list of dictionaries to verify the structure\u001b[0m\u001b[48;2;39;40;34m                                                       \u001b[0m  \n",
       "  \u001b[38;2;248;248;242;48;2;39;40;34mprint\u001b[0m\u001b[38;2;248;248;242;48;2;39;40;34m(\u001b[0m\u001b[38;2;248;248;242;48;2;39;40;34mwine_cepages\u001b[0m\u001b[38;2;248;248;242;48;2;39;40;34m)\u001b[0m\u001b[48;2;39;40;34m                                                                                            \u001b[0m  \n",
       " ───────────────────────────────────────────────────────────────────────────────────────────────────────────────── \n"
      ]
     },
     "metadata": {},
     "output_type": "display_data"
    },
    {
     "data": {
      "text/html": [
       "<pre style=\"white-space:pre;overflow-x:auto;line-height:normal;font-family:Menlo,'DejaVu Sans Mono',consolas,'Courier New',monospace\"><span style=\"font-weight: bold\">Execution logs:</span>\n",
       "[{'name': 'Cabernet Sauvignon', 'color': 'Red', 'grape_variety': 'Cabernet Sauvignon', 'region': 'Bordeaux, Médoc, \n",
       "Saint-Émilion', 'price': '€10 to over €1,000', 'rating': '90+'}, {'name': 'Merlot', 'color': 'Red', \n",
       "'grape_variety': 'Merlot', 'region': 'Bordeaux, Saint-Émilion, Pomerol', 'price': '€10 to €200', 'rating': \n",
       "'80-90'}, {'name': 'Syrah/Shiraz', 'color': 'Red', 'grape_variety': 'Syrah/Shiraz', 'region': 'Côtes du Rhône, \n",
       "Châteauneuf-du-Pape, Gigondas', 'price': '€15 to €500', 'rating': '85-95'}, {'name': 'Mourvèdre', 'color': 'Red', \n",
       "'grape_variety': 'Mourvèdre', 'region': 'Côtes du Rhône, Gigondas, Châteauneuf-du-Pape, Bandol', 'price': '€20 to \n",
       "€300', 'rating': '85-95'}, {'name': 'Gamay', 'color': 'Red', 'grape_variety': 'Gamay', 'region': 'Beaujolais', \n",
       "'price': '€5 to €40', 'rating': '75-85'}, {'name': 'Pinot Noir', 'color': 'Red', 'grape_variety': 'Pinot Noir', \n",
       "'region': 'Burgundy, Gevrey-Chambertin, Pommard', 'price': '€35 to €500 for village-level wines, much higher for \n",
       "Crus', 'rating': '90+'}, {'name': 'Malbec', 'color': 'Red', 'grape_variety': 'Malbec', 'region': \n",
       "'Languedoc-Roussillon, Cahors', 'price': '€25 to €150', 'rating': '80-90, with some top-tier Malbecs higher'}]\n",
       "\n",
       "Out: None\n",
       "</pre>\n"
      ],
      "text/plain": [
       "\u001b[1mExecution logs:\u001b[0m\n",
       "[{'name': 'Cabernet Sauvignon', 'color': 'Red', 'grape_variety': 'Cabernet Sauvignon', 'region': 'Bordeaux, Médoc, \n",
       "Saint-Émilion', 'price': '€10 to over €1,000', 'rating': '90+'}, {'name': 'Merlot', 'color': 'Red', \n",
       "'grape_variety': 'Merlot', 'region': 'Bordeaux, Saint-Émilion, Pomerol', 'price': '€10 to €200', 'rating': \n",
       "'80-90'}, {'name': 'Syrah/Shiraz', 'color': 'Red', 'grape_variety': 'Syrah/Shiraz', 'region': 'Côtes du Rhône, \n",
       "Châteauneuf-du-Pape, Gigondas', 'price': '€15 to €500', 'rating': '85-95'}, {'name': 'Mourvèdre', 'color': 'Red', \n",
       "'grape_variety': 'Mourvèdre', 'region': 'Côtes du Rhône, Gigondas, Châteauneuf-du-Pape, Bandol', 'price': '€20 to \n",
       "€300', 'rating': '85-95'}, {'name': 'Gamay', 'color': 'Red', 'grape_variety': 'Gamay', 'region': 'Beaujolais', \n",
       "'price': '€5 to €40', 'rating': '75-85'}, {'name': 'Pinot Noir', 'color': 'Red', 'grape_variety': 'Pinot Noir', \n",
       "'region': 'Burgundy, Gevrey-Chambertin, Pommard', 'price': '€35 to €500 for village-level wines, much higher for \n",
       "Crus', 'rating': '90+'}, {'name': 'Malbec', 'color': 'Red', 'grape_variety': 'Malbec', 'region': \n",
       "'Languedoc-Roussillon, Cahors', 'price': '€25 to €150', 'rating': '80-90, with some top-tier Malbecs higher'}]\n",
       "\n",
       "Out: None\n"
      ]
     },
     "metadata": {},
     "output_type": "display_data"
    },
    {
     "data": {
      "text/html": [
       "<pre style=\"white-space:pre;overflow-x:auto;line-height:normal;font-family:Menlo,'DejaVu Sans Mono',consolas,'Courier New',monospace\"><span style=\"color: #7f7f7f; text-decoration-color: #7f7f7f\">[Step 2: Duration 52.29 seconds| Input tokens: 5,273 | Output tokens: 1,927]</span>\n",
       "</pre>\n"
      ],
      "text/plain": [
       "\u001b[2m[Step 2: Duration 52.29 seconds| Input tokens: 5,273 | Output tokens: 1,927]\u001b[0m\n"
      ]
     },
     "metadata": {},
     "output_type": "display_data"
    },
    {
     "data": {
      "text/html": [
       "<pre style=\"white-space:pre;overflow-x:auto;line-height:normal;font-family:Menlo,'DejaVu Sans Mono',consolas,'Courier New',monospace\"><span style=\"color: #d4b702; text-decoration-color: #d4b702\">━━━━━━━━━━━━━━━━━━━━━━━━━━━━━━━━━━━━━━━━━━━━━━━━━━━━━ </span><span style=\"font-weight: bold\">Step </span><span style=\"color: #008080; text-decoration-color: #008080; font-weight: bold\">3</span><span style=\"color: #d4b702; text-decoration-color: #d4b702\"> ━━━━━━━━━━━━━━━━━━━━━━━━━━━━━━━━━━━━━━━━━━━━━━━━━━━━━━</span>\n",
       "</pre>\n"
      ],
      "text/plain": [
       "\u001b[38;2;212;183;2m━━━━━━━━━━━━━━━━━━━━━━━━━━━━━━━━━━━━━━━━━━━━━━━━━━━━━ \u001b[0m\u001b[1mStep \u001b[0m\u001b[1;36m3\u001b[0m\u001b[38;2;212;183;2m ━━━━━━━━━━━━━━━━━━━━━━━━━━━━━━━━━━━━━━━━━━━━━━━━━━━━━━\u001b[0m\n"
      ]
     },
     "metadata": {},
     "output_type": "display_data"
    },
    {
     "data": {
      "text/html": [
       "<pre style=\"white-space:pre;overflow-x:auto;line-height:normal;font-family:Menlo,'DejaVu Sans Mono',consolas,'Courier New',monospace\"> ─ <span style=\"font-weight: bold\">Executing parsed code:</span> ──────────────────────────────────────────────────────────────────────────────────────── \n",
       "  <span style=\"color: #959077; text-decoration-color: #959077; background-color: #272822\"># Importing the pandas module to create a DataFrame and then convert it to a table</span><span style=\"background-color: #272822\">                             </span>  \n",
       "  <span style=\"color: #ff4689; text-decoration-color: #ff4689; background-color: #272822\">import</span><span style=\"color: #f8f8f2; text-decoration-color: #f8f8f2; background-color: #272822\"> pandas </span><span style=\"color: #66d9ef; text-decoration-color: #66d9ef; background-color: #272822\">as</span><span style=\"color: #f8f8f2; text-decoration-color: #f8f8f2; background-color: #272822\"> pd</span><span style=\"background-color: #272822\">                                                                                            </span>  \n",
       "  <span style=\"background-color: #272822\">                                                                                                               </span>  \n",
       "  <span style=\"color: #959077; text-decoration-color: #959077; background-color: #272822\"># Create a DataFrame from the wine_cepages list of dictionaries</span><span style=\"background-color: #272822\">                                                </span>  \n",
       "  <span style=\"color: #f8f8f2; text-decoration-color: #f8f8f2; background-color: #272822\">df </span><span style=\"color: #ff4689; text-decoration-color: #ff4689; background-color: #272822\">=</span><span style=\"color: #f8f8f2; text-decoration-color: #f8f8f2; background-color: #272822\"> pd</span><span style=\"color: #ff4689; text-decoration-color: #ff4689; background-color: #272822\">.</span><span style=\"color: #f8f8f2; text-decoration-color: #f8f8f2; background-color: #272822\">DataFrame(wine_cepages)</span><span style=\"background-color: #272822\">                                                                                </span>  \n",
       "  <span style=\"background-color: #272822\">                                                                                                               </span>  \n",
       "  <span style=\"color: #959077; text-decoration-color: #959077; background-color: #272822\"># Convert the DataFrame to a pretty table format</span><span style=\"background-color: #272822\">                                                               </span>  \n",
       "  <span style=\"color: #f8f8f2; text-decoration-color: #f8f8f2; background-color: #272822\">wine_cepages_table </span><span style=\"color: #ff4689; text-decoration-color: #ff4689; background-color: #272822\">=</span><span style=\"color: #f8f8f2; text-decoration-color: #f8f8f2; background-color: #272822\"> df</span><span style=\"color: #ff4689; text-decoration-color: #ff4689; background-color: #272822\">.</span><span style=\"color: #f8f8f2; text-decoration-color: #f8f8f2; background-color: #272822\">to_string(index</span><span style=\"color: #ff4689; text-decoration-color: #ff4689; background-color: #272822\">=</span><span style=\"color: #66d9ef; text-decoration-color: #66d9ef; background-color: #272822\">False</span><span style=\"color: #f8f8f2; text-decoration-color: #f8f8f2; background-color: #272822\">)</span><span style=\"background-color: #272822\">                                                                 </span>  \n",
       "  <span style=\"color: #f8f8f2; text-decoration-color: #f8f8f2; background-color: #272822\">print(wine_cepages_table)</span><span style=\"background-color: #272822\">                                                                                      </span>  \n",
       " ───────────────────────────────────────────────────────────────────────────────────────────────────────────────── \n",
       "</pre>\n"
      ],
      "text/plain": [
       " ─ \u001b[1mExecuting parsed code:\u001b[0m ──────────────────────────────────────────────────────────────────────────────────────── \n",
       "  \u001b[38;2;149;144;119;48;2;39;40;34m# Importing the pandas module to create a DataFrame and then convert it to a table\u001b[0m\u001b[48;2;39;40;34m                             \u001b[0m  \n",
       "  \u001b[38;2;255;70;137;48;2;39;40;34mimport\u001b[0m\u001b[38;2;248;248;242;48;2;39;40;34m \u001b[0m\u001b[38;2;248;248;242;48;2;39;40;34mpandas\u001b[0m\u001b[38;2;248;248;242;48;2;39;40;34m \u001b[0m\u001b[38;2;102;217;239;48;2;39;40;34mas\u001b[0m\u001b[38;2;248;248;242;48;2;39;40;34m \u001b[0m\u001b[38;2;248;248;242;48;2;39;40;34mpd\u001b[0m\u001b[48;2;39;40;34m                                                                                            \u001b[0m  \n",
       "  \u001b[48;2;39;40;34m                                                                                                               \u001b[0m  \n",
       "  \u001b[38;2;149;144;119;48;2;39;40;34m# Create a DataFrame from the wine_cepages list of dictionaries\u001b[0m\u001b[48;2;39;40;34m                                                \u001b[0m  \n",
       "  \u001b[38;2;248;248;242;48;2;39;40;34mdf\u001b[0m\u001b[38;2;248;248;242;48;2;39;40;34m \u001b[0m\u001b[38;2;255;70;137;48;2;39;40;34m=\u001b[0m\u001b[38;2;248;248;242;48;2;39;40;34m \u001b[0m\u001b[38;2;248;248;242;48;2;39;40;34mpd\u001b[0m\u001b[38;2;255;70;137;48;2;39;40;34m.\u001b[0m\u001b[38;2;248;248;242;48;2;39;40;34mDataFrame\u001b[0m\u001b[38;2;248;248;242;48;2;39;40;34m(\u001b[0m\u001b[38;2;248;248;242;48;2;39;40;34mwine_cepages\u001b[0m\u001b[38;2;248;248;242;48;2;39;40;34m)\u001b[0m\u001b[48;2;39;40;34m                                                                                \u001b[0m  \n",
       "  \u001b[48;2;39;40;34m                                                                                                               \u001b[0m  \n",
       "  \u001b[38;2;149;144;119;48;2;39;40;34m# Convert the DataFrame to a pretty table format\u001b[0m\u001b[48;2;39;40;34m                                                               \u001b[0m  \n",
       "  \u001b[38;2;248;248;242;48;2;39;40;34mwine_cepages_table\u001b[0m\u001b[38;2;248;248;242;48;2;39;40;34m \u001b[0m\u001b[38;2;255;70;137;48;2;39;40;34m=\u001b[0m\u001b[38;2;248;248;242;48;2;39;40;34m \u001b[0m\u001b[38;2;248;248;242;48;2;39;40;34mdf\u001b[0m\u001b[38;2;255;70;137;48;2;39;40;34m.\u001b[0m\u001b[38;2;248;248;242;48;2;39;40;34mto_string\u001b[0m\u001b[38;2;248;248;242;48;2;39;40;34m(\u001b[0m\u001b[38;2;248;248;242;48;2;39;40;34mindex\u001b[0m\u001b[38;2;255;70;137;48;2;39;40;34m=\u001b[0m\u001b[38;2;102;217;239;48;2;39;40;34mFalse\u001b[0m\u001b[38;2;248;248;242;48;2;39;40;34m)\u001b[0m\u001b[48;2;39;40;34m                                                                 \u001b[0m  \n",
       "  \u001b[38;2;248;248;242;48;2;39;40;34mprint\u001b[0m\u001b[38;2;248;248;242;48;2;39;40;34m(\u001b[0m\u001b[38;2;248;248;242;48;2;39;40;34mwine_cepages_table\u001b[0m\u001b[38;2;248;248;242;48;2;39;40;34m)\u001b[0m\u001b[48;2;39;40;34m                                                                                      \u001b[0m  \n",
       " ───────────────────────────────────────────────────────────────────────────────────────────────────────────────── \n"
      ]
     },
     "metadata": {},
     "output_type": "display_data"
    },
    {
     "data": {
      "text/html": [
       "<pre style=\"white-space:pre;overflow-x:auto;line-height:normal;font-family:Menlo,'DejaVu Sans Mono',consolas,'Courier New',monospace\"><span style=\"font-weight: bold\">Execution logs:</span>\n",
       "              name color      grape_variety                                                region                  \n",
       "price                                   rating\n",
       "Cabernet Sauvignon   Red Cabernet Sauvignon                        Bordeaux, Médoc, Saint-Émilion                  \n",
       "€10 to over €1,000                                      90+\n",
       "            Merlot   Red             Merlot                      Bordeaux, Saint-Émilion, Pomerol                  \n",
       "€10 to €200                                    80-90\n",
       "      Syrah/Shiraz   Red       Syrah/Shiraz         Côtes du Rhône, Châteauneuf-du-Pape, Gigondas                  \n",
       "€15 to €500                                    85-95\n",
       "         Mourvèdre   Red          Mourvèdre Côtes du Rhône, Gigondas, Châteauneuf-du-Pape, Bandol                  \n",
       "€20 to €300                                    85-95\n",
       "             Gamay   Red              Gamay                                            Beaujolais                  \n",
       "€5 to €40                                    75-85\n",
       "        Pinot Noir   Red         Pinot Noir                  Burgundy, Gevrey-Chambertin, Pommard €35 to €500 for \n",
       "village-level wines, much higher for Crus                                      90+\n",
       "            Malbec   Red             Malbec                          Languedoc-Roussillon, Cahors                  \n",
       "€25 to €150 80-90, with some top-tier Malbecs higher\n",
       "\n",
       "Out: None\n",
       "</pre>\n"
      ],
      "text/plain": [
       "\u001b[1mExecution logs:\u001b[0m\n",
       "              name color      grape_variety                                                region                  \n",
       "price                                   rating\n",
       "Cabernet Sauvignon   Red Cabernet Sauvignon                        Bordeaux, Médoc, Saint-Émilion                  \n",
       "€10 to over €1,000                                      90+\n",
       "            Merlot   Red             Merlot                      Bordeaux, Saint-Émilion, Pomerol                  \n",
       "€10 to €200                                    80-90\n",
       "      Syrah/Shiraz   Red       Syrah/Shiraz         Côtes du Rhône, Châteauneuf-du-Pape, Gigondas                  \n",
       "€15 to €500                                    85-95\n",
       "         Mourvèdre   Red          Mourvèdre Côtes du Rhône, Gigondas, Châteauneuf-du-Pape, Bandol                  \n",
       "€20 to €300                                    85-95\n",
       "             Gamay   Red              Gamay                                            Beaujolais                  \n",
       "€5 to €40                                    75-85\n",
       "        Pinot Noir   Red         Pinot Noir                  Burgundy, Gevrey-Chambertin, Pommard €35 to €500 for \n",
       "village-level wines, much higher for Crus                                      90+\n",
       "            Malbec   Red             Malbec                          Languedoc-Roussillon, Cahors                  \n",
       "€25 to €150 80-90, with some top-tier Malbecs higher\n",
       "\n",
       "Out: None\n"
      ]
     },
     "metadata": {},
     "output_type": "display_data"
    },
    {
     "data": {
      "text/html": [
       "<pre style=\"white-space:pre;overflow-x:auto;line-height:normal;font-family:Menlo,'DejaVu Sans Mono',consolas,'Courier New',monospace\"><span style=\"color: #7f7f7f; text-decoration-color: #7f7f7f\">[Step 3: Duration 8.87 seconds| Input tokens: 10,882 | Output tokens: 2,047]</span>\n",
       "</pre>\n"
      ],
      "text/plain": [
       "\u001b[2m[Step 3: Duration 8.87 seconds| Input tokens: 10,882 | Output tokens: 2,047]\u001b[0m\n"
      ]
     },
     "metadata": {},
     "output_type": "display_data"
    },
    {
     "data": {
      "text/html": [
       "<pre style=\"white-space:pre;overflow-x:auto;line-height:normal;font-family:Menlo,'DejaVu Sans Mono',consolas,'Courier New',monospace\"><span style=\"color: #d4b702; text-decoration-color: #d4b702\">━━━━━━━━━━━━━━━━━━━━━━━━━━━━━━━━━━━━━━━━━━━━━━━━━━━━━ </span><span style=\"font-weight: bold\">Step </span><span style=\"color: #008080; text-decoration-color: #008080; font-weight: bold\">4</span><span style=\"color: #d4b702; text-decoration-color: #d4b702\"> ━━━━━━━━━━━━━━━━━━━━━━━━━━━━━━━━━━━━━━━━━━━━━━━━━━━━━━</span>\n",
       "</pre>\n"
      ],
      "text/plain": [
       "\u001b[38;2;212;183;2m━━━━━━━━━━━━━━━━━━━━━━━━━━━━━━━━━━━━━━━━━━━━━━━━━━━━━ \u001b[0m\u001b[1mStep \u001b[0m\u001b[1;36m4\u001b[0m\u001b[38;2;212;183;2m ━━━━━━━━━━━━━━━━━━━━━━━━━━━━━━━━━━━━━━━━━━━━━━━━━━━━━━\u001b[0m\n"
      ]
     },
     "metadata": {},
     "output_type": "display_data"
    },
    {
     "data": {
      "text/html": [
       "<pre style=\"white-space:pre;overflow-x:auto;line-height:normal;font-family:Menlo,'DejaVu Sans Mono',consolas,'Courier New',monospace\"> ─ <span style=\"font-weight: bold\">Executing parsed code:</span> ──────────────────────────────────────────────────────────────────────────────────────── \n",
       "  <span style=\"color: #f8f8f2; text-decoration-color: #f8f8f2; background-color: #272822\">final_answer(wine_cepages_table)</span><span style=\"background-color: #272822\">                                                                               </span>  \n",
       " ───────────────────────────────────────────────────────────────────────────────────────────────────────────────── \n",
       "</pre>\n"
      ],
      "text/plain": [
       " ─ \u001b[1mExecuting parsed code:\u001b[0m ──────────────────────────────────────────────────────────────────────────────────────── \n",
       "  \u001b[38;2;248;248;242;48;2;39;40;34mfinal_answer\u001b[0m\u001b[38;2;248;248;242;48;2;39;40;34m(\u001b[0m\u001b[38;2;248;248;242;48;2;39;40;34mwine_cepages_table\u001b[0m\u001b[38;2;248;248;242;48;2;39;40;34m)\u001b[0m\u001b[48;2;39;40;34m                                                                               \u001b[0m  \n",
       " ───────────────────────────────────────────────────────────────────────────────────────────────────────────────── \n"
      ]
     },
     "metadata": {},
     "output_type": "display_data"
    },
    {
     "data": {
      "text/html": [
       "<pre style=\"white-space:pre;overflow-x:auto;line-height:normal;font-family:Menlo,'DejaVu Sans Mono',consolas,'Courier New',monospace\"><span style=\"color: #d4b702; text-decoration-color: #d4b702; font-weight: bold\">Out - Final answer:               name color      grape_variety                                                </span>\n",
       "<span style=\"color: #d4b702; text-decoration-color: #d4b702; font-weight: bold\">region                                                     price                                   rating</span>\n",
       "<span style=\"color: #d4b702; text-decoration-color: #d4b702; font-weight: bold\">Cabernet Sauvignon   Red Cabernet Sauvignon                        Bordeaux, Médoc, Saint-Émilion                  </span>\n",
       "<span style=\"color: #d4b702; text-decoration-color: #d4b702; font-weight: bold\">€10 to over €1,000                                      90+</span>\n",
       "<span style=\"color: #d4b702; text-decoration-color: #d4b702; font-weight: bold\">            Merlot   Red             Merlot                      Bordeaux, Saint-Émilion, Pomerol                  </span>\n",
       "<span style=\"color: #d4b702; text-decoration-color: #d4b702; font-weight: bold\">€10 to €200                                    80-90</span>\n",
       "<span style=\"color: #d4b702; text-decoration-color: #d4b702; font-weight: bold\">      Syrah/Shiraz   Red       Syrah/Shiraz         Côtes du Rhône, Châteauneuf-du-Pape, Gigondas                  </span>\n",
       "<span style=\"color: #d4b702; text-decoration-color: #d4b702; font-weight: bold\">€15 to €500                                    85-95</span>\n",
       "<span style=\"color: #d4b702; text-decoration-color: #d4b702; font-weight: bold\">         Mourvèdre   Red          Mourvèdre Côtes du Rhône, Gigondas, Châteauneuf-du-Pape, Bandol                  </span>\n",
       "<span style=\"color: #d4b702; text-decoration-color: #d4b702; font-weight: bold\">€20 to €300                                    85-95</span>\n",
       "<span style=\"color: #d4b702; text-decoration-color: #d4b702; font-weight: bold\">             Gamay   Red              Gamay                                            Beaujolais                  </span>\n",
       "<span style=\"color: #d4b702; text-decoration-color: #d4b702; font-weight: bold\">€5 to €40                                    75-85</span>\n",
       "<span style=\"color: #d4b702; text-decoration-color: #d4b702; font-weight: bold\">        Pinot Noir   Red         Pinot Noir                  Burgundy, Gevrey-Chambertin, Pommard €35 to €500 for </span>\n",
       "<span style=\"color: #d4b702; text-decoration-color: #d4b702; font-weight: bold\">village-level wines, much higher for Crus                                      90+</span>\n",
       "<span style=\"color: #d4b702; text-decoration-color: #d4b702; font-weight: bold\">            Malbec   Red             Malbec                          Languedoc-Roussillon, Cahors                  </span>\n",
       "<span style=\"color: #d4b702; text-decoration-color: #d4b702; font-weight: bold\">€25 to €150 80-90, with some top-tier Malbecs higher</span>\n",
       "</pre>\n"
      ],
      "text/plain": [
       "\u001b[1;38;2;212;183;2mOut - Final answer:               name color      grape_variety                                                \u001b[0m\n",
       "\u001b[1;38;2;212;183;2mregion                                                     price                                   rating\u001b[0m\n",
       "\u001b[1;38;2;212;183;2mCabernet Sauvignon   Red Cabernet Sauvignon                        Bordeaux, Médoc, Saint-Émilion                  \u001b[0m\n",
       "\u001b[1;38;2;212;183;2m€10 to over €1,000                                      90+\u001b[0m\n",
       "\u001b[1;38;2;212;183;2m            Merlot   Red             Merlot                      Bordeaux, Saint-Émilion, Pomerol                  \u001b[0m\n",
       "\u001b[1;38;2;212;183;2m€10 to €200                                    80-90\u001b[0m\n",
       "\u001b[1;38;2;212;183;2m      Syrah/Shiraz   Red       Syrah/Shiraz         Côtes du Rhône, Châteauneuf-du-Pape, Gigondas                  \u001b[0m\n",
       "\u001b[1;38;2;212;183;2m€15 to €500                                    85-95\u001b[0m\n",
       "\u001b[1;38;2;212;183;2m         Mourvèdre   Red          Mourvèdre Côtes du Rhône, Gigondas, Châteauneuf-du-Pape, Bandol                  \u001b[0m\n",
       "\u001b[1;38;2;212;183;2m€20 to €300                                    85-95\u001b[0m\n",
       "\u001b[1;38;2;212;183;2m             Gamay   Red              Gamay                                            Beaujolais                  \u001b[0m\n",
       "\u001b[1;38;2;212;183;2m€5 to €40                                    75-85\u001b[0m\n",
       "\u001b[1;38;2;212;183;2m        Pinot Noir   Red         Pinot Noir                  Burgundy, Gevrey-Chambertin, Pommard €35 to €500 for \u001b[0m\n",
       "\u001b[1;38;2;212;183;2mvillage-level wines, much higher for Crus                                      90+\u001b[0m\n",
       "\u001b[1;38;2;212;183;2m            Malbec   Red             Malbec                          Languedoc-Roussillon, Cahors                  \u001b[0m\n",
       "\u001b[1;38;2;212;183;2m€25 to €150 80-90, with some top-tier Malbecs higher\u001b[0m\n"
      ]
     },
     "metadata": {},
     "output_type": "display_data"
    },
    {
     "data": {
      "text/html": [
       "<pre style=\"white-space:pre;overflow-x:auto;line-height:normal;font-family:Menlo,'DejaVu Sans Mono',consolas,'Courier New',monospace\"><span style=\"color: #7f7f7f; text-decoration-color: #7f7f7f\">[Step 4: Duration 8.35 seconds| Input tokens: 17,067 | Output tokens: 2,094]</span>\n",
       "</pre>\n"
      ],
      "text/plain": [
       "\u001b[2m[Step 4: Duration 8.35 seconds| Input tokens: 17,067 | Output tokens: 2,094]\u001b[0m\n"
      ]
     },
     "metadata": {},
     "output_type": "display_data"
    }
   ],
   "source": [
    "wine_data = manager_agent.run(\"Make a comparative table of all wine cépages for red wine in France with the following information: name, color, grape variety, region, price, and rating.\")\n"
   ]
  },
  {
   "cell_type": "code",
   "execution_count": 30,
   "metadata": {},
   "outputs": [
    {
     "name": "stdout",
     "output_type": "stream",
     "text": [
      "Table saved as 'wine_comparative_table.csv'\n"
     ]
    },
    {
     "data": {
      "text/html": [
       "<pre style=\"white-space:pre;overflow-x:auto;line-height:normal;font-family:Menlo,'DejaVu Sans Mono',consolas,'Courier New',monospace\"><span style=\"color: #d4b702; text-decoration-color: #d4b702\">╭────────────────────────────────────────── </span><span style=\"color: #d4b702; text-decoration-color: #d4b702; font-weight: bold\">New run - web_search_agent</span><span style=\"color: #d4b702; text-decoration-color: #d4b702\"> ───────────────────────────────────────────╮</span>\n",
       "<span style=\"color: #d4b702; text-decoration-color: #d4b702\">│</span>                                                                                                                 <span style=\"color: #d4b702; text-decoration-color: #d4b702\">│</span>\n",
       "<span style=\"color: #d4b702; text-decoration-color: #d4b702\">│</span> <span style=\"font-weight: bold\">Make a comparative table of all wine cépages for red wine in France with the following information: name.</span>       <span style=\"color: #d4b702; text-decoration-color: #d4b702\">│</span>\n",
       "<span style=\"color: #d4b702; text-decoration-color: #d4b702\">│</span>                                                                                                                 <span style=\"color: #d4b702; text-decoration-color: #d4b702\">│</span>\n",
       "<span style=\"color: #d4b702; text-decoration-color: #d4b702\">╰─ HfApiModel - Qwen/Qwen2.5-Coder-32B-Instruct ──────────────────────────────────────────────────────────────────╯</span>\n",
       "</pre>\n"
      ],
      "text/plain": [
       "\u001b[38;2;212;183;2m╭─\u001b[0m\u001b[38;2;212;183;2m─────────────────────────────────────────\u001b[0m\u001b[38;2;212;183;2m \u001b[0m\u001b[1;38;2;212;183;2mNew run - web_search_agent\u001b[0m\u001b[38;2;212;183;2m \u001b[0m\u001b[38;2;212;183;2m──────────────────────────────────────────\u001b[0m\u001b[38;2;212;183;2m─╮\u001b[0m\n",
       "\u001b[38;2;212;183;2m│\u001b[0m                                                                                                                 \u001b[38;2;212;183;2m│\u001b[0m\n",
       "\u001b[38;2;212;183;2m│\u001b[0m \u001b[1mMake a comparative table of all wine cépages for red wine in France with the following information: name.\u001b[0m       \u001b[38;2;212;183;2m│\u001b[0m\n",
       "\u001b[38;2;212;183;2m│\u001b[0m                                                                                                                 \u001b[38;2;212;183;2m│\u001b[0m\n",
       "\u001b[38;2;212;183;2m╰─\u001b[0m\u001b[38;2;212;183;2m HfApiModel - Qwen/Qwen2.5-Coder-32B-Instruct \u001b[0m\u001b[38;2;212;183;2m─────────────────────────────────────────────────────────────────\u001b[0m\u001b[38;2;212;183;2m─╯\u001b[0m\n"
      ]
     },
     "metadata": {},
     "output_type": "display_data"
    },
    {
     "data": {
      "text/html": [
       "<pre style=\"white-space:pre;overflow-x:auto;line-height:normal;font-family:Menlo,'DejaVu Sans Mono',consolas,'Courier New',monospace\"><span style=\"color: #d4b702; text-decoration-color: #d4b702\">━━━━━━━━━━━━━━━━━━━━━━━━━━━━━━━━━━━━━━━━━━━━━━━━━━━━━ </span><span style=\"font-weight: bold\">Step </span><span style=\"color: #008080; text-decoration-color: #008080; font-weight: bold\">1</span><span style=\"color: #d4b702; text-decoration-color: #d4b702\"> ━━━━━━━━━━━━━━━━━━━━━━━━━━━━━━━━━━━━━━━━━━━━━━━━━━━━━━</span>\n",
       "</pre>\n"
      ],
      "text/plain": [
       "\u001b[38;2;212;183;2m━━━━━━━━━━━━━━━━━━━━━━━━━━━━━━━━━━━━━━━━━━━━━━━━━━━━━ \u001b[0m\u001b[1mStep \u001b[0m\u001b[1;36m1\u001b[0m\u001b[38;2;212;183;2m ━━━━━━━━━━━━━━━━━━━━━━━━━━━━━━━━━━━━━━━━━━━━━━━━━━━━━━\u001b[0m\n"
      ]
     },
     "metadata": {},
     "output_type": "display_data"
    },
    {
     "data": {
      "text/html": [
       "<pre style=\"white-space:pre;overflow-x:auto;line-height:normal;font-family:Menlo,'DejaVu Sans Mono',consolas,'Courier New',monospace\">╭─────────────────────────────────────────────────────────────────────────────────────────────────────────────────╮\n",
       "│ Calling tool: 'web_search' with arguments: {'query': 'List of red wine cépages in France'}                      │\n",
       "╰─────────────────────────────────────────────────────────────────────────────────────────────────────────────────╯\n",
       "</pre>\n"
      ],
      "text/plain": [
       "╭─────────────────────────────────────────────────────────────────────────────────────────────────────────────────╮\n",
       "│ Calling tool: 'web_search' with arguments: {'query': 'List of red wine cépages in France'}                      │\n",
       "╰─────────────────────────────────────────────────────────────────────────────────────────────────────────────────╯\n"
      ]
     },
     "metadata": {},
     "output_type": "display_data"
    },
    {
     "data": {
      "text/html": [
       "<pre style=\"white-space:pre;overflow-x:auto;line-height:normal;font-family:Menlo,'DejaVu Sans Mono',consolas,'Courier New',monospace\">Observations: ## Search Results\n",
       "\n",
       "|French Red Wines: <span style=\"color: #008080; text-decoration-color: #008080; font-weight: bold\">101</span> Red Wine Types in France | TasteAtlas<span style=\"font-weight: bold\">](</span><span style=\"color: #0000ff; text-decoration-color: #0000ff; text-decoration: underline\">https://www.tasteatlas.com/france/red-wine)</span>\n",
       "Garnacha, also known as Grenache in France, is a widely cultivated red wine grape variety known for producing wines\n",
       "with rich, fruity flavors and high alcohol content. It is one of the most versatile and widely p<span style=\"color: #808000; text-decoration-color: #808000\">...</span> READ MORE. <span style=\"color: #008080; text-decoration-color: #008080; font-weight: bold\">40</span>. \n",
       "Wine Appellation. Saint-Julien. Saint-Julien-Beychevelle. n/a.\n",
       "\n",
       "|<span style=\"color: #008080; text-decoration-color: #008080; font-weight: bold\">100</span> Best Red Wines in France - TasteAtlas<span style=\"font-weight: bold\">](</span><span style=\"color: #0000ff; text-decoration-color: #0000ff; text-decoration: underline\">https://www.tasteatlas.com/best-rated-red-wines-in-france)</span>\n",
       "Chambertin is a French appellation and a Grand Cru vineyard located in Burgundy, more precisely in the Côte de \n",
       "Nuits <span style=\"font-weight: bold\">(</span>Côte d'Or<span style=\"font-weight: bold\">)</span> wine region. The designation produces red wines that are mostly varietal and based on Pinot Noir.\n",
       "They typically display complex aromas of red and dark fruit that are often complemented by smoky notes of spices \n",
       "and licorice, as well as subtle herbal and floral nuances.\n",
       "\n",
       "|Liste des cépages - Vin-Vigne.com<span style=\"font-weight: bold\">](</span><span style=\"color: #0000ff; text-decoration-color: #0000ff; text-decoration: underline\">http://www.vin-vigne.com/cepage/)</span>\n",
       "En <span style=\"color: #008080; text-decoration-color: #008080; font-weight: bold\">2011</span>, la France comptait plus de <span style=\"color: #008080; text-decoration-color: #008080; font-weight: bold\">785</span> <span style=\"color: #008080; text-decoration-color: #008080; font-weight: bold\">000</span> hectares de vignes sur plus de <span style=\"color: #008080; text-decoration-color: #008080; font-weight: bold\">87</span> <span style=\"color: #008080; text-decoration-color: #008080; font-weight: bold\">000</span> exploitations viticoles \n",
       "<span style=\"font-weight: bold\">(</span>domaines, châteaux, coopératives, caves particulières…<span style=\"font-weight: bold\">)</span>. Ces vignes sont composées essentiellement <span style=\"font-weight: bold\">(</span>près de <span style=\"color: #008080; text-decoration-color: #008080; font-weight: bold\">70</span>%<span style=\"font-weight: bold\">)</span> \n",
       "des cépages rouges : merlot, grenache noir, cabernet sauvignon, pinot noir, carignan, poulsard et trousseau ; des \n",
       "cépages blancs : ugni blanc, chardonnay, sauvigon et <span style=\"color: #808000; text-decoration-color: #808000\">...</span>\n",
       "\n",
       "|From Pinot Noir to Cabernet Sauvignon: A French Red Wine Guide - WineO \n",
       "Mark<span style=\"font-weight: bold\">](</span><span style=\"color: #0000ff; text-decoration-color: #0000ff; text-decoration: underline\">https://www.wineomark.com/french-red-wine-guide/)</span>\n",
       "The French wine classification system, also known as the appellation d'origine contrôlée <span style=\"font-weight: bold\">(</span>AOC<span style=\"font-weight: bold\">)</span>, is a legal \n",
       "framework that defines the geographic origin, grape varieties, and winemaking practices for wines produced in \n",
       "France.In addition, the AOC system was established in <span style=\"color: #008080; text-decoration-color: #008080; font-weight: bold\">1935</span> to protect the quality and authenticity of French wines \n",
       "and has since become a model for wine regions around the world.\n",
       "\n",
       "|Les cépages français : Guide complet des variétés de raisin utilisées \n",
       "<span style=\"color: #808000; text-decoration-color: #808000\">...</span><span style=\"font-weight: bold\">](</span><span style=\"color: #0000ff; text-decoration-color: #0000ff; text-decoration: underline\">https://www.vinadomus.fr/content/les-cepages-francais-guide-complet)</span>\n",
       "Explorez les cépages utilisés dans les vins français, du Pinot Noir au Chardonnay, en passant par les cépages moins\n",
       "connus. Découvrez leur rôle, leurs arômes, et les meilleures régions de production. <span style=\"color: #808000; text-decoration-color: #808000\">...</span> La France, avec ses <span style=\"color: #008080; text-decoration-color: #008080; font-weight: bold\">806</span> <span style=\"color: #008080; text-decoration-color: #008080; font-weight: bold\">000</span>\n",
       "hectares de vignes, est le pays de référence en matière de diversité viticole.\n",
       "\n",
       "|French Red Wine <span style=\"font-weight: bold\">(</span>Types, Prices, Best Wines to Buy in <span style=\"color: #008080; text-decoration-color: #008080; font-weight: bold\">2025</span><span style=\"font-weight: bold\">)</span> - \n",
       "Vinovest<span style=\"font-weight: bold\">](</span><span style=\"color: #0000ff; text-decoration-color: #0000ff; text-decoration: underline\">https://www.vinovest.co/blog/french-red-wine)</span>\n",
       "A. <span style=\"color: #008080; text-decoration-color: #008080; font-weight: bold\">2016</span> Domaine du Pelican Arbois Trois Cepages, Jura. This French red contains a red blend of Pinot Noir, Poulsard\n",
       "and Trousseau. It is a light and perfumed wine with a mild flavor of berries, and aromas of wild herbs. <span style=\"color: #808000; text-decoration-color: #808000\">...</span> South \n",
       "West France is famous for its red wines. Some of the red wine grape varieties grown in the region include Cabernet \n",
       "<span style=\"color: #808000; text-decoration-color: #808000\">...</span>\n",
       "\n",
       "|Les cépages de France<span style=\"font-weight: bold\">](</span><span style=\"color: #0000ff; text-decoration-color: #0000ff; text-decoration: underline\">https://www.vindefrance.com/cepages-de-france)</span>\n",
       "Ces variétés de raisins qui font la renommée des Vins De France. Comme pour de nombreux fruits, les variétés de \n",
       "vigne produisent des raisins aux styles et aux goûts différents. Pour le plaisir de chaque consommateur de vin. Les\n",
       "plus connus dans le monde sont originaires de France. Merlot, Chardonnay, Sauvignon Blanc ou Syrah : voilà quelques\n",
       "noms de cépages bien français connus dans <span style=\"color: #808000; text-decoration-color: #808000\">...</span>\n",
       "\n",
       "|Liste des Cépages de Vin de A à Z - WineSelection.fr<span style=\"font-weight: bold\">](</span><span style=\"color: #0000ff; text-decoration-color: #0000ff; text-decoration: underline\">https://www.wineselection.fr/cepages/)</span>\n",
       "Découvrez le listing alphabétique des appellations de vin en France et à l'étranger. Tous les cépages de A à Z pour\n",
       "découvrir les vins autrement. <span style=\"color: #808000; text-decoration-color: #808000\">...</span> NOTRE WINE COLLECTIF. En savoir plus. NOS <span style=\"color: #008080; text-decoration-color: #008080; font-weight: bold\">7</span> ENGAGEMENTS. En savoir plus. LES \n",
       "CHEFS SOMMELIERS.\n",
       "\n",
       "|The different types of grape varieties in France - \n",
       "Oeni<span style=\"font-weight: bold\">](</span><span style=\"color: #0000ff; text-decoration-color: #0000ff; text-decoration: underline\">https://oeni.app/en/les-differents-types-de-cepages-en-france/)</span>\n",
       "In France, it is mainly grown in the Bordeaux region, where it makes up an essential part of the region's famous \n",
       "blends. Caractéristiques : Cabernet Sauvignon produces powerful, tannic wines with aromas of blackcurrant, green \n",
       "bell pepper, cedar and menthol. Wines made from this grape have excellent aging potential. <span style=\"color: #008080; text-decoration-color: #008080; font-weight: bold\">1.2</span> Merlot\n",
       "\n",
       "|Wine Types in France: A Guide to the Country's Best Varietals<span style=\"font-weight: bold\">](</span><span style=\"color: #0000ff; text-decoration-color: #0000ff; text-decoration: underline\">https://winesuncovered.com/wine-types-in-france/)</span>\n",
       "Embark on a journey through France's renowned wine-producing areas, each with its own signature varietals and \n",
       "styles. Bordeaux. In the Bordeaux region, nestled along the Gironde Estuary, you'll find a range of robust red \n",
       "wines, primarily made from Merlot and Cabernet Sauvignon grapes. This region is known for prestigious vineyards \n",
       "that <span style=\"color: #808000; text-decoration-color: #808000\">...</span>\n",
       "</pre>\n"
      ],
      "text/plain": [
       "Observations: ## Search Results\n",
       "\n",
       "|French Red Wines: \u001b[1;36m101\u001b[0m Red Wine Types in France | TasteAtlas\u001b[1m]\u001b[0m\u001b[1m(\u001b[0m\u001b[4;94mhttps://www.tasteatlas.com/france/red-wine\u001b[0m\u001b[4;94m)\u001b[0m\n",
       "Garnacha, also known as Grenache in France, is a widely cultivated red wine grape variety known for producing wines\n",
       "with rich, fruity flavors and high alcohol content. It is one of the most versatile and widely p\u001b[33m...\u001b[0m READ MORE. \u001b[1;36m40\u001b[0m. \n",
       "Wine Appellation. Saint-Julien. Saint-Julien-Beychevelle. n/a.\n",
       "\n",
       "|\u001b[1;36m100\u001b[0m Best Red Wines in France - TasteAtlas\u001b[1m]\u001b[0m\u001b[1m(\u001b[0m\u001b[4;94mhttps://www.tasteatlas.com/best-rated-red-wines-in-france\u001b[0m\u001b[4;94m)\u001b[0m\n",
       "Chambertin is a French appellation and a Grand Cru vineyard located in Burgundy, more precisely in the Côte de \n",
       "Nuits \u001b[1m(\u001b[0mCôte d'Or\u001b[1m)\u001b[0m wine region. The designation produces red wines that are mostly varietal and based on Pinot Noir.\n",
       "They typically display complex aromas of red and dark fruit that are often complemented by smoky notes of spices \n",
       "and licorice, as well as subtle herbal and floral nuances.\n",
       "\n",
       "|Liste des cépages - Vin-Vigne.com\u001b[1m]\u001b[0m\u001b[1m(\u001b[0m\u001b[4;94mhttp://www.vin-vigne.com/cepage/\u001b[0m\u001b[4;94m)\u001b[0m\n",
       "En \u001b[1;36m2011\u001b[0m, la France comptait plus de \u001b[1;36m785\u001b[0m \u001b[1;36m000\u001b[0m hectares de vignes sur plus de \u001b[1;36m87\u001b[0m \u001b[1;36m000\u001b[0m exploitations viticoles \n",
       "\u001b[1m(\u001b[0mdomaines, châteaux, coopératives, caves particulières…\u001b[1m)\u001b[0m. Ces vignes sont composées essentiellement \u001b[1m(\u001b[0mprès de \u001b[1;36m70\u001b[0m%\u001b[1m)\u001b[0m \n",
       "des cépages rouges : merlot, grenache noir, cabernet sauvignon, pinot noir, carignan, poulsard et trousseau ; des \n",
       "cépages blancs : ugni blanc, chardonnay, sauvigon et \u001b[33m...\u001b[0m\n",
       "\n",
       "|From Pinot Noir to Cabernet Sauvignon: A French Red Wine Guide - WineO \n",
       "Mark\u001b[1m]\u001b[0m\u001b[1m(\u001b[0m\u001b[4;94mhttps://www.wineomark.com/french-red-wine-guide/\u001b[0m\u001b[4;94m)\u001b[0m\n",
       "The French wine classification system, also known as the appellation d'origine contrôlée \u001b[1m(\u001b[0mAOC\u001b[1m)\u001b[0m, is a legal \n",
       "framework that defines the geographic origin, grape varieties, and winemaking practices for wines produced in \n",
       "France.In addition, the AOC system was established in \u001b[1;36m1935\u001b[0m to protect the quality and authenticity of French wines \n",
       "and has since become a model for wine regions around the world.\n",
       "\n",
       "|Les cépages français : Guide complet des variétés de raisin utilisées \n",
       "\u001b[33m...\u001b[0m\u001b[1m]\u001b[0m\u001b[1m(\u001b[0m\u001b[4;94mhttps://www.vinadomus.fr/content/les-cepages-francais-guide-complet\u001b[0m\u001b[4;94m)\u001b[0m\n",
       "Explorez les cépages utilisés dans les vins français, du Pinot Noir au Chardonnay, en passant par les cépages moins\n",
       "connus. Découvrez leur rôle, leurs arômes, et les meilleures régions de production. \u001b[33m...\u001b[0m La France, avec ses \u001b[1;36m806\u001b[0m \u001b[1;36m000\u001b[0m\n",
       "hectares de vignes, est le pays de référence en matière de diversité viticole.\n",
       "\n",
       "|French Red Wine \u001b[1m(\u001b[0mTypes, Prices, Best Wines to Buy in \u001b[1;36m2025\u001b[0m\u001b[1m)\u001b[0m - \n",
       "Vinovest\u001b[1m]\u001b[0m\u001b[1m(\u001b[0m\u001b[4;94mhttps://www.vinovest.co/blog/french-red-wine\u001b[0m\u001b[4;94m)\u001b[0m\n",
       "A. \u001b[1;36m2016\u001b[0m Domaine du Pelican Arbois Trois Cepages, Jura. This French red contains a red blend of Pinot Noir, Poulsard\n",
       "and Trousseau. It is a light and perfumed wine with a mild flavor of berries, and aromas of wild herbs. \u001b[33m...\u001b[0m South \n",
       "West France is famous for its red wines. Some of the red wine grape varieties grown in the region include Cabernet \n",
       "\u001b[33m...\u001b[0m\n",
       "\n",
       "|Les cépages de France\u001b[1m]\u001b[0m\u001b[1m(\u001b[0m\u001b[4;94mhttps://www.vindefrance.com/cepages-de-france\u001b[0m\u001b[4;94m)\u001b[0m\n",
       "Ces variétés de raisins qui font la renommée des Vins De France. Comme pour de nombreux fruits, les variétés de \n",
       "vigne produisent des raisins aux styles et aux goûts différents. Pour le plaisir de chaque consommateur de vin. Les\n",
       "plus connus dans le monde sont originaires de France. Merlot, Chardonnay, Sauvignon Blanc ou Syrah : voilà quelques\n",
       "noms de cépages bien français connus dans \u001b[33m...\u001b[0m\n",
       "\n",
       "|Liste des Cépages de Vin de A à Z - WineSelection.fr\u001b[1m]\u001b[0m\u001b[1m(\u001b[0m\u001b[4;94mhttps://www.wineselection.fr/cepages/\u001b[0m\u001b[4;94m)\u001b[0m\n",
       "Découvrez le listing alphabétique des appellations de vin en France et à l'étranger. Tous les cépages de A à Z pour\n",
       "découvrir les vins autrement. \u001b[33m...\u001b[0m NOTRE WINE COLLECTIF. En savoir plus. NOS \u001b[1;36m7\u001b[0m ENGAGEMENTS. En savoir plus. LES \n",
       "CHEFS SOMMELIERS.\n",
       "\n",
       "|The different types of grape varieties in France - \n",
       "Oeni\u001b[1m]\u001b[0m\u001b[1m(\u001b[0m\u001b[4;94mhttps://oeni.app/en/les-differents-types-de-cepages-en-france/\u001b[0m\u001b[4;94m)\u001b[0m\n",
       "In France, it is mainly grown in the Bordeaux region, where it makes up an essential part of the region's famous \n",
       "blends. Caractéristiques : Cabernet Sauvignon produces powerful, tannic wines with aromas of blackcurrant, green \n",
       "bell pepper, cedar and menthol. Wines made from this grape have excellent aging potential. \u001b[1;36m1.2\u001b[0m Merlot\n",
       "\n",
       "|Wine Types in France: A Guide to the Country's Best Varietals\u001b[1m]\u001b[0m\u001b[1m(\u001b[0m\u001b[4;94mhttps://winesuncovered.com/wine-types-in-france/\u001b[0m\u001b[4;94m)\u001b[0m\n",
       "Embark on a journey through France's renowned wine-producing areas, each with its own signature varietals and \n",
       "styles. Bordeaux. In the Bordeaux region, nestled along the Gironde Estuary, you'll find a range of robust red \n",
       "wines, primarily made from Merlot and Cabernet Sauvignon grapes. This region is known for prestigious vineyards \n",
       "that \u001b[33m...\u001b[0m\n"
      ]
     },
     "metadata": {},
     "output_type": "display_data"
    },
    {
     "data": {
      "text/html": [
       "<pre style=\"white-space:pre;overflow-x:auto;line-height:normal;font-family:Menlo,'DejaVu Sans Mono',consolas,'Courier New',monospace\"><span style=\"color: #7f7f7f; text-decoration-color: #7f7f7f\">[Step 1: Duration 2.98 seconds| Input tokens: 1,298 | Output tokens: 28]</span>\n",
       "</pre>\n"
      ],
      "text/plain": [
       "\u001b[2m[Step 1: Duration 2.98 seconds| Input tokens: 1,298 | Output tokens: 28]\u001b[0m\n"
      ]
     },
     "metadata": {},
     "output_type": "display_data"
    },
    {
     "data": {
      "text/html": [
       "<pre style=\"white-space:pre;overflow-x:auto;line-height:normal;font-family:Menlo,'DejaVu Sans Mono',consolas,'Courier New',monospace\"><span style=\"color: #800000; text-decoration-color: #800000; font-weight: bold\">Reached max steps.</span>\n",
       "</pre>\n"
      ],
      "text/plain": [
       "\u001b[1;31mReached max steps.\u001b[0m\n"
      ]
     },
     "metadata": {},
     "output_type": "display_data"
    },
    {
     "data": {
      "text/html": [
       "<pre style=\"white-space:pre;overflow-x:auto;line-height:normal;font-family:Menlo,'DejaVu Sans Mono',consolas,'Courier New',monospace\"><span style=\"color: #7f7f7f; text-decoration-color: #7f7f7f\">[Step 2: Duration 25.70 seconds| Input tokens: 2,678 | Output tokens: 493]</span>\n",
       "</pre>\n"
      ],
      "text/plain": [
       "\u001b[2m[Step 2: Duration 25.70 seconds| Input tokens: 2,678 | Output tokens: 493]\u001b[0m\n"
      ]
     },
     "metadata": {},
     "output_type": "display_data"
    },
    {
     "ename": "AttributeError",
     "evalue": "module 'pandas' has no attribute 'StringIO'",
     "output_type": "error",
     "traceback": [
      "\u001b[0;31m---------------------------------------------------------------------------\u001b[0m",
      "\u001b[0;31mAttributeError\u001b[0m                            Traceback (most recent call last)",
      "Cell \u001b[0;32mIn[30], line 19\u001b[0m\n\u001b[1;32m     16\u001b[0m wine_data \u001b[38;5;241m=\u001b[39m web_agent\u001b[38;5;241m.\u001b[39mrun(\u001b[38;5;124m\"\u001b[39m\u001b[38;5;124mMake a comparative table of all wine cépages for red wine in France with the following information: name.\u001b[39m\u001b[38;5;124m\"\u001b[39m)\n\u001b[1;32m     18\u001b[0m \u001b[38;5;66;03m# Convert the wine_data text to a DataFrame\u001b[39;00m\n\u001b[0;32m---> 19\u001b[0m wine_table \u001b[38;5;241m=\u001b[39m pd\u001b[38;5;241m.\u001b[39mread_csv(\u001b[43mpd\u001b[49m\u001b[38;5;241;43m.\u001b[39;49m\u001b[43mStringIO\u001b[49m(\u001b[38;5;28mstr\u001b[39m(wine_data)), sep\u001b[38;5;241m=\u001b[39m\u001b[38;5;124m\"\u001b[39m\u001b[38;5;124m|\u001b[39m\u001b[38;5;124m\"\u001b[39m)\n",
      "\u001b[0;31mAttributeError\u001b[0m: module 'pandas' has no attribute 'StringIO'"
     ]
    }
   ],
   "source": [
    "## Read a json cepages.json\n",
    "with open('cepages.json', 'r') as f:\n",
    "    cepages = json.load(f)\n",
    "\n",
    "wine_table = pd.DataFrame(cepages)\n",
    "\n",
    "# Display the table\n",
    "wine_table.head()\n",
    "\n",
    "# Save to CSV\n",
    "wine_table.to_csv(\"wine_comparative_table.csv\", index=False)\n",
    "\n",
    "print(\"Table saved as 'wine_comparative_table.csv'\")\n",
    "\n",
    "# Use the web_agent to get the data\n",
    "wine_data = web_agent.run(\"Make a comparative table of all wine cépages for red wine in France with the following information: name.\")\n",
    "\n",
    "# Convert the wine_data text to a DataFrame\n",
    "wine_table = pd.read_csv(StringIO(str(wine_data)), sep=\"|\")\n",
    "\n"
   ]
  },
  {
   "cell_type": "code",
   "execution_count": 25,
   "metadata": {},
   "outputs": [
    {
     "ename": "NameError",
     "evalue": "name 'wine_table' is not defined",
     "output_type": "error",
     "traceback": [
      "\u001b[0;31m---------------------------------------------------------------------------\u001b[0m",
      "\u001b[0;31mNameError\u001b[0m                                 Traceback (most recent call last)",
      "Cell \u001b[0;32mIn[25], line 2\u001b[0m\n\u001b[1;32m      1\u001b[0m \u001b[38;5;66;03m# Save to CSV\u001b[39;00m\n\u001b[0;32m----> 2\u001b[0m \u001b[43mwine_table\u001b[49m\u001b[38;5;241m.\u001b[39mto_csv(\u001b[38;5;124m\"\u001b[39m\u001b[38;5;124mwine_comparative_table.csv\u001b[39m\u001b[38;5;124m\"\u001b[39m, index\u001b[38;5;241m=\u001b[39m\u001b[38;5;28;01mFalse\u001b[39;00m)\n\u001b[1;32m      4\u001b[0m \u001b[38;5;28mprint\u001b[39m(\u001b[38;5;124m\"\u001b[39m\u001b[38;5;124mTable saved as \u001b[39m\u001b[38;5;124m'\u001b[39m\u001b[38;5;124mwine_comparative_table.csv\u001b[39m\u001b[38;5;124m'\u001b[39m\u001b[38;5;124m\"\u001b[39m)\n",
      "\u001b[0;31mNameError\u001b[0m: name 'wine_table' is not defined"
     ]
    }
   ],
   "source": [
    "# Save to CSV\n",
    "wine_table.to_csv(\"wine_comparative_table.csv\", index=False)\n",
    "\n",
    "print(\"Table saved as 'wine_comparative_table.csv'\")"
   ]
  },
  {
   "cell_type": "code",
   "execution_count": null,
   "metadata": {},
   "outputs": [],
   "source": []
  }
 ],
 "metadata": {
  "kernelspec": {
   "display_name": "agent",
   "language": "python",
   "name": "python3"
  },
  "language_info": {
   "codemirror_mode": {
    "name": "ipython",
    "version": 3
   },
   "file_extension": ".py",
   "mimetype": "text/x-python",
   "name": "python",
   "nbconvert_exporter": "python",
   "pygments_lexer": "ipython3",
   "version": "3.11.11"
  }
 },
 "nbformat": 4,
 "nbformat_minor": 2
}
