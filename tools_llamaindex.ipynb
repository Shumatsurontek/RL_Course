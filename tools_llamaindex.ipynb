{
 "cells": [
  {
   "cell_type": "markdown",
   "metadata": {},
   "source": [
    "#  Creating a FunctionTool"
   ]
  },
  {
   "cell_type": "code",
   "execution_count": 1,
   "metadata": {},
   "outputs": [],
   "source": [
    "!pip install llama-index datasets llama-index-callbacks-arize-phoenix llama-index-vector-stores-chroma llama-index-llms-huggingface-api -U -q"
   ]
  },
  {
   "cell_type": "code",
   "execution_count": 2,
   "metadata": {},
   "outputs": [
    {
     "data": {
      "application/vnd.jupyter.widget-view+json": {
       "model_id": "d76d283e324e444fb0c88df033850d8c",
       "version_major": 2,
       "version_minor": 0
      },
      "text/plain": [
       "VBox(children=(HTML(value='<center> <img\\nsrc=https://huggingface.co/front/assets/huggingface_logo-noborder.sv…"
      ]
     },
     "metadata": {},
     "output_type": "display_data"
    },
    {
     "name": "stderr",
     "output_type": "stream",
     "text": [
      "Note: Environment variable`HF_TOKEN` is set and is the current active token independently from the token you've just configured.\n"
     ]
    }
   ],
   "source": [
    "from huggingface_hub import login\n",
    "\n",
    "login()"
   ]
  },
  {
   "cell_type": "code",
   "execution_count": 4,
   "metadata": {},
   "outputs": [
    {
     "name": "stdout",
     "output_type": "stream",
     "text": [
      "Getting weather for Bordeaux\n"
     ]
    },
    {
     "data": {
      "text/plain": [
       "ToolOutput(content='The weather in Bordeaux is sunny', tool_name='my_weather_tool', raw_input={'args': ('Bordeaux',), 'kwargs': {}}, raw_output='The weather in Bordeaux is sunny', is_error=False)"
      ]
     },
     "execution_count": 4,
     "metadata": {},
     "output_type": "execute_result"
    }
   ],
   "source": [
    "from llama_index.core.tools import FunctionTool\n",
    "\n",
    "def get_weather(location: str) -> str:\n",
    "    \"\"\"Useful for getting the weather for a given location.\"\"\"\n",
    "    print(f\"Getting weather for {location}\")\n",
    "    return f\"The weather in {location} is sunny\"\n",
    "\n",
    "tool = FunctionTool.from_defaults(\n",
    "    get_weather,\n",
    "    name=\"my_weather_tool\",\n",
    "    description=\"Useful for getting the weather for a given location.\",\n",
    ")\n",
    "tool.call(\"Bordeaux\")"
   ]
  },
  {
   "cell_type": "markdown",
   "metadata": {},
   "source": [
    "# Creating a QueryEngineTool"
   ]
  },
  {
   "cell_type": "code",
   "execution_count": null,
   "metadata": {},
   "outputs": [
    {
     "data": {
      "text/plain": [
       "ToolOutput(content='Their expertise lies in understanding the effects of environmental changes on ecosystems, which may be less directly related to the rapid advancements in artificial intelligence and its potential impact on society.', tool_name='some useful name', raw_input={'input': 'Responds about research on the impact of AI on the future of work and society?'}, raw_output=Response(response='Their expertise lies in understanding the effects of environmental changes on ecosystems, which may be less directly related to the rapid advancements in artificial intelligence and its potential impact on society.', source_nodes=[NodeWithScore(node=TextNode(id_='f3a38509-e317-48c3-852f-5ee449516c04', embedding=None, metadata={'file_path': '/home/arthur/Workspace/Perso/RL_Course/data/persona_1002.txt', 'file_name': 'persona_1002.txt', 'file_type': 'text/plain', 'file_size': 122, 'creation_date': '2025-03-10', 'last_modified_date': '2025-03-10'}, excluded_embed_metadata_keys=['file_name', 'file_type', 'file_size', 'creation_date', 'last_modified_date', 'last_accessed_date'], excluded_llm_metadata_keys=['file_name', 'file_type', 'file_size', 'creation_date', 'last_modified_date', 'last_accessed_date'], relationships={<NodeRelationship.SOURCE: '1'>: RelatedNodeInfo(node_id='6cf73158-391e-4d03-a325-751b9a037204', node_type='4', metadata={'file_path': '/home/arthur/Workspace/Perso/RL_Course/data/persona_1002.txt', 'file_name': 'persona_1002.txt', 'file_type': 'text/plain', 'file_size': 122, 'creation_date': '2025-03-10', 'last_modified_date': '2025-03-10'}, hash='15d16222c8939184307ccef689fc9f553b352062a5b0719a64e482bace2c9f71')}, metadata_template='{key}: {value}', metadata_separator='\\n', text='An ecologist specializing in climate change impacts on regional ecosystems, particularly those with diverse plant species.', mimetype='text/plain', start_char_idx=0, end_char_idx=122, metadata_seperator='\\n', text_template='{metadata_str}\\n\\n{content}'), score=0.37361259185976425), NodeWithScore(node=TextNode(id_='c0fb72aa-7aac-4329-8402-76b0485e21cc', embedding=None, metadata={'file_path': '/home/arthur/Workspace/Perso/RL_Course/data/persona_1002.txt', 'file_name': 'persona_1002.txt', 'file_type': 'text/plain', 'file_size': 122, 'creation_date': '2025-03-10', 'last_modified_date': '2025-03-10'}, excluded_embed_metadata_keys=['file_name', 'file_type', 'file_size', 'creation_date', 'last_modified_date', 'last_accessed_date'], excluded_llm_metadata_keys=['file_name', 'file_type', 'file_size', 'creation_date', 'last_modified_date', 'last_accessed_date'], relationships={<NodeRelationship.SOURCE: '1'>: RelatedNodeInfo(node_id='1b4d56bf-e7da-4f38-a080-5dbfec571663', node_type='4', metadata={'file_path': '/home/arthur/Workspace/Perso/RL_Course/data/persona_1002.txt', 'file_name': 'persona_1002.txt', 'file_type': 'text/plain', 'file_size': 122, 'creation_date': '2025-03-10', 'last_modified_date': '2025-03-10'}, hash='15d16222c8939184307ccef689fc9f553b352062a5b0719a64e482bace2c9f71')}, metadata_template='{key}: {value}', metadata_separator='\\n', text='An ecologist specializing in climate change impacts on regional ecosystems, particularly those with diverse plant species.', mimetype='text/plain', start_char_idx=0, end_char_idx=122, metadata_seperator='\\n', text_template='{metadata_str}\\n\\n{content}'), score=0.37361259185976425)], metadata={'f3a38509-e317-48c3-852f-5ee449516c04': {'file_path': '/home/arthur/Workspace/Perso/RL_Course/data/persona_1002.txt', 'file_name': 'persona_1002.txt', 'file_type': 'text/plain', 'file_size': 122, 'creation_date': '2025-03-10', 'last_modified_date': '2025-03-10'}, 'c0fb72aa-7aac-4329-8402-76b0485e21cc': {'file_path': '/home/arthur/Workspace/Perso/RL_Course/data/persona_1002.txt', 'file_name': 'persona_1002.txt', 'file_type': 'text/plain', 'file_size': 122, 'creation_date': '2025-03-10', 'last_modified_date': '2025-03-10'}}), is_error=False)"
      ]
     },
     "execution_count": 7,
     "metadata": {},
     "output_type": "execute_result"
    }
   ],
   "source": [
    "\n",
    "import chromadb\n",
    "\n",
    "from llama_index.core import VectorStoreIndex\n",
    "from llama_index.llms.huggingface_api import HuggingFaceInferenceAPI\n",
    "from llama_index.embeddings.huggingface_api import HuggingFaceInferenceAPIEmbedding\n",
    "from llama_index.core.tools import QueryEngineTool\n",
    "from llama_index.vector_stores.chroma import ChromaVectorStore\n",
    "\n",
    "db = chromadb.PersistentClient(path=\"./alfred_chroma_db\")\n",
    "chroma_collection = db.get_or_create_collection(\"alfred\")\n",
    "vector_store = ChromaVectorStore(chroma_collection=chroma_collection)\n",
    "embed_model = HuggingFaceInferenceAPIEmbedding(model_name=\"BAAI/bge-small-en-v1.5\")\n",
    "llm = HuggingFaceInferenceAPI(model_name=\"meta-llama/Llama-3.2-3B-Instruct\")\n",
    "index = VectorStoreIndex.from_vector_store(\n",
    "    vector_store=vector_store, embed_model=embed_model\n",
    ")\n",
    "query_engine = index.as_query_engine(llm=llm)\n",
    "tool = QueryEngineTool.from_defaults(\n",
    "    query_engine=query_engine,\n",
    "    name=\"some useful name\",\n",
    "    description=\"some useful description\",\n",
    ")\n",
    "await tool.acall(\n",
    "    \"Responds about research on the impact of AI on the future of work and society?\"\n",
    ")\n",
    "\n"
   ]
  },
  {
   "cell_type": "markdown",
   "metadata": {},
   "source": [
    "## Toolspec"
   ]
  },
  {
   "cell_type": "code",
   "execution_count": 8,
   "metadata": {},
   "outputs": [
    {
     "name": "stdout",
     "output_type": "stream",
     "text": [
      "Collecting llama-index-tools-google\n",
      "  Downloading llama_index_tools_google-0.3.0-py3-none-any.whl.metadata (894 bytes)\n",
      "Requirement already satisfied: beautifulsoup4<5.0.0,>=4.12.3 in /home/arthur/miniconda3/envs/agent/lib/python3.11/site-packages (from llama-index-tools-google) (4.12.3)\n",
      "Collecting google-api-python-client<3.0.0,>=2.115.0 (from llama-index-tools-google)\n",
      "  Downloading google_api_python_client-2.163.0-py2.py3-none-any.whl.metadata (6.7 kB)\n",
      "Collecting google-auth-httplib2<0.3.0,>=0.2.0 (from llama-index-tools-google)\n",
      "  Downloading google_auth_httplib2-0.2.0-py2.py3-none-any.whl.metadata (2.2 kB)\n",
      "Collecting google-auth-oauthlib<2.0.0,>=1.2.0 (from llama-index-tools-google)\n",
      "  Downloading google_auth_oauthlib-1.2.1-py2.py3-none-any.whl.metadata (2.7 kB)\n",
      "Requirement already satisfied: llama-index-core<0.13.0,>=0.12.0 in /home/arthur/miniconda3/envs/agent/lib/python3.11/site-packages (from llama-index-tools-google) (0.12.23.post2)\n",
      "Requirement already satisfied: soupsieve>1.2 in /home/arthur/miniconda3/envs/agent/lib/python3.11/site-packages (from beautifulsoup4<5.0.0,>=4.12.3->llama-index-tools-google) (2.6)\n",
      "Collecting httplib2<1.dev0,>=0.19.0 (from google-api-python-client<3.0.0,>=2.115.0->llama-index-tools-google)\n",
      "  Downloading httplib2-0.22.0-py3-none-any.whl.metadata (2.6 kB)\n",
      "Requirement already satisfied: google-auth!=2.24.0,!=2.25.0,<3.0.0.dev0,>=1.32.0 in /home/arthur/miniconda3/envs/agent/lib/python3.11/site-packages (from google-api-python-client<3.0.0,>=2.115.0->llama-index-tools-google) (2.38.0)\n",
      "Requirement already satisfied: google-api-core!=2.0.*,!=2.1.*,!=2.2.*,!=2.3.0,<3.0.0.dev0,>=1.31.5 in /home/arthur/miniconda3/envs/agent/lib/python3.11/site-packages (from google-api-python-client<3.0.0,>=2.115.0->llama-index-tools-google) (2.24.1)\n",
      "Collecting uritemplate<5,>=3.0.1 (from google-api-python-client<3.0.0,>=2.115.0->llama-index-tools-google)\n",
      "  Downloading uritemplate-4.1.1-py2.py3-none-any.whl.metadata (2.9 kB)\n",
      "Requirement already satisfied: requests-oauthlib>=0.7.0 in /home/arthur/miniconda3/envs/agent/lib/python3.11/site-packages (from google-auth-oauthlib<2.0.0,>=1.2.0->llama-index-tools-google) (2.0.0)\n",
      "Requirement already satisfied: PyYAML>=6.0.1 in /home/arthur/miniconda3/envs/agent/lib/python3.11/site-packages (from llama-index-core<0.13.0,>=0.12.0->llama-index-tools-google) (6.0.2)\n",
      "Requirement already satisfied: SQLAlchemy>=1.4.49 in /home/arthur/miniconda3/envs/agent/lib/python3.11/site-packages (from SQLAlchemy[asyncio]>=1.4.49->llama-index-core<0.13.0,>=0.12.0->llama-index-tools-google) (2.0.38)\n",
      "Requirement already satisfied: aiohttp<4.0.0,>=3.8.6 in /home/arthur/miniconda3/envs/agent/lib/python3.11/site-packages (from llama-index-core<0.13.0,>=0.12.0->llama-index-tools-google) (3.9.3)\n",
      "Requirement already satisfied: dataclasses-json in /home/arthur/miniconda3/envs/agent/lib/python3.11/site-packages (from llama-index-core<0.13.0,>=0.12.0->llama-index-tools-google) (0.6.7)\n",
      "Requirement already satisfied: deprecated>=1.2.9.3 in /home/arthur/miniconda3/envs/agent/lib/python3.11/site-packages (from llama-index-core<0.13.0,>=0.12.0->llama-index-tools-google) (1.2.18)\n",
      "Requirement already satisfied: dirtyjson<2.0.0,>=1.0.8 in /home/arthur/miniconda3/envs/agent/lib/python3.11/site-packages (from llama-index-core<0.13.0,>=0.12.0->llama-index-tools-google) (1.0.8)\n",
      "Requirement already satisfied: filetype<2.0.0,>=1.2.0 in /home/arthur/miniconda3/envs/agent/lib/python3.11/site-packages (from llama-index-core<0.13.0,>=0.12.0->llama-index-tools-google) (1.2.0)\n",
      "Requirement already satisfied: fsspec>=2023.5.0 in /home/arthur/miniconda3/envs/agent/lib/python3.11/site-packages (from llama-index-core<0.13.0,>=0.12.0->llama-index-tools-google) (2024.9.0)\n",
      "Requirement already satisfied: httpx in /home/arthur/miniconda3/envs/agent/lib/python3.11/site-packages (from llama-index-core<0.13.0,>=0.12.0->llama-index-tools-google) (0.28.1)\n",
      "Requirement already satisfied: nest-asyncio<2.0.0,>=1.5.8 in /home/arthur/miniconda3/envs/agent/lib/python3.11/site-packages (from llama-index-core<0.13.0,>=0.12.0->llama-index-tools-google) (1.6.0)\n",
      "Requirement already satisfied: networkx>=3.0 in /home/arthur/miniconda3/envs/agent/lib/python3.11/site-packages (from llama-index-core<0.13.0,>=0.12.0->llama-index-tools-google) (3.4.2)\n",
      "Requirement already satisfied: nltk>3.8.1 in /home/arthur/miniconda3/envs/agent/lib/python3.11/site-packages (from llama-index-core<0.13.0,>=0.12.0->llama-index-tools-google) (3.9.1)\n",
      "Requirement already satisfied: numpy in /home/arthur/miniconda3/envs/agent/lib/python3.11/site-packages (from llama-index-core<0.13.0,>=0.12.0->llama-index-tools-google) (1.26.4)\n",
      "Requirement already satisfied: pillow>=9.0.0 in /home/arthur/miniconda3/envs/agent/lib/python3.11/site-packages (from llama-index-core<0.13.0,>=0.12.0->llama-index-tools-google) (11.1.0)\n",
      "Requirement already satisfied: pydantic>=2.8.0 in /home/arthur/miniconda3/envs/agent/lib/python3.11/site-packages (from llama-index-core<0.13.0,>=0.12.0->llama-index-tools-google) (2.10.3)\n",
      "Requirement already satisfied: requests>=2.31.0 in /home/arthur/miniconda3/envs/agent/lib/python3.11/site-packages (from llama-index-core<0.13.0,>=0.12.0->llama-index-tools-google) (2.32.3)\n",
      "Requirement already satisfied: tenacity!=8.4.0,<10.0.0,>=8.2.0 in /home/arthur/miniconda3/envs/agent/lib/python3.11/site-packages (from llama-index-core<0.13.0,>=0.12.0->llama-index-tools-google) (9.0.0)\n",
      "Requirement already satisfied: tiktoken>=0.3.3 in /home/arthur/miniconda3/envs/agent/lib/python3.11/site-packages (from llama-index-core<0.13.0,>=0.12.0->llama-index-tools-google) (0.7.0)\n",
      "Requirement already satisfied: tqdm<5.0.0,>=4.66.1 in /home/arthur/miniconda3/envs/agent/lib/python3.11/site-packages (from llama-index-core<0.13.0,>=0.12.0->llama-index-tools-google) (4.67.1)\n",
      "Requirement already satisfied: typing-extensions>=4.5.0 in /home/arthur/miniconda3/envs/agent/lib/python3.11/site-packages (from llama-index-core<0.13.0,>=0.12.0->llama-index-tools-google) (4.12.2)\n",
      "Requirement already satisfied: typing-inspect>=0.8.0 in /home/arthur/miniconda3/envs/agent/lib/python3.11/site-packages (from llama-index-core<0.13.0,>=0.12.0->llama-index-tools-google) (0.9.0)\n",
      "Requirement already satisfied: wrapt in /home/arthur/miniconda3/envs/agent/lib/python3.11/site-packages (from llama-index-core<0.13.0,>=0.12.0->llama-index-tools-google) (1.17.2)\n",
      "Requirement already satisfied: aiosignal>=1.1.2 in /home/arthur/miniconda3/envs/agent/lib/python3.11/site-packages (from aiohttp<4.0.0,>=3.8.6->llama-index-core<0.13.0,>=0.12.0->llama-index-tools-google) (1.3.2)\n",
      "Requirement already satisfied: attrs>=17.3.0 in /home/arthur/miniconda3/envs/agent/lib/python3.11/site-packages (from aiohttp<4.0.0,>=3.8.6->llama-index-core<0.13.0,>=0.12.0->llama-index-tools-google) (24.3.0)\n",
      "Requirement already satisfied: frozenlist>=1.1.1 in /home/arthur/miniconda3/envs/agent/lib/python3.11/site-packages (from aiohttp<4.0.0,>=3.8.6->llama-index-core<0.13.0,>=0.12.0->llama-index-tools-google) (1.5.0)\n",
      "Requirement already satisfied: multidict<7.0,>=4.5 in /home/arthur/miniconda3/envs/agent/lib/python3.11/site-packages (from aiohttp<4.0.0,>=3.8.6->llama-index-core<0.13.0,>=0.12.0->llama-index-tools-google) (6.1.0)\n",
      "Requirement already satisfied: yarl<2.0,>=1.0 in /home/arthur/miniconda3/envs/agent/lib/python3.11/site-packages (from aiohttp<4.0.0,>=3.8.6->llama-index-core<0.13.0,>=0.12.0->llama-index-tools-google) (1.18.3)\n",
      "Requirement already satisfied: googleapis-common-protos<2.0.dev0,>=1.56.2 in /home/arthur/miniconda3/envs/agent/lib/python3.11/site-packages (from google-api-core!=2.0.*,!=2.1.*,!=2.2.*,!=2.3.0,<3.0.0.dev0,>=1.31.5->google-api-python-client<3.0.0,>=2.115.0->llama-index-tools-google) (1.66.0)\n",
      "Requirement already satisfied: protobuf!=3.20.0,!=3.20.1,!=4.21.0,!=4.21.1,!=4.21.2,!=4.21.3,!=4.21.4,!=4.21.5,<6.0.0.dev0,>=3.19.5 in /home/arthur/miniconda3/envs/agent/lib/python3.11/site-packages (from google-api-core!=2.0.*,!=2.1.*,!=2.2.*,!=2.3.0,<3.0.0.dev0,>=1.31.5->google-api-python-client<3.0.0,>=2.115.0->llama-index-tools-google) (5.29.3)\n",
      "Requirement already satisfied: proto-plus<2.0.0dev,>=1.22.3 in /home/arthur/miniconda3/envs/agent/lib/python3.11/site-packages (from google-api-core!=2.0.*,!=2.1.*,!=2.2.*,!=2.3.0,<3.0.0.dev0,>=1.31.5->google-api-python-client<3.0.0,>=2.115.0->llama-index-tools-google) (1.26.0)\n",
      "Requirement already satisfied: cachetools<6.0,>=2.0.0 in /home/arthur/miniconda3/envs/agent/lib/python3.11/site-packages (from google-auth!=2.24.0,!=2.25.0,<3.0.0.dev0,>=1.32.0->google-api-python-client<3.0.0,>=2.115.0->llama-index-tools-google) (5.5.1)\n",
      "Requirement already satisfied: pyasn1-modules>=0.2.1 in /home/arthur/miniconda3/envs/agent/lib/python3.11/site-packages (from google-auth!=2.24.0,!=2.25.0,<3.0.0.dev0,>=1.32.0->google-api-python-client<3.0.0,>=2.115.0->llama-index-tools-google) (0.4.1)\n",
      "Requirement already satisfied: rsa<5,>=3.1.4 in /home/arthur/miniconda3/envs/agent/lib/python3.11/site-packages (from google-auth!=2.24.0,!=2.25.0,<3.0.0.dev0,>=1.32.0->google-api-python-client<3.0.0,>=2.115.0->llama-index-tools-google) (4.9)\n",
      "Requirement already satisfied: pyparsing!=3.0.0,!=3.0.1,!=3.0.2,!=3.0.3,<4,>=2.4.2 in /home/arthur/miniconda3/envs/agent/lib/python3.11/site-packages (from httplib2<1.dev0,>=0.19.0->google-api-python-client<3.0.0,>=2.115.0->llama-index-tools-google) (3.2.1)\n",
      "Requirement already satisfied: click in /home/arthur/miniconda3/envs/agent/lib/python3.11/site-packages (from nltk>3.8.1->llama-index-core<0.13.0,>=0.12.0->llama-index-tools-google) (8.1.8)\n",
      "Requirement already satisfied: joblib in /home/arthur/miniconda3/envs/agent/lib/python3.11/site-packages (from nltk>3.8.1->llama-index-core<0.13.0,>=0.12.0->llama-index-tools-google) (1.4.2)\n",
      "Requirement already satisfied: regex>=2021.8.3 in /home/arthur/miniconda3/envs/agent/lib/python3.11/site-packages (from nltk>3.8.1->llama-index-core<0.13.0,>=0.12.0->llama-index-tools-google) (2024.11.6)\n",
      "Requirement already satisfied: annotated-types>=0.6.0 in /home/arthur/miniconda3/envs/agent/lib/python3.11/site-packages (from pydantic>=2.8.0->llama-index-core<0.13.0,>=0.12.0->llama-index-tools-google) (0.7.0)\n",
      "Requirement already satisfied: pydantic-core==2.27.1 in /home/arthur/miniconda3/envs/agent/lib/python3.11/site-packages (from pydantic>=2.8.0->llama-index-core<0.13.0,>=0.12.0->llama-index-tools-google) (2.27.1)\n",
      "Requirement already satisfied: charset-normalizer<4,>=2 in /home/arthur/miniconda3/envs/agent/lib/python3.11/site-packages (from requests>=2.31.0->llama-index-core<0.13.0,>=0.12.0->llama-index-tools-google) (3.4.0)\n",
      "Requirement already satisfied: idna<4,>=2.5 in /home/arthur/miniconda3/envs/agent/lib/python3.11/site-packages (from requests>=2.31.0->llama-index-core<0.13.0,>=0.12.0->llama-index-tools-google) (3.10)\n",
      "Requirement already satisfied: urllib3<3,>=1.21.1 in /home/arthur/miniconda3/envs/agent/lib/python3.11/site-packages (from requests>=2.31.0->llama-index-core<0.13.0,>=0.12.0->llama-index-tools-google) (1.26.20)\n",
      "Requirement already satisfied: certifi>=2017.4.17 in /home/arthur/miniconda3/envs/agent/lib/python3.11/site-packages (from requests>=2.31.0->llama-index-core<0.13.0,>=0.12.0->llama-index-tools-google) (2024.12.14)\n",
      "Requirement already satisfied: oauthlib>=3.0.0 in /home/arthur/miniconda3/envs/agent/lib/python3.11/site-packages (from requests-oauthlib>=0.7.0->google-auth-oauthlib<2.0.0,>=1.2.0->llama-index-tools-google) (3.2.2)\n",
      "Requirement already satisfied: greenlet!=0.4.17 in /home/arthur/miniconda3/envs/agent/lib/python3.11/site-packages (from SQLAlchemy>=1.4.49->SQLAlchemy[asyncio]>=1.4.49->llama-index-core<0.13.0,>=0.12.0->llama-index-tools-google) (3.1.1)\n",
      "Requirement already satisfied: mypy-extensions>=0.3.0 in /home/arthur/miniconda3/envs/agent/lib/python3.11/site-packages (from typing-inspect>=0.8.0->llama-index-core<0.13.0,>=0.12.0->llama-index-tools-google) (1.0.0)\n",
      "Requirement already satisfied: marshmallow<4.0.0,>=3.18.0 in /home/arthur/miniconda3/envs/agent/lib/python3.11/site-packages (from dataclasses-json->llama-index-core<0.13.0,>=0.12.0->llama-index-tools-google) (3.26.1)\n",
      "Requirement already satisfied: anyio in /home/arthur/miniconda3/envs/agent/lib/python3.11/site-packages (from httpx->llama-index-core<0.13.0,>=0.12.0->llama-index-tools-google) (4.8.0)\n",
      "Requirement already satisfied: httpcore==1.* in /home/arthur/miniconda3/envs/agent/lib/python3.11/site-packages (from httpx->llama-index-core<0.13.0,>=0.12.0->llama-index-tools-google) (1.0.7)\n",
      "Requirement already satisfied: h11<0.15,>=0.13 in /home/arthur/miniconda3/envs/agent/lib/python3.11/site-packages (from httpcore==1.*->httpx->llama-index-core<0.13.0,>=0.12.0->llama-index-tools-google) (0.14.0)\n",
      "Requirement already satisfied: packaging>=17.0 in /home/arthur/miniconda3/envs/agent/lib/python3.11/site-packages (from marshmallow<4.0.0,>=3.18.0->dataclasses-json->llama-index-core<0.13.0,>=0.12.0->llama-index-tools-google) (24.2)\n",
      "Requirement already satisfied: pyasn1<0.7.0,>=0.4.6 in /home/arthur/miniconda3/envs/agent/lib/python3.11/site-packages (from pyasn1-modules>=0.2.1->google-auth!=2.24.0,!=2.25.0,<3.0.0.dev0,>=1.32.0->google-api-python-client<3.0.0,>=2.115.0->llama-index-tools-google) (0.6.1)\n",
      "Requirement already satisfied: propcache>=0.2.0 in /home/arthur/miniconda3/envs/agent/lib/python3.11/site-packages (from yarl<2.0,>=1.0->aiohttp<4.0.0,>=3.8.6->llama-index-core<0.13.0,>=0.12.0->llama-index-tools-google) (0.2.1)\n",
      "Requirement already satisfied: sniffio>=1.1 in /home/arthur/miniconda3/envs/agent/lib/python3.11/site-packages (from anyio->httpx->llama-index-core<0.13.0,>=0.12.0->llama-index-tools-google) (1.3.1)\n",
      "Downloading llama_index_tools_google-0.3.0-py3-none-any.whl (8.2 kB)\n",
      "Downloading google_api_python_client-2.163.0-py2.py3-none-any.whl (13.1 MB)\n",
      "\u001b[2K   \u001b[90m━━━━━━━━━━━━━━━━━━━━━━━━━━━━━━━━━━━━━━━━\u001b[0m \u001b[32m13.1/13.1 MB\u001b[0m \u001b[31m6.8 MB/s\u001b[0m eta \u001b[36m0:00:00\u001b[0m00:01\u001b[0m00:01\u001b[0m\n",
      "\u001b[?25hDownloading google_auth_httplib2-0.2.0-py2.py3-none-any.whl (9.3 kB)\n",
      "Downloading google_auth_oauthlib-1.2.1-py2.py3-none-any.whl (24 kB)\n",
      "Downloading httplib2-0.22.0-py3-none-any.whl (96 kB)\n",
      "Downloading uritemplate-4.1.1-py2.py3-none-any.whl (10 kB)\n",
      "Installing collected packages: uritemplate, httplib2, google-auth-oauthlib, google-auth-httplib2, google-api-python-client, llama-index-tools-google\n",
      "Successfully installed google-api-python-client-2.163.0 google-auth-httplib2-0.2.0 google-auth-oauthlib-1.2.1 httplib2-0.22.0 llama-index-tools-google-0.3.0 uritemplate-4.1.1\n"
     ]
    }
   ],
   "source": [
    "!pip install llama-index-tools-google"
   ]
  },
  {
   "cell_type": "code",
   "execution_count": 9,
   "metadata": {},
   "outputs": [
    {
     "data": {
      "text/plain": [
       "[<llama_index.core.tools.function_tool.FunctionTool at 0x75cec6eb69d0>,\n",
       " <llama_index.core.tools.function_tool.FunctionTool at 0x75cebdf6b890>,\n",
       " <llama_index.core.tools.function_tool.FunctionTool at 0x75cec64d1390>,\n",
       " <llama_index.core.tools.function_tool.FunctionTool at 0x75cec6eb9650>,\n",
       " <llama_index.core.tools.function_tool.FunctionTool at 0x75cebdd82710>,\n",
       " <llama_index.core.tools.function_tool.FunctionTool at 0x75cec64d34d0>]"
      ]
     },
     "execution_count": 9,
     "metadata": {},
     "output_type": "execute_result"
    }
   ],
   "source": [
    "from llama_index.tools.google import GmailToolSpec\n",
    "\n",
    "tool_spec = GmailToolSpec()\n",
    "tool_spec_list = tool_spec.to_tool_list()\n",
    "tool_spec_list\n",
    "\n"
   ]
  },
  {
   "cell_type": "code",
   "execution_count": 10,
   "metadata": {},
   "outputs": [
    {
     "data": {
      "text/plain": [
       "[('load_data',\n",
       "  \"load_data() -> List[llama_index.core.schema.Document]\\nLoad emails from the user's account.\"),\n",
       " ('search_messages',\n",
       "  \"search_messages(query: str, max_results: Optional[int] = None)\\nSearches email messages given a query string and the maximum number\\n        of results requested by the user\\n           Returns: List of relevant message objects up to the maximum number of results.\\n\\n        Args:\\n            query[str]: The user's query\\n            max_results (Optional[int]): The maximum number of search results\\n            to return.\\n        \"),\n",
       " ('create_draft',\n",
       "  \"create_draft(to: Optional[List[str]] = None, subject: Optional[str] = None, message: Optional[str] = None) -> str\\nCreate and insert a draft email.\\n           Print the returned draft's message and id.\\n           Returns: Draft object, including draft id and message meta data.\\n\\n        Args:\\n            to (Optional[str]): The email addresses to send the message to\\n            subject (Optional[str]): The subject for the event\\n            message (Optional[str]): The message for the event\\n        \"),\n",
       " ('update_draft',\n",
       "  \"update_draft(to: Optional[List[str]] = None, subject: Optional[str] = None, message: Optional[str] = None, draft_id: str = None) -> str\\nUpdate a draft email.\\n           Print the returned draft's message and id.\\n           This function is required to be passed a draft_id that is obtained when creating messages\\n           Returns: Draft object, including draft id and message meta data.\\n\\n        Args:\\n            to (Optional[str]): The email addresses to send the message to\\n            subject (Optional[str]): The subject for the event\\n            message (Optional[str]): The message for the event\\n            draft_id (str): the id of the draft to be updated\\n        \"),\n",
       " ('get_draft',\n",
       "  \"get_draft(draft_id: str = None) -> str\\nGet a draft email.\\n           Print the returned draft's message and id.\\n           Returns: Draft object, including draft id and message meta data.\\n\\n        Args:\\n            draft_id (str): the id of the draft to be updated\\n        \"),\n",
       " ('send_draft',\n",
       "  \"send_draft(draft_id: str = None) -> str\\nSends a draft email.\\n           Print the returned draft's message and id.\\n           Returns: Draft object, including draft id and message meta data.\\n\\n        Args:\\n            draft_id (str): the id of the draft to be updated\\n        \")]"
      ]
     },
     "execution_count": 10,
     "metadata": {},
     "output_type": "execute_result"
    }
   ],
   "source": [
    "[(tool.metadata.name, tool.metadata.description) for tool in tool_spec_list]"
   ]
  },
  {
   "cell_type": "code",
   "execution_count": null,
   "metadata": {},
   "outputs": [],
   "source": []
  }
 ],
 "metadata": {
  "kernelspec": {
   "display_name": "agent",
   "language": "python",
   "name": "python3"
  },
  "language_info": {
   "codemirror_mode": {
    "name": "ipython",
    "version": 3
   },
   "file_extension": ".py",
   "mimetype": "text/x-python",
   "name": "python",
   "nbconvert_exporter": "python",
   "pygments_lexer": "ipython3",
   "version": "3.11.11"
  }
 },
 "nbformat": 4,
 "nbformat_minor": 2
}
